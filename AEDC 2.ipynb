{
 "cells": [
  {
   "cell_type": "code",
   "execution_count": 2,
   "id": "ca2f36f8",
   "metadata": {},
   "outputs": [],
   "source": [
    "import pandas as pd\n",
    "import re\n",
    "import seaborn as sns\n",
    "import matplotlib.pyplot as plt\n",
    "import numpy as np\n",
    "from sklearn.feature_extraction.text import TfidfVectorizer\n",
    "from sklearn.cluster import KMeans\n",
    "from sklearn.manifold import TSNE\n",
    "from collections import defaultdict\n",
    "\n",
    "import warnings\n",
    "warnings.filterwarnings('ignore')"
   ]
  },
  {
   "cell_type": "code",
   "execution_count": 3,
   "id": "31b28133",
   "metadata": {},
   "outputs": [
    {
     "data": {
      "text/html": [
       "<div>\n",
       "<style scoped>\n",
       "    .dataframe tbody tr th:only-of-type {\n",
       "        vertical-align: middle;\n",
       "    }\n",
       "\n",
       "    .dataframe tbody tr th {\n",
       "        vertical-align: top;\n",
       "    }\n",
       "\n",
       "    .dataframe thead th {\n",
       "        text-align: right;\n",
       "    }\n",
       "</style>\n",
       "<table border=\"1\" class=\"dataframe\">\n",
       "  <thead>\n",
       "    <tr style=\"text-align: right;\">\n",
       "      <th></th>\n",
       "      <th>ServiceApprovalNumber</th>\n",
       "      <th>Provider Approval Number</th>\n",
       "      <th>ServiceName</th>\n",
       "      <th>ProviderLegalName</th>\n",
       "      <th>ServiceType</th>\n",
       "      <th>ServiceAddress</th>\n",
       "      <th>Suburb</th>\n",
       "      <th>State</th>\n",
       "      <th>Postcode</th>\n",
       "      <th>Phone</th>\n",
       "      <th>...</th>\n",
       "      <th>Holiday Care Wednesday End Time</th>\n",
       "      <th>Holiday Care Thursday Start Time</th>\n",
       "      <th>Holiday Care Thursday End Time</th>\n",
       "      <th>Holiday Care Friday Start Time</th>\n",
       "      <th>Holiday Care Friday End Time</th>\n",
       "      <th>Holiday Care Saturday Start Time</th>\n",
       "      <th>Holiday Care Saturday End Time</th>\n",
       "      <th>Holiday Care Sunday Start Time</th>\n",
       "      <th>Holiday Care Sunday End Time</th>\n",
       "      <th>Temporarily Closed</th>\n",
       "    </tr>\n",
       "  </thead>\n",
       "  <tbody>\n",
       "    <tr>\n",
       "      <th>0</th>\n",
       "      <td>SE-00000002</td>\n",
       "      <td>PR-00000898</td>\n",
       "      <td>Community Kids Waterford Early Education Centre</td>\n",
       "      <td>G8 Education Limited</td>\n",
       "      <td>Centre-Based Care</td>\n",
       "      <td>8-10 Allora St</td>\n",
       "      <td>WATERFORD WEST</td>\n",
       "      <td>QLD</td>\n",
       "      <td>4133.0</td>\n",
       "      <td>0732009852</td>\n",
       "      <td>...</td>\n",
       "      <td>18:15</td>\n",
       "      <td>06:15</td>\n",
       "      <td>18:15</td>\n",
       "      <td>06:15</td>\n",
       "      <td>18:15</td>\n",
       "      <td>NaN</td>\n",
       "      <td>NaN</td>\n",
       "      <td>NaN</td>\n",
       "      <td>NaN</td>\n",
       "      <td>No</td>\n",
       "    </tr>\n",
       "    <tr>\n",
       "      <th>1</th>\n",
       "      <td>SE-00000003</td>\n",
       "      <td>PR-40029099</td>\n",
       "      <td>KIDVENTURE EARLY LEARNING EAGLEBY</td>\n",
       "      <td>Table Mountain Trading Pty Ltd As The Trustee ...</td>\n",
       "      <td>Centre-Based Care</td>\n",
       "      <td>82 Fryar Road</td>\n",
       "      <td>EAGLEBY</td>\n",
       "      <td>QLD</td>\n",
       "      <td>4207.0</td>\n",
       "      <td>0738073222</td>\n",
       "      <td>...</td>\n",
       "      <td>NaN</td>\n",
       "      <td>NaN</td>\n",
       "      <td>NaN</td>\n",
       "      <td>NaN</td>\n",
       "      <td>NaN</td>\n",
       "      <td>NaN</td>\n",
       "      <td>NaN</td>\n",
       "      <td>NaN</td>\n",
       "      <td>NaN</td>\n",
       "      <td>No</td>\n",
       "    </tr>\n",
       "    <tr>\n",
       "      <th>2</th>\n",
       "      <td>SE-00000004</td>\n",
       "      <td>PR-00000898</td>\n",
       "      <td>Community Kids - Broadbeach Waters</td>\n",
       "      <td>G8 Education Limited</td>\n",
       "      <td>Centre-Based Care</td>\n",
       "      <td>4 Fremar Street</td>\n",
       "      <td>BROADBEACH WATERS</td>\n",
       "      <td>QLD</td>\n",
       "      <td>4217.0</td>\n",
       "      <td>0755920306</td>\n",
       "      <td>...</td>\n",
       "      <td>NaN</td>\n",
       "      <td>NaN</td>\n",
       "      <td>NaN</td>\n",
       "      <td>NaN</td>\n",
       "      <td>NaN</td>\n",
       "      <td>NaN</td>\n",
       "      <td>NaN</td>\n",
       "      <td>NaN</td>\n",
       "      <td>NaN</td>\n",
       "      <td>No</td>\n",
       "    </tr>\n",
       "    <tr>\n",
       "      <th>3</th>\n",
       "      <td>SE-00000005</td>\n",
       "      <td>PR-40002184</td>\n",
       "      <td>Little Scholars School of Early Learning Burle...</td>\n",
       "      <td>The Scholars Group Pty Ltd</td>\n",
       "      <td>Centre-Based Care</td>\n",
       "      <td>143 Christine Ave</td>\n",
       "      <td>BURLEIGH WATERS</td>\n",
       "      <td>QLD</td>\n",
       "      <td>4220.0</td>\n",
       "      <td>0755353288</td>\n",
       "      <td>...</td>\n",
       "      <td>NaN</td>\n",
       "      <td>NaN</td>\n",
       "      <td>NaN</td>\n",
       "      <td>NaN</td>\n",
       "      <td>NaN</td>\n",
       "      <td>NaN</td>\n",
       "      <td>NaN</td>\n",
       "      <td>NaN</td>\n",
       "      <td>NaN</td>\n",
       "      <td>No</td>\n",
       "    </tr>\n",
       "    <tr>\n",
       "      <th>4</th>\n",
       "      <td>SE-00000006</td>\n",
       "      <td>PR-40029104</td>\n",
       "      <td>Small World Child Care Centre</td>\n",
       "      <td>A. &amp; K. Massouras Pty. Ltd. ATF The A Massoura...</td>\n",
       "      <td>Centre-Based Care</td>\n",
       "      <td>113-115 Pappas Way</td>\n",
       "      <td>CARRARA</td>\n",
       "      <td>QLD</td>\n",
       "      <td>4211.0</td>\n",
       "      <td>07 5594 1844</td>\n",
       "      <td>...</td>\n",
       "      <td>NaN</td>\n",
       "      <td>NaN</td>\n",
       "      <td>NaN</td>\n",
       "      <td>NaN</td>\n",
       "      <td>NaN</td>\n",
       "      <td>NaN</td>\n",
       "      <td>NaN</td>\n",
       "      <td>NaN</td>\n",
       "      <td>NaN</td>\n",
       "      <td>No</td>\n",
       "    </tr>\n",
       "  </tbody>\n",
       "</table>\n",
       "<p>5 rows × 97 columns</p>\n",
       "</div>"
      ],
      "text/plain": [
       "  ServiceApprovalNumber Provider Approval Number  \\\n",
       "0           SE-00000002              PR-00000898   \n",
       "1           SE-00000003              PR-40029099   \n",
       "2           SE-00000004              PR-00000898   \n",
       "3           SE-00000005              PR-40002184   \n",
       "4           SE-00000006              PR-40029104   \n",
       "\n",
       "                                         ServiceName  \\\n",
       "0    Community Kids Waterford Early Education Centre   \n",
       "1                  KIDVENTURE EARLY LEARNING EAGLEBY   \n",
       "2                 Community Kids - Broadbeach Waters   \n",
       "3  Little Scholars School of Early Learning Burle...   \n",
       "4                     Small World Child Care Centre    \n",
       "\n",
       "                                   ProviderLegalName        ServiceType  \\\n",
       "0                               G8 Education Limited  Centre-Based Care   \n",
       "1  Table Mountain Trading Pty Ltd As The Trustee ...  Centre-Based Care   \n",
       "2                               G8 Education Limited  Centre-Based Care   \n",
       "3                         The Scholars Group Pty Ltd  Centre-Based Care   \n",
       "4  A. & K. Massouras Pty. Ltd. ATF The A Massoura...  Centre-Based Care   \n",
       "\n",
       "       ServiceAddress             Suburb State  Postcode         Phone  ...  \\\n",
       "0      8-10 Allora St     WATERFORD WEST   QLD    4133.0    0732009852  ...   \n",
       "1       82 Fryar Road            EAGLEBY   QLD    4207.0    0738073222  ...   \n",
       "2     4 Fremar Street  BROADBEACH WATERS   QLD    4217.0    0755920306  ...   \n",
       "3   143 Christine Ave    BURLEIGH WATERS   QLD    4220.0    0755353288  ...   \n",
       "4  113-115 Pappas Way            CARRARA   QLD    4211.0  07 5594 1844  ...   \n",
       "\n",
       "  Holiday Care Wednesday End Time Holiday Care Thursday Start Time  \\\n",
       "0                           18:15                            06:15   \n",
       "1                             NaN                              NaN   \n",
       "2                             NaN                              NaN   \n",
       "3                             NaN                              NaN   \n",
       "4                             NaN                              NaN   \n",
       "\n",
       "   Holiday Care Thursday End Time Holiday Care Friday Start Time  \\\n",
       "0                           18:15                          06:15   \n",
       "1                             NaN                            NaN   \n",
       "2                             NaN                            NaN   \n",
       "3                             NaN                            NaN   \n",
       "4                             NaN                            NaN   \n",
       "\n",
       "  Holiday Care Friday End Time Holiday Care Saturday Start Time  \\\n",
       "0                        18:15                              NaN   \n",
       "1                          NaN                              NaN   \n",
       "2                          NaN                              NaN   \n",
       "3                          NaN                              NaN   \n",
       "4                          NaN                              NaN   \n",
       "\n",
       "  Holiday Care Saturday End Time Holiday Care Sunday Start Time  \\\n",
       "0                            NaN                            NaN   \n",
       "1                            NaN                            NaN   \n",
       "2                            NaN                            NaN   \n",
       "3                            NaN                            NaN   \n",
       "4                            NaN                            NaN   \n",
       "\n",
       "  Holiday Care Sunday End Time Temporarily Closed  \n",
       "0                          NaN                 No  \n",
       "1                          NaN                 No  \n",
       "2                          NaN                 No  \n",
       "3                          NaN                 No  \n",
       "4                          NaN                 No  \n",
       "\n",
       "[5 rows x 97 columns]"
      ]
     },
     "execution_count": 3,
     "metadata": {},
     "output_type": "execute_result"
    }
   ],
   "source": [
    "edu = pd.read_csv('/Users/Vi/Documents/qbus6860/group/Education-services-au-export.csv',na_values=['np','unknown'])\n",
    "edu.head()"
   ]
  },
  {
   "cell_type": "code",
   "execution_count": 6,
   "id": "b9cde779",
   "metadata": {},
   "outputs": [
    {
     "data": {
      "text/html": [
       "<div>\n",
       "<style scoped>\n",
       "    .dataframe tbody tr th:only-of-type {\n",
       "        vertical-align: middle;\n",
       "    }\n",
       "\n",
       "    .dataframe tbody tr th {\n",
       "        vertical-align: top;\n",
       "    }\n",
       "\n",
       "    .dataframe thead th {\n",
       "        text-align: right;\n",
       "    }\n",
       "</style>\n",
       "<table border=\"1\" class=\"dataframe\">\n",
       "  <thead>\n",
       "    <tr style=\"text-align: right;\">\n",
       "      <th></th>\n",
       "      <th>Code</th>\n",
       "      <th>Name</th>\n",
       "      <th>Population</th>\n",
       "      <th>Score</th>\n",
       "      <th>Rank</th>\n",
       "    </tr>\n",
       "  </thead>\n",
       "  <tbody>\n",
       "    <tr>\n",
       "      <th>0</th>\n",
       "      <td>10050</td>\n",
       "      <td>Albury</td>\n",
       "      <td>56093.0</td>\n",
       "      <td>967.904028</td>\n",
       "      <td>232.0</td>\n",
       "    </tr>\n",
       "    <tr>\n",
       "      <th>1</th>\n",
       "      <td>10180</td>\n",
       "      <td>Armidale Regional</td>\n",
       "      <td>29124.0</td>\n",
       "      <td>980.361546</td>\n",
       "      <td>281.0</td>\n",
       "    </tr>\n",
       "    <tr>\n",
       "      <th>2</th>\n",
       "      <td>10250</td>\n",
       "      <td>Ballina</td>\n",
       "      <td>46296.0</td>\n",
       "      <td>1015.142657</td>\n",
       "      <td>411.0</td>\n",
       "    </tr>\n",
       "    <tr>\n",
       "      <th>3</th>\n",
       "      <td>10300</td>\n",
       "      <td>Balranald</td>\n",
       "      <td>2208.0</td>\n",
       "      <td>960.162516</td>\n",
       "      <td>200.0</td>\n",
       "    </tr>\n",
       "    <tr>\n",
       "      <th>4</th>\n",
       "      <td>10470</td>\n",
       "      <td>Bathurst Regional</td>\n",
       "      <td>43567.0</td>\n",
       "      <td>991.494086</td>\n",
       "      <td>330.0</td>\n",
       "    </tr>\n",
       "    <tr>\n",
       "      <th>...</th>\n",
       "      <td>...</td>\n",
       "      <td>...</td>\n",
       "      <td>...</td>\n",
       "      <td>...</td>\n",
       "      <td>...</td>\n",
       "    </tr>\n",
       "    <tr>\n",
       "      <th>542</th>\n",
       "      <td>74660</td>\n",
       "      <td>West Arnhem</td>\n",
       "      <td>6281.0</td>\n",
       "      <td>530.386225</td>\n",
       "      <td>13.0</td>\n",
       "    </tr>\n",
       "    <tr>\n",
       "      <th>543</th>\n",
       "      <td>74680</td>\n",
       "      <td>West Daly</td>\n",
       "      <td>2973.0</td>\n",
       "      <td>439.482988</td>\n",
       "      <td>1.0</td>\n",
       "    </tr>\n",
       "    <tr>\n",
       "      <th>544</th>\n",
       "      <td>79399</td>\n",
       "      <td>Unincorporated NT</td>\n",
       "      <td>6802.0</td>\n",
       "      <td>1043.653061</td>\n",
       "      <td>480.0</td>\n",
       "    </tr>\n",
       "    <tr>\n",
       "      <th>545</th>\n",
       "      <td>89399</td>\n",
       "      <td>Unincorporated ACT</td>\n",
       "      <td>453890.0</td>\n",
       "      <td>1070.922935</td>\n",
       "      <td>514.0</td>\n",
       "    </tr>\n",
       "    <tr>\n",
       "      <th>546</th>\n",
       "      <td>99399</td>\n",
       "      <td>Unincorp. Other Territories</td>\n",
       "      <td>2494.0</td>\n",
       "      <td>989.064584</td>\n",
       "      <td>315.0</td>\n",
       "    </tr>\n",
       "  </tbody>\n",
       "</table>\n",
       "<p>547 rows × 5 columns</p>\n",
       "</div>"
      ],
      "text/plain": [
       "      Code                         Name  Population        Score   Rank\n",
       "0    10050                       Albury     56093.0   967.904028  232.0\n",
       "1    10180            Armidale Regional     29124.0   980.361546  281.0\n",
       "2    10250                      Ballina     46296.0  1015.142657  411.0\n",
       "3    10300                    Balranald      2208.0   960.162516  200.0\n",
       "4    10470            Bathurst Regional     43567.0   991.494086  330.0\n",
       "..     ...                          ...         ...          ...    ...\n",
       "542  74660                  West Arnhem      6281.0   530.386225   13.0\n",
       "543  74680                    West Daly      2973.0   439.482988    1.0\n",
       "544  79399            Unincorporated NT      6802.0  1043.653061  480.0\n",
       "545  89399           Unincorporated ACT    453890.0  1070.922935  514.0\n",
       "546  99399  Unincorp. Other Territories      2494.0   989.064584  315.0\n",
       "\n",
       "[547 rows x 5 columns]"
      ]
     },
     "execution_count": 6,
     "metadata": {},
     "output_type": "execute_result"
    }
   ],
   "source": [
    "seifa_path = pd.ExcelFile('/Users/Vi/Documents/qbus6860/group/Local Government Area, Indexes, SEIFA 2021.xlsx')\n",
    "sheet_name = 'Table 2'\n",
    "seifa_2021 = pd.read_excel(seifa_path,sheet_name = 'Table 2',skiprows = 5)\n",
    "seifa_2021 = seifa_2021.drop(seifa_2021.columns[4],axis=1)\n",
    "seifa_2021 = seifa_2021.drop(seifa_2021.columns[5:],axis=1)\n",
    "seifa_2021 = seifa_2021.drop(index=seifa_2021.index[549])\n",
    "\n",
    "seifa_2021 = seifa_2021.dropna(how='all')\n",
    "seifa_2021 = seifa_2021.reset_index(drop=True)\n",
    "seifa_2021.columns = ['Code','Name','Population','Score','Rank']\n",
    "seifa_2021"
   ]
  },
  {
   "cell_type": "code",
   "execution_count": 7,
   "id": "782f1c34",
   "metadata": {},
   "outputs": [
    {
     "name": "stdout",
     "output_type": "stream",
     "text": [
      "<class 'pandas.core.frame.DataFrame'>\n",
      "RangeIndex: 547 entries, 0 to 546\n",
      "Data columns (total 5 columns):\n",
      " #   Column      Non-Null Count  Dtype  \n",
      "---  ------      --------------  -----  \n",
      " 0   Code        547 non-null    object \n",
      " 1   Name        547 non-null    object \n",
      " 2   Population  547 non-null    float64\n",
      " 3   Score       547 non-null    float64\n",
      " 4   Rank        547 non-null    float64\n",
      "dtypes: float64(3), object(2)\n",
      "memory usage: 21.5+ KB\n"
     ]
    }
   ],
   "source": [
    "seifa_2021.info()"
   ]
  },
  {
   "cell_type": "code",
   "execution_count": 10,
   "id": "219941d0",
   "metadata": {},
   "outputs": [
    {
     "data": {
      "text/html": [
       "<div>\n",
       "<style scoped>\n",
       "    .dataframe tbody tr th:only-of-type {\n",
       "        vertical-align: middle;\n",
       "    }\n",
       "\n",
       "    .dataframe tbody tr th {\n",
       "        vertical-align: top;\n",
       "    }\n",
       "\n",
       "    .dataframe thead th {\n",
       "        text-align: right;\n",
       "    }\n",
       "</style>\n",
       "<table border=\"1\" class=\"dataframe\">\n",
       "  <thead>\n",
       "    <tr style=\"text-align: right;\">\n",
       "      <th></th>\n",
       "      <th>Code</th>\n",
       "      <th>Name</th>\n",
       "      <th>2021Score</th>\n",
       "      <th>2021dv2n</th>\n",
       "      <th>2021dv2p</th>\n",
       "    </tr>\n",
       "  </thead>\n",
       "  <tbody>\n",
       "    <tr>\n",
       "      <th>0</th>\n",
       "      <td>10050</td>\n",
       "      <td>Albury</td>\n",
       "      <td>648</td>\n",
       "      <td>89</td>\n",
       "      <td>13.734568</td>\n",
       "    </tr>\n",
       "    <tr>\n",
       "      <th>1</th>\n",
       "      <td>10180</td>\n",
       "      <td>Armidale Regional</td>\n",
       "      <td>307</td>\n",
       "      <td>42</td>\n",
       "      <td>13.680782</td>\n",
       "    </tr>\n",
       "    <tr>\n",
       "      <th>2</th>\n",
       "      <td>10250</td>\n",
       "      <td>Ballina</td>\n",
       "      <td>402</td>\n",
       "      <td>36</td>\n",
       "      <td>8.955224</td>\n",
       "    </tr>\n",
       "    <tr>\n",
       "      <th>3</th>\n",
       "      <td>10300</td>\n",
       "      <td>Balranald</td>\n",
       "      <td>17</td>\n",
       "      <td>5</td>\n",
       "      <td>29.411765</td>\n",
       "    </tr>\n",
       "    <tr>\n",
       "      <th>4</th>\n",
       "      <td>10470</td>\n",
       "      <td>Bathurst Regional</td>\n",
       "      <td>513</td>\n",
       "      <td>82</td>\n",
       "      <td>15.984405</td>\n",
       "    </tr>\n",
       "    <tr>\n",
       "      <th>...</th>\n",
       "      <td>...</td>\n",
       "      <td>...</td>\n",
       "      <td>...</td>\n",
       "      <td>...</td>\n",
       "      <td>...</td>\n",
       "    </tr>\n",
       "    <tr>\n",
       "      <th>543</th>\n",
       "      <td>74560</td>\n",
       "      <td>Wagait</td>\n",
       "      <td>4</td>\n",
       "      <td>*</td>\n",
       "      <td>*</td>\n",
       "    </tr>\n",
       "    <tr>\n",
       "      <th>544</th>\n",
       "      <td>74660</td>\n",
       "      <td>West Arnhem</td>\n",
       "      <td>68</td>\n",
       "      <td>*</td>\n",
       "      <td>*</td>\n",
       "    </tr>\n",
       "    <tr>\n",
       "      <th>545</th>\n",
       "      <td>74680</td>\n",
       "      <td>West Daly</td>\n",
       "      <td>59</td>\n",
       "      <td>31</td>\n",
       "      <td>52.542373</td>\n",
       "    </tr>\n",
       "    <tr>\n",
       "      <th>546</th>\n",
       "      <td>79399</td>\n",
       "      <td>Unincorporated NT</td>\n",
       "      <td>80</td>\n",
       "      <td>8</td>\n",
       "      <td>10</td>\n",
       "    </tr>\n",
       "    <tr>\n",
       "      <th>547</th>\n",
       "      <td>89399</td>\n",
       "      <td>Unincorporated ACT</td>\n",
       "      <td>5532</td>\n",
       "      <td>735</td>\n",
       "      <td>13.286334</td>\n",
       "    </tr>\n",
       "  </tbody>\n",
       "</table>\n",
       "<p>548 rows × 5 columns</p>\n",
       "</div>"
      ],
      "text/plain": [
       "      Code                Name 2021Score 2021dv2n   2021dv2p\n",
       "0    10050              Albury       648       89  13.734568\n",
       "1    10180   Armidale Regional       307       42  13.680782\n",
       "2    10250             Ballina       402       36   8.955224\n",
       "3    10300           Balranald        17        5  29.411765\n",
       "4    10470   Bathurst Regional       513       82  15.984405\n",
       "..     ...                 ...       ...      ...        ...\n",
       "543  74560              Wagait         4        *          *\n",
       "544  74660         West Arnhem        68        *          *\n",
       "545  74680           West Daly        59       31  52.542373\n",
       "546  79399   Unincorporated NT        80        8         10\n",
       "547  89399  Unincorporated ACT      5532      735  13.286334\n",
       "\n",
       "[548 rows x 5 columns]"
      ]
     },
     "execution_count": 10,
     "metadata": {},
     "output_type": "execute_result"
    }
   ],
   "source": [
    "aedc = '/Users/Vi/Desktop/usyd/qbus6860/DATA/LGA 2009-21(AEDC).xlsx'\n",
    "sheet_name = 'aedc_2021'\n",
    "aedc_2021 = pd.read_excel(aedc,sheet_name = 'aedc_2021')\n",
    "\n",
    "remove_state = ['New South Wales','Victoria','Queensland',\n",
    "               'Western Australia','South Australia',\n",
    "               'Tasmania','Australian Capital Territory','Northern Territory']\n",
    "aedc_2021 = aedc_2021[~aedc_2021['Code'].astype(str).isin(remove_state)]\n",
    "               \n",
    "aedc_2021 = aedc_2021.dropna(how='all')\n",
    "aedc_2021 = aedc_2021.reset_index(drop=True)\n",
    "aedc_2021.columns = ['Code','Name','2021Score','2021dv2n','2021dv2p']\n",
    "\n",
    "\n",
    "aedc_2021"
   ]
  },
  {
   "cell_type": "code",
   "execution_count": 11,
   "id": "358042c5",
   "metadata": {},
   "outputs": [
    {
     "name": "stdout",
     "output_type": "stream",
     "text": [
      "<class 'pandas.core.frame.DataFrame'>\n",
      "RangeIndex: 548 entries, 0 to 547\n",
      "Data columns (total 5 columns):\n",
      " #   Column     Non-Null Count  Dtype \n",
      "---  ------     --------------  ----- \n",
      " 0   Code       548 non-null    object\n",
      " 1   Name       548 non-null    object\n",
      " 2   2021Score  548 non-null    object\n",
      " 3   2021dv2n   548 non-null    object\n",
      " 4   2021dv2p   548 non-null    object\n",
      "dtypes: object(5)\n",
      "memory usage: 21.5+ KB\n"
     ]
    }
   ],
   "source": [
    "aedc_2021.info()"
   ]
  },
  {
   "cell_type": "code",
   "execution_count": 12,
   "id": "9a0170dc",
   "metadata": {},
   "outputs": [
    {
     "name": "stdout",
     "output_type": "stream",
     "text": [
      "2021Score    float64\n",
      "2021dv2n     float64\n",
      "2021dv2p     float64\n",
      "dtype: object\n",
      "   2021Score  2021dv2n   2021dv2p\n",
      "0      648.0      89.0  13.734568\n",
      "1      307.0      42.0  13.680782\n",
      "2      402.0      36.0   8.955224\n",
      "3       17.0       5.0  29.411765\n",
      "4      513.0      82.0  15.984405\n"
     ]
    }
   ],
   "source": [
    "cols = ['2021Score', '2021dv2n', '2021dv2p']\n",
    "aedc_2021[cols].head()\n",
    "aedc_2021[cols].dtypes\n",
    "\n",
    "for c in cols:\n",
    "    aedc_2021[c] = aedc_2021[c].astype(str).str.strip()\n",
    "    \n",
    "for c in cols:\n",
    "    aedc_2021[c] = aedc_2021[c].astype(str).str.strip()\n",
    "    \n",
    "aedc_2021['2021dv2p'] = aedc_2021['2021dv2p'].str.replace('%', '', regex=False)\n",
    "\n",
    "for c in cols:\n",
    "    aedc_2021[c] = pd.to_numeric(aedc_2021[c], errors='coerce')  # 把无法转换的置为 NaN\n",
    "    \n",
    "print(aedc_2021[cols].dtypes)\n",
    "print(aedc_2021[cols].head())"
   ]
  },
  {
   "cell_type": "code",
   "execution_count": 13,
   "id": "be0753da",
   "metadata": {},
   "outputs": [],
   "source": [
    "aedc_2021['Name_clean'] = aedc_2021['Name'].str.lower().str.strip()"
   ]
  },
  {
   "cell_type": "code",
   "execution_count": 14,
   "id": "b7d2bdec",
   "metadata": {},
   "outputs": [
    {
     "data": {
      "text/html": [
       "<div>\n",
       "<style scoped>\n",
       "    .dataframe tbody tr th:only-of-type {\n",
       "        vertical-align: middle;\n",
       "    }\n",
       "\n",
       "    .dataframe tbody tr th {\n",
       "        vertical-align: top;\n",
       "    }\n",
       "\n",
       "    .dataframe thead th {\n",
       "        text-align: right;\n",
       "    }\n",
       "</style>\n",
       "<table border=\"1\" class=\"dataframe\">\n",
       "  <thead>\n",
       "    <tr style=\"text-align: right;\">\n",
       "      <th></th>\n",
       "      <th>Code</th>\n",
       "      <th>Name</th>\n",
       "      <th>2021Score</th>\n",
       "      <th>2021dv2n</th>\n",
       "      <th>2021dv2p</th>\n",
       "      <th>Name_clean</th>\n",
       "      <th>Score</th>\n",
       "      <th>Population</th>\n",
       "      <th>Rank</th>\n",
       "    </tr>\n",
       "  </thead>\n",
       "  <tbody>\n",
       "    <tr>\n",
       "      <th>0</th>\n",
       "      <td>10050</td>\n",
       "      <td>Albury</td>\n",
       "      <td>648.0</td>\n",
       "      <td>89.0</td>\n",
       "      <td>13.734568</td>\n",
       "      <td>albury</td>\n",
       "      <td>967.904028</td>\n",
       "      <td>56093.0</td>\n",
       "      <td>232.0</td>\n",
       "    </tr>\n",
       "    <tr>\n",
       "      <th>1</th>\n",
       "      <td>10180</td>\n",
       "      <td>Armidale Regional</td>\n",
       "      <td>307.0</td>\n",
       "      <td>42.0</td>\n",
       "      <td>13.680782</td>\n",
       "      <td>armidale regional</td>\n",
       "      <td>980.361546</td>\n",
       "      <td>29124.0</td>\n",
       "      <td>281.0</td>\n",
       "    </tr>\n",
       "    <tr>\n",
       "      <th>2</th>\n",
       "      <td>10250</td>\n",
       "      <td>Ballina</td>\n",
       "      <td>402.0</td>\n",
       "      <td>36.0</td>\n",
       "      <td>8.955224</td>\n",
       "      <td>ballina</td>\n",
       "      <td>1015.142657</td>\n",
       "      <td>46296.0</td>\n",
       "      <td>411.0</td>\n",
       "    </tr>\n",
       "    <tr>\n",
       "      <th>3</th>\n",
       "      <td>10300</td>\n",
       "      <td>Balranald</td>\n",
       "      <td>17.0</td>\n",
       "      <td>5.0</td>\n",
       "      <td>29.411765</td>\n",
       "      <td>balranald</td>\n",
       "      <td>960.162516</td>\n",
       "      <td>2208.0</td>\n",
       "      <td>200.0</td>\n",
       "    </tr>\n",
       "    <tr>\n",
       "      <th>4</th>\n",
       "      <td>10470</td>\n",
       "      <td>Bathurst Regional</td>\n",
       "      <td>513.0</td>\n",
       "      <td>82.0</td>\n",
       "      <td>15.984405</td>\n",
       "      <td>bathurst regional</td>\n",
       "      <td>991.494086</td>\n",
       "      <td>43567.0</td>\n",
       "      <td>330.0</td>\n",
       "    </tr>\n",
       "    <tr>\n",
       "      <th>...</th>\n",
       "      <td>...</td>\n",
       "      <td>...</td>\n",
       "      <td>...</td>\n",
       "      <td>...</td>\n",
       "      <td>...</td>\n",
       "      <td>...</td>\n",
       "      <td>...</td>\n",
       "      <td>...</td>\n",
       "      <td>...</td>\n",
       "    </tr>\n",
       "    <tr>\n",
       "      <th>543</th>\n",
       "      <td>74560</td>\n",
       "      <td>Wagait</td>\n",
       "      <td>4.0</td>\n",
       "      <td>NaN</td>\n",
       "      <td>NaN</td>\n",
       "      <td>wagait</td>\n",
       "      <td>984.667904</td>\n",
       "      <td>423.0</td>\n",
       "      <td>294.0</td>\n",
       "    </tr>\n",
       "    <tr>\n",
       "      <th>544</th>\n",
       "      <td>74660</td>\n",
       "      <td>West Arnhem</td>\n",
       "      <td>68.0</td>\n",
       "      <td>NaN</td>\n",
       "      <td>NaN</td>\n",
       "      <td>west arnhem</td>\n",
       "      <td>530.386225</td>\n",
       "      <td>6281.0</td>\n",
       "      <td>13.0</td>\n",
       "    </tr>\n",
       "    <tr>\n",
       "      <th>545</th>\n",
       "      <td>74680</td>\n",
       "      <td>West Daly</td>\n",
       "      <td>59.0</td>\n",
       "      <td>31.0</td>\n",
       "      <td>52.542373</td>\n",
       "      <td>west daly</td>\n",
       "      <td>439.482988</td>\n",
       "      <td>2973.0</td>\n",
       "      <td>1.0</td>\n",
       "    </tr>\n",
       "    <tr>\n",
       "      <th>546</th>\n",
       "      <td>79399</td>\n",
       "      <td>Unincorporated NT</td>\n",
       "      <td>80.0</td>\n",
       "      <td>8.0</td>\n",
       "      <td>10.000000</td>\n",
       "      <td>unincorporated nt</td>\n",
       "      <td>1043.653061</td>\n",
       "      <td>6802.0</td>\n",
       "      <td>480.0</td>\n",
       "    </tr>\n",
       "    <tr>\n",
       "      <th>547</th>\n",
       "      <td>89399</td>\n",
       "      <td>Unincorporated ACT</td>\n",
       "      <td>5532.0</td>\n",
       "      <td>735.0</td>\n",
       "      <td>13.286334</td>\n",
       "      <td>unincorporated act</td>\n",
       "      <td>1070.922935</td>\n",
       "      <td>453890.0</td>\n",
       "      <td>514.0</td>\n",
       "    </tr>\n",
       "  </tbody>\n",
       "</table>\n",
       "<p>548 rows × 9 columns</p>\n",
       "</div>"
      ],
      "text/plain": [
       "      Code                Name  2021Score  2021dv2n   2021dv2p  \\\n",
       "0    10050              Albury      648.0      89.0  13.734568   \n",
       "1    10180   Armidale Regional      307.0      42.0  13.680782   \n",
       "2    10250             Ballina      402.0      36.0   8.955224   \n",
       "3    10300           Balranald       17.0       5.0  29.411765   \n",
       "4    10470   Bathurst Regional      513.0      82.0  15.984405   \n",
       "..     ...                 ...        ...       ...        ...   \n",
       "543  74560              Wagait        4.0       NaN        NaN   \n",
       "544  74660         West Arnhem       68.0       NaN        NaN   \n",
       "545  74680           West Daly       59.0      31.0  52.542373   \n",
       "546  79399   Unincorporated NT       80.0       8.0  10.000000   \n",
       "547  89399  Unincorporated ACT     5532.0     735.0  13.286334   \n",
       "\n",
       "             Name_clean        Score  Population   Rank  \n",
       "0                albury   967.904028     56093.0  232.0  \n",
       "1     armidale regional   980.361546     29124.0  281.0  \n",
       "2               ballina  1015.142657     46296.0  411.0  \n",
       "3             balranald   960.162516      2208.0  200.0  \n",
       "4     bathurst regional   991.494086     43567.0  330.0  \n",
       "..                  ...          ...         ...    ...  \n",
       "543              wagait   984.667904       423.0  294.0  \n",
       "544         west arnhem   530.386225      6281.0   13.0  \n",
       "545           west daly   439.482988      2973.0    1.0  \n",
       "546   unincorporated nt  1043.653061      6802.0  480.0  \n",
       "547  unincorporated act  1070.922935    453890.0  514.0  \n",
       "\n",
       "[548 rows x 9 columns]"
      ]
     },
     "execution_count": 14,
     "metadata": {},
     "output_type": "execute_result"
    }
   ],
   "source": [
    "seifa_2021['Name_clean'] = seifa_2021['Name'].str.lower().str.strip()\n",
    "aedc_seifa_2021 = pd.merge(aedc_2021,seifa_2021[['Name_clean','Score','Population','Rank']],\n",
    "                                   on = 'Name_clean',\n",
    "                                   how = 'left')\n",
    "aedc_seifa_2021"
   ]
  },
  {
   "cell_type": "code",
   "execution_count": 15,
   "id": "c77b87cc",
   "metadata": {},
   "outputs": [],
   "source": [
    "edu['NumberOfApprovedPlaces'] = edu['NumberOfApprovedPlaces'].astype(float)"
   ]
  },
  {
   "cell_type": "code",
   "execution_count": 16,
   "id": "5fce1623",
   "metadata": {},
   "outputs": [],
   "source": [
    "edu['Suburb_clean'] = edu['Suburb'].astype(str).str.strip().str.lower()"
   ]
  },
  {
   "cell_type": "code",
   "execution_count": 17,
   "id": "4302a4e6",
   "metadata": {},
   "outputs": [
    {
     "name": "stdout",
     "output_type": "stream",
     "text": [
      "There are258 suburbs in both two dataframs：\n",
      "['adelaide', 'albany', 'albury', 'alice springs', 'ararat', 'armadale', 'ashburton', 'aurukun', 'ballarat', 'ballina', 'balranald', 'barcaldine', 'bassendean', 'bayswater', 'bellingen', 'belmont', 'benalla', 'berrigan', 'beverley', 'blacktown', 'blayney', 'boddington', 'bourke', 'boyup brook', 'brewarrina', 'brighton', 'brisbane', 'broken hill', 'brookton', 'broome', 'bruce rock', 'bunbury', 'bundaberg', 'burnie', 'burnside', 'burwood', 'busselton', 'cairns', 'cambridge', 'camden', 'capel', 'cardinia', 'carnamah', 'carnarvon', 'casey', 'ceduna', 'cessnock', 'charters towers', 'cherbourg', 'christmas island', 'claremont', 'cleve', 'cloncurry', 'cobar', 'coffs harbour', 'collie', 'coober pedy', 'coolamon', 'coonamble', 'corrigin', 'cottesloe', 'cowra', 'cranbrook', 'croydon', 'cunderdin', 'dalwallinu', 'dardanup', 'darwin', 'denmark', 'devonport', 'doomadgee', 'douglas', 'dowerin', 'dundas', 'dungog', 'east fremantle', 'elliston', 'esperance', 'exmouth', 'fairfield', 'forbes', 'frankston', 'fremantle', 'gawler', 'george town', 'gilgandra', 'gingin', 'gladstone', 'glenelg', 'glenorchy', 'goomalling', 'goondiwindi', 'gosnells', 'griffith', 'gunnedah', 'gympie', 'halls creek', 'harvey', 'hay', 'hepburn', 'hinchinbrook', 'hobart', 'hope vale', 'hornsby', 'horsham', 'hunters hill', 'inverell', 'ipswich', 'jerramungup', 'joondalup', 'junee', 'kalamunda', 'karratha', 'katanning', 'katherine', 'kempsey', 'kiama', 'kimba', 'kojonup', 'kowanyama', 'kulin', 'kyogle', 'lake grace', 'lane cove', 'launceston', 'laverton', 'leeton', 'leonora', 'lismore', 'lithgow', 'liverpool', 'lockhart', 'lockhart river', 'longreach', 'mackay', 'maitland', 'mandurah', 'manjimup', 'manningham', 'mansfield', 'mapoon', 'mareeba', 'maribyrnong', 'marion', 'melbourne', 'melton', 'melville', 'merredin', 'mildura', 'mingenew', 'mitcham', 'monash', 'moora', 'moreland', 'mornington', 'mosman', 'mosman park', 'mount barker', 'mount gambier', 'mount isa', 'mukinbudin', 'mundaring', 'murchison', 'murray bridge', 'muswellbrook', 'nannup', 'napranum', 'narembeen', 'narrabri', 'narrandera', 'narrogin', 'narromine', 'nedlands', 'newcastle', 'north sydney', 'northam', 'northampton', 'oberon', 'orange', 'palm island', 'palmerston', 'parkes', 'parramatta', 'penrith', 'peppermint grove', 'perenjori', 'perth', 'peterborough', 'pormpuraaw', 'port augusta', 'port hedland', 'port lincoln', 'port pirie', 'prospect', 'quairading', 'quilpie', 'randwick', 'ravensthorpe', 'richmond', 'robe', 'rockhampton', 'rockingham', 'roxby downs', 'ryde', 'salisbury', 'shellharbour', 'singleton', 'somerset', 'sorell', 'south perth', 'stirling', 'strathfield', 'streaky bay', 'subiaco', 'swan hill', 'sydney', 'tea tree gully', 'temora', 'tenterfield', 'three springs', 'toodyay', 'toowoomba', 'townsville', 'tumby bay', 'unley', 'uralla', 'victor harbor', 'victoria park', 'vincent', 'wagga wagga', 'wagin', 'walcha', 'walgett', 'walkerville', 'wangaratta', 'wanneroo', 'waroona', 'warren', 'warrnambool', 'waverley', 'weipa', 'wellington', 'wentworth', 'whittlesea', 'whyalla', 'williams', 'willoughby', 'winton', 'wodonga', 'wollongong', 'woollahra', 'woorabinda', 'wudinna', 'wujal wujal', 'wyndham', 'yankalilla', 'yarrabah', 'york']\n"
     ]
    }
   ],
   "source": [
    "seifa_subs= set(aedc_seifa_2021['Name_clean'].dropna().unique())\n",
    "\n",
    "edu_suburbs = set(edu['Suburb_clean'].dropna().unique())\n",
    "\n",
    "dv_subs = seifa_subs.intersection(edu_suburbs)\n",
    "\n",
    "print(f\"There are{len(dv_subs)} suburbs in both two dataframs：\")\n",
    "print(sorted(dv_subs))"
   ]
  },
  {
   "cell_type": "code",
   "execution_count": 18,
   "id": "a14ac355",
   "metadata": {},
   "outputs": [
    {
     "data": {
      "application/vnd.plotly.v1+json": {
       "config": {
        "plotlyServerURL": "https://plot.ly"
       },
       "data": [
        {
         "customdata": [
          [
           "abbotsbury"
          ],
          [
           "abbotsford"
          ],
          [
           "aberdare"
          ],
          [
           "aberdeen"
          ],
          [
           "aberfeldie"
          ],
          [
           "aberfoyle park"
          ],
          [
           "aberglasslyn"
          ],
          [
           "abermain"
          ],
          [
           "acacia gardens"
          ],
          [
           "acacia ridge"
          ],
          [
           "acton"
          ],
          [
           "adaminaby"
          ],
          [
           "adamstown"
          ],
          [
           "adamstown heights"
          ],
          [
           "adelong"
          ],
          [
           "aeroglen"
          ],
          [
           "agnes banks"
          ],
          [
           "agnes water"
          ],
          [
           "ainslie"
          ],
          [
           "aintree"
          ],
          [
           "airds"
          ],
          [
           "airport west"
          ],
          [
           "aitkenvale"
          ],
          [
           "alawa"
          ],
          [
           "albanvale"
          ],
          [
           "albany creek"
          ],
          [
           "albert park"
          ],
          [
           "alberton"
          ],
          [
           "albion"
          ],
          [
           "albion park"
          ],
          [
           "albion park rail"
          ],
          [
           "alderley"
          ],
          [
           "aldgate"
          ],
          [
           "aldinga"
          ],
          [
           "aldinga beach"
          ],
          [
           "alexander heights"
          ],
          [
           "alexandra"
          ],
          [
           "alexandra headland"
          ],
          [
           "alexandra hills"
          ],
          [
           "alexandria"
          ],
          [
           "alfords point"
          ],
          [
           "alfred cove"
          ],
          [
           "alfredton"
          ],
          [
           "algester"
          ],
          [
           "algester east"
          ],
          [
           "alice river"
          ],
          [
           "alkimos"
          ],
          [
           "allambie heights"
          ],
          [
           "allansford"
          ],
          [
           "allawah"
          ],
          [
           "allenby gardens"
          ],
          [
           "allendale east"
          ],
          [
           "allenstown"
          ],
          [
           "alligator creek"
          ],
          [
           "allora"
          ],
          [
           "alphington"
          ],
          [
           "alpurrurulam"
          ],
          [
           "alstonville"
          ],
          [
           "altona"
          ],
          [
           "altona meadows"
          ],
          [
           "altona north"
          ],
          [
           "alyangula"
          ],
          [
           "amaroo"
          ],
          [
           "amata"
          ],
          [
           "ambarvale"
          ],
          [
           "ambrose"
          ],
          [
           "ampilatwatja"
          ],
          [
           "anakie"
          ],
          [
           "andergrove"
          ],
          [
           "andergrove lakes"
          ],
          [
           "andrews farm"
          ],
          [
           "angaston"
          ],
          [
           "angle park"
          ],
          [
           "angle vale"
          ],
          [
           "anglesea"
          ],
          [
           "angurugu community"
          ],
          [
           "angus"
          ],
          [
           "anna bay"
          ],
          [
           "annandale"
          ],
          [
           "annangrove"
          ],
          [
           "annerley"
          ],
          [
           "anstead"
          ],
          [
           "anula"
          ],
          [
           "apollo bay"
          ],
          [
           "appin"
          ],
          [
           "applecross"
          ],
          [
           "araluen"
          ],
          [
           "arana hills"
          ],
          [
           "aranda"
          ],
          [
           "arcadia"
          ],
          [
           "arcadia vale"
          ],
          [
           "archerfield"
          ],
          [
           "ardeer"
          ],
          [
           "ardlethan"
          ],
          [
           "ardmona"
          ],
          [
           "ardross"
          ],
          [
           "ardrossan"
          ],
          [
           "argenton"
          ],
          [
           "ariah park"
          ],
          [
           "armidale"
          ],
          [
           "armstrong creek"
          ],
          [
           "arncliffe"
          ],
          [
           "arnolds creek"
          ],
          [
           "aroona"
          ],
          [
           "artarmon"
          ],
          [
           "arundel"
          ],
          [
           "ascot"
          ],
          [
           "ascot vale"
          ],
          [
           "ascot vale west"
          ],
          [
           "ashbury"
          ],
          [
           "ashby"
          ],
          [
           "ashcroft"
          ],
          [
           "ashfield"
          ],
          [
           "ashford"
          ],
          [
           "ashgrove"
          ],
          [
           "ashmont"
          ],
          [
           "ashmore"
          ],
          [
           "ashtonfield"
          ],
          [
           "ashwood"
          ],
          [
           "aspendale"
          ],
          [
           "aspendale gardens"
          ],
          [
           "aspley"
          ],
          [
           "asquith"
          ],
          [
           "athelstone"
          ],
          [
           "atherton"
          ],
          [
           "attadale"
          ],
          [
           "attwood"
          ],
          [
           "atwell"
          ],
          [
           "aubin grove"
          ],
          [
           "auburn"
          ],
          [
           "auchenflower"
          ],
          [
           "augathella"
          ],
          [
           "augusta"
          ],
          [
           "augustine heights"
          ],
          [
           "austinmer"
          ],
          [
           "austral"
          ],
          [
           "australind"
          ],
          [
           "avalon"
          ],
          [
           "avalon beach"
          ],
          [
           "aveley"
          ],
          [
           "avenel"
          ],
          [
           "avoca"
          ],
          [
           "avoca beach"
          ],
          [
           "avondale heights"
          ],
          [
           "avonsleigh"
          ],
          [
           "axe creek"
          ],
          [
           "axedale"
          ],
          [
           "ayr"
          ],
          [
           "babinda"
          ],
          [
           "bacchus marsh"
          ],
          [
           "badger creek"
          ],
          [
           "badu island"
          ],
          [
           "baffle creek"
          ],
          [
           "bagdad"
          ],
          [
           "bahrs scrub"
          ],
          [
           "bairnsdale"
          ],
          [
           "bakers hill"
          ],
          [
           "bakewell"
          ],
          [
           "balaclava"
          ],
          [
           "balaklava"
          ],
          [
           "balcatta"
          ],
          [
           "bald hills"
          ],
          [
           "baldivis"
          ],
          [
           "balga"
          ],
          [
           "balgowlah"
          ],
          [
           "balgowlah heights"
          ],
          [
           "balgownie"
          ],
          [
           "ballajura"
          ],
          [
           "ballan"
          ],
          [
           "ballarat central"
          ],
          [
           "ballarat east"
          ],
          [
           "ballarat north"
          ],
          [
           "balmain"
          ],
          [
           "balmain east"
          ],
          [
           "balmoral"
          ],
          [
           "balnarring"
          ],
          [
           "balwyn"
          ],
          [
           "balwyn north"
          ],
          [
           "bamaga"
          ],
          [
           "bandiana"
          ],
          [
           "bangalow"
          ],
          [
           "bangholme"
          ],
          [
           "bangor"
          ],
          [
           "banksia"
          ],
          [
           "banksia beach"
          ],
          [
           "banksia grove"
          ],
          [
           "banksia park"
          ],
          [
           "bankstown"
          ],
          [
           "bankstown airport"
          ],
          [
           "bannockburn"
          ],
          [
           "banora point"
          ],
          [
           "banyo"
          ],
          [
           "baradine"
          ],
          [
           "baralaba"
          ],
          [
           "baranduda"
          ],
          [
           "barangaroo"
          ],
          [
           "barden ridge"
          ],
          [
           "bardia"
          ],
          [
           "bardon"
          ],
          [
           "bardwell park"
          ],
          [
           "bardwell valley"
          ],
          [
           "bargara"
          ],
          [
           "bargo"
          ],
          [
           "barham"
          ],
          [
           "barmah town"
          ],
          [
           "barmera"
          ],
          [
           "barnawartha"
          ],
          [
           "barnsley"
          ],
          [
           "barooga"
          ],
          [
           "barraba"
          ],
          [
           "barrack heights"
          ],
          [
           "barton"
          ],
          [
           "barunga"
          ],
          [
           "barwon heads"
          ],
          [
           "basin view"
          ],
          [
           "bass hill"
          ],
          [
           "batchelor"
          ],
          [
           "bateau bay"
          ],
          [
           "batehaven"
          ],
          [
           "bateman"
          ],
          [
           "batemans bay"
          ],
          [
           "bathurst"
          ],
          [
           "batlow"
          ],
          [
           "battery hill"
          ],
          [
           "battery point"
          ],
          [
           "bauhinia"
          ],
          [
           "baulkham hills"
          ],
          [
           "baxter"
          ],
          [
           "bayles"
          ],
          [
           "baynton"
          ],
          [
           "bayswater north"
          ],
          [
           "bayview"
          ],
          [
           "bayview heights"
          ],
          [
           "beachlands"
          ],
          [
           "beachmere"
          ],
          [
           "beachport"
          ],
          [
           "beacon hill"
          ],
          [
           "beaconsfield"
          ],
          [
           "beaconsfield upper"
          ],
          [
           "beaudesert"
          ],
          [
           "beaudesert town"
          ],
          [
           "beaufort"
          ],
          [
           "beaumaris"
          ],
          [
           "beaumaris east"
          ],
          [
           "beaumont hills"
          ],
          [
           "beauty point"
          ],
          [
           "beckenham"
          ],
          [
           "bedford"
          ],
          [
           "bedford park"
          ],
          [
           "bedfordale"
          ],
          [
           "beeac"
          ],
          [
           "beechboro"
          ],
          [
           "beechmont"
          ],
          [
           "beechwood"
          ],
          [
           "beechworth"
          ],
          [
           "beecroft"
          ],
          [
           "beeliar"
          ],
          [
           "beenleigh"
          ],
          [
           "beerburrum"
          ],
          [
           "beerwah"
          ],
          [
           "bees creek"
          ],
          [
           "bega"
          ],
          [
           "belair"
          ],
          [
           "belconnen"
          ],
          [
           "beldon"
          ],
          [
           "belfield"
          ],
          [
           "belgian gardens"
          ],
          [
           "belgrave"
          ],
          [
           "belgrave heights"
          ],
          [
           "belgrave south"
          ],
          [
           "bell park"
          ],
          [
           "bell post hill"
          ],
          [
           "bella vista"
          ],
          [
           "bellambi"
          ],
          [
           "bellbird"
          ],
          [
           "bellbird park"
          ],
          [
           "bellbowrie"
          ],
          [
           "bellbrae"
          ],
          [
           "bellbridge"
          ],
          [
           "bellerive"
          ],
          [
           "bellevue heights"
          ],
          [
           "bellevue hill"
          ],
          [
           "bellfield"
          ],
          [
           "bellmere"
          ],
          [
           "belmont north"
          ],
          [
           "belmore"
          ],
          [
           "belrose"
          ],
          [
           "bendemeer"
          ],
          [
           "bendigo"
          ],
          [
           "bendigo south"
          ],
          [
           "bennett springs"
          ],
          [
           "bennettswood"
          ],
          [
           "benowa"
          ],
          [
           "bensville"
          ],
          [
           "bentleigh"
          ],
          [
           "bentleigh east"
          ],
          [
           "bentley"
          ],
          [
           "bentley park"
          ],
          [
           "berala"
          ],
          [
           "beresfield"
          ],
          [
           "beresford"
          ],
          [
           "berkeley"
          ],
          [
           "berkeley vale"
          ],
          [
           "berkshire park"
          ],
          [
           "bermagui"
          ],
          [
           "berowra"
          ],
          [
           "berowra heights"
          ],
          [
           "berri"
          ],
          [
           "berridale"
          ],
          [
           "berriedale"
          ],
          [
           "berrimah"
          ],
          [
           "berrinba"
          ],
          [
           "berry"
          ],
          [
           "berry springs"
          ],
          [
           "berserker"
          ],
          [
           "bertram"
          ],
          [
           "berwick"
          ],
          [
           "beswick"
          ],
          [
           "bethania"
          ],
          [
           "beulah"
          ],
          [
           "beulah park"
          ],
          [
           "beveridge"
          ],
          [
           "beverley park"
          ],
          [
           "beverly hills"
          ],
          [
           "bexhill"
          ],
          [
           "bexley"
          ],
          [
           "bexley north"
          ],
          [
           "bibra lake"
          ],
          [
           "bicheno"
          ],
          [
           "bicton"
          ],
          [
           "bidwill"
          ],
          [
           "big hill"
          ],
          [
           "biggenden"
          ],
          [
           "biggera waters"
          ],
          [
           "bilambil"
          ],
          [
           "bilambil heights"
          ],
          [
           "bilgola"
          ],
          [
           "bilgola plateau"
          ],
          [
           "bilinga"
          ],
          [
           "billinudgel"
          ],
          [
           "biloela"
          ],
          [
           "bingara"
          ],
          [
           "binnaway"
          ],
          [
           "binningup"
          ],
          [
           "birchgrove"
          ],
          [
           "birchip"
          ],
          [
           "birdwood"
          ],
          [
           "birkdale"
          ],
          [
           "birkenhead"
          ],
          [
           "birregurra"
          ],
          [
           "birrong"
          ],
          [
           "birtinya"
          ],
          [
           "birubi point"
          ],
          [
           "bittern"
          ],
          [
           "black forest"
          ],
          [
           "black hill"
          ],
          [
           "black rock"
          ],
          [
           "blackall"
          ],
          [
           "blackalls park"
          ],
          [
           "blackburn"
          ],
          [
           "blackburn north"
          ],
          [
           "blackburn south"
          ],
          [
           "blackbutt"
          ],
          [
           "blackett"
          ],
          [
           "blackheath"
          ],
          [
           "blackmans bay"
          ],
          [
           "blacks beach"
          ],
          [
           "blacksmiths"
          ],
          [
           "blacksoil"
          ],
          [
           "blackstone"
          ],
          [
           "blacktown south"
          ],
          [
           "blackwater"
          ],
          [
           "blackwood"
          ],
          [
           "blair athol"
          ],
          [
           "blairmount"
          ],
          [
           "blakebrook"
          ],
          [
           "blakehurst"
          ],
          [
           "blakeview"
          ],
          [
           "blaxland"
          ],
          [
           "blaxland east"
          ],
          [
           "bli bli"
          ],
          [
           "bligh park"
          ],
          [
           "blowhard"
          ],
          [
           "blue haven"
          ],
          [
           "bluewater"
          ],
          [
           "bluff point"
          ],
          [
           "blyth"
          ],
          [
           "boambee"
          ],
          [
           "boambee east"
          ],
          [
           "boat harbour"
          ],
          [
           "bogangar"
          ],
          [
           "boggabilla"
          ],
          [
           "boggabri"
          ],
          [
           "bohle"
          ],
          [
           "bohle plains"
          ],
          [
           "boigu island"
          ],
          [
           "boisdale"
          ],
          [
           "bokarina"
          ],
          [
           "bollon"
          ],
          [
           "bolton point"
          ],
          [
           "bolwarra"
          ],
          [
           "bomaderry"
          ],
          [
           "bombala"
          ],
          [
           "bona vista"
          ],
          [
           "bonbeach"
          ],
          [
           "bondi"
          ],
          [
           "bondi beach"
          ],
          [
           "bondi junction"
          ],
          [
           "boneo"
          ],
          [
           "bongaree"
          ],
          [
           "bonnells bay"
          ],
          [
           "bonner"
          ],
          [
           "bonnet bay"
          ],
          [
           "bonnyrigg"
          ],
          [
           "bonnyrigg heights"
          ],
          [
           "bonogin"
          ],
          [
           "bonshaw"
          ],
          [
           "bonython"
          ],
          [
           "booker bay"
          ],
          [
           "boolaroo"
          ],
          [
           "boolarra"
          ],
          [
           "booleroo centre"
          ],
          [
           "boomerang beach"
          ],
          [
           "boonah"
          ],
          [
           "boondall"
          ],
          [
           "booragoon"
          ],
          [
           "booragul"
          ],
          [
           "boorooma"
          ],
          [
           "boorowa"
          ],
          [
           "boort"
          ],
          [
           "booval"
          ],
          [
           "bordertown"
          ],
          [
           "boronia"
          ],
          [
           "boronia heights"
          ],
          [
           "boronia west"
          ],
          [
           "borroloola"
          ],
          [
           "bossley park"
          ],
          [
           "botanic ridge"
          ],
          [
           "botany"
          ],
          [
           "boulder"
          ],
          [
           "bourkelands"
          ],
          [
           "bow bowing"
          ],
          [
           "bowden"
          ],
          [
           "bowen"
          ],
          [
           "bowen hills"
          ],
          [
           "bowral"
          ],
          [
           "bowraville"
          ],
          [
           "box hill"
          ],
          [
           "box hill north"
          ],
          [
           "box hill south"
          ],
          [
           "boyne island"
          ],
          [
           "brabham"
          ],
          [
           "bracken ridge"
          ],
          [
           "bradbury"
          ],
          [
           "braddon"
          ],
          [
           "brahma lodge"
          ],
          [
           "braidwood"
          ],
          [
           "braitling"
          ],
          [
           "branxholme"
          ],
          [
           "branxton"
          ],
          [
           "branyan"
          ],
          [
           "brassall"
          ],
          [
           "bray park"
          ],
          [
           "braybrook"
          ],
          [
           "breakfast point"
          ],
          [
           "breakwater"
          ],
          [
           "bredbo"
          ],
          [
           "bremer bay"
          ],
          [
           "brentwood"
          ],
          [
           "briagolong"
          ],
          [
           "briar hill"
          ],
          [
           "bribbaree"
          ],
          [
           "bribie island"
          ],
          [
           "bridgeman downs"
          ],
          [
           "bridgetown"
          ],
          [
           "bridgewater"
          ],
          [
           "bridport"
          ],
          [
           "bright"
          ],
          [
           "brighton east"
          ],
          [
           "brighton le sands"
          ],
          [
           "brighton-le-sands"
          ],
          [
           "bringelly"
          ],
          [
           "brinkin"
          ],
          [
           "brinkworth"
          ],
          [
           "brinsmead"
          ],
          [
           "brisbane airport"
          ],
          [
           "brisbane city"
          ],
          [
           "broadbeach"
          ],
          [
           "broadbeach waters"
          ],
          [
           "broadford"
          ],
          [
           "broadmeadow"
          ],
          [
           "broadmeadows"
          ],
          [
           "broadview"
          ],
          [
           "broadway"
          ],
          [
           "brompton"
          ],
          [
           "bronte"
          ],
          [
           "brookdale"
          ],
          [
           "brookfield"
          ],
          [
           "brooklyn"
          ],
          [
           "brooklyn park"
          ],
          [
           "brookvale"
          ],
          [
           "brookwater"
          ],
          [
           "broulee"
          ],
          [
           "brown hill"
          ],
          [
           "browns plains"
          ],
          [
           "bruce"
          ],
          [
           "brunswick"
          ],
          [
           "brunswick east"
          ],
          [
           "brunswick heads"
          ],
          [
           "brunswick north"
          ],
          [
           "brunswick west"
          ],
          [
           "bruthen"
          ],
          [
           "buangor"
          ],
          [
           "bucasia"
          ],
          [
           "bucca"
          ],
          [
           "buddina"
          ],
          [
           "buderim"
          ],
          [
           "budgewoi"
          ],
          [
           "buff point"
          ],
          [
           "bulahdelah"
          ],
          [
           "bulgarra"
          ],
          [
           "bulimba"
          ],
          [
           "bull creek"
          ],
          [
           "bulleen"
          ],
          [
           "bulli"
          ],
          [
           "bullsbrook"
          ],
          [
           "buln buln"
          ],
          [
           "bundaberg central"
          ],
          [
           "bundaberg east"
          ],
          [
           "bundaberg north"
          ],
          [
           "bundaberg south"
          ],
          [
           "bundaberg west"
          ],
          [
           "bundall"
          ],
          [
           "bundamba"
          ],
          [
           "bundanoon"
          ],
          [
           "bundarra"
          ],
          [
           "bundeena"
          ],
          [
           "bundoora"
          ],
          [
           "bungalow"
          ],
          [
           "bungaree"
          ],
          [
           "bungendore"
          ],
          [
           "buninyong"
          ],
          [
           "bunyip"
          ],
          [
           "buranda"
          ],
          [
           "burbank"
          ],
          [
           "burdell"
          ],
          [
           "burketown"
          ],
          [
           "burleigh heads"
          ],
          [
           "burleigh waters"
          ],
          [
           "burleigh west"
          ],
          [
           "burnett heads"
          ],
          [
           "burns beach"
          ],
          [
           "burnside heights"
          ],
          [
           "buronga"
          ],
          [
           "burpengary"
          ],
          [
           "burpengary east"
          ],
          [
           "burra"
          ],
          [
           "burradoo"
          ],
          [
           "burraneer"
          ],
          [
           "burrawang"
          ],
          [
           "burren junction"
          ],
          [
           "burringbar"
          ],
          [
           "burrumbuttock"
          ],
          [
           "burswood"
          ],
          [
           "burton"
          ],
          [
           "burwood east"
          ],
          [
           "burwood heights"
          ],
          [
           "busby"
          ],
          [
           "bushland beach"
          ],
          [
           "bute"
          ],
          [
           "butler"
          ],
          [
           "buxton"
          ],
          [
           "byford"
          ],
          [
           "byron bay"
          ],
          [
           "cabarita"
          ],
          [
           "cable beach"
          ],
          [
           "caboolture"
          ],
          [
           "caboolture south"
          ],
          [
           "cabramatta"
          ],
          [
           "cabramatta west"
          ],
          [
           "caddens"
          ],
          [
           "cairnlea"
          ],
          [
           "cairns city"
          ],
          [
           "calala"
          ],
          [
           "calamvale"
          ],
          [
           "calderwood"
          ],
          [
           "calen"
          ],
          [
           "california gully"
          ],
          [
           "calista"
          ],
          [
           "callaghan"
          ],
          [
           "callala bay"
          ],
          [
           "callington"
          ],
          [
           "calliope"
          ],
          [
           "caloundra"
          ],
          [
           "caloundra west"
          ],
          [
           "calwell"
          ],
          [
           "camberwell"
          ],
          [
           "camberwell east"
          ],
          [
           "cambewarra"
          ],
          [
           "cambooya"
          ],
          [
           "cambridge gardens"
          ],
          [
           "cambridge park"
          ],
          [
           "camden park"
          ],
          [
           "camden south"
          ],
          [
           "cameron park"
          ],
          [
           "camillo"
          ],
          [
           "camira"
          ],
          [
           "cammeray"
          ],
          [
           "camp hill"
          ],
          [
           "camp mountain"
          ],
          [
           "campania"
          ],
          [
           "campbell"
          ],
          [
           "campbell town"
          ],
          [
           "campbellfield"
          ],
          [
           "campbells creek"
          ],
          [
           "campbelltown"
          ],
          [
           "camperdown"
          ],
          [
           "campsie"
          ],
          [
           "canadian"
          ],
          [
           "canberra"
          ],
          [
           "canberra airport"
          ],
          [
           "canley heights"
          ],
          [
           "canley vale"
          ],
          [
           "canning vale"
          ],
          [
           "cannington"
          ],
          [
           "cannon hill"
          ],
          [
           "cannonvale"
          ],
          [
           "canowindra"
          ],
          [
           "canterbury"
          ],
          [
           "canterbury south"
          ],
          [
           "canungra"
          ],
          [
           "capalaba"
          ],
          [
           "cape clear"
          ],
          [
           "capella"
          ],
          [
           "capital hill"
          ],
          [
           "captains flat"
          ],
          [
           "caragabal"
          ],
          [
           "caravonica"
          ],
          [
           "carbrook"
          ],
          [
           "cardiff"
          ],
          [
           "cardiff south"
          ],
          [
           "cardwell"
          ],
          [
           "carey bay"
          ],
          [
           "carina"
          ],
          [
           "carina heights"
          ],
          [
           "carindale"
          ],
          [
           "carine"
          ],
          [
           "caringbah"
          ],
          [
           "caringbah south"
          ],
          [
           "carlingford"
          ],
          [
           "carlisle"
          ],
          [
           "carlton"
          ],
          [
           "carlton north"
          ],
          [
           "carlton,"
          ],
          [
           "carmila"
          ],
          [
           "carnegie"
          ],
          [
           "carnes hill"
          ],
          [
           "carole park"
          ],
          [
           "caroline springs"
          ],
          [
           "carramar"
          ],
          [
           "carrara"
          ],
          [
           "carrington"
          ],
          [
           "carrum"
          ],
          [
           "carrum downs"
          ],
          [
           "carseldine"
          ],
          [
           "carss park"
          ],
          [
           "cartwright"
          ],
          [
           "cashmere"
          ],
          [
           "casino"
          ],
          [
           "casterton"
          ],
          [
           "castle cove"
          ],
          [
           "castle hill"
          ],
          [
           "castlecrag"
          ],
          [
           "castlemaine"
          ],
          [
           "castlereagh"
          ],
          [
           "casuarina"
          ],
          [
           "casula"
          ],
          [
           "catherine field"
          ],
          [
           "cattai"
          ],
          [
           "caulfield"
          ],
          [
           "caulfield east"
          ],
          [
           "caulfield north"
          ],
          [
           "caulfield south"
          ],
          [
           "cavendish"
          ],
          [
           "caversham"
          ],
          [
           "caves beach"
          ],
          [
           "cawarral"
          ],
          [
           "cawongla"
          ],
          [
           "cecil hills"
          ],
          [
           "cedar creek"
          ],
          [
           "cedar grove"
          ],
          [
           "centenary heights"
          ],
          [
           "centennial park"
          ],
          [
           "ceres"
          ],
          [
           "chadstone"
          ],
          [
           "chain valley bay"
          ],
          [
           "chambers flat"
          ],
          [
           "champion lakes"
          ],
          [
           "chapel hill"
          ],
          [
           "chapman"
          ],
          [
           "charlemont"
          ],
          [
           "charles town"
          ],
          [
           "charlestown"
          ],
          [
           "charleville"
          ],
          [
           "charlton"
          ],
          [
           "charmhaven"
          ],
          [
           "charnwood"
          ],
          [
           "charters towers city"
          ],
          [
           "chatham"
          ],
          [
           "chatswood"
          ],
          [
           "chatsworth"
          ],
          [
           "chelmer"
          ],
          [
           "chelsea"
          ],
          [
           "chelsea heights"
          ],
          [
           "cheltenham"
          ],
          [
           "chermside"
          ],
          [
           "chermside west"
          ],
          [
           "cherrybrook"
          ],
          [
           "chester hill"
          ],
          [
           "chevallum"
          ],
          [
           "chifley"
          ],
          [
           "childers"
          ],
          [
           "chillingham"
          ],
          [
           "chiltern"
          ],
          [
           "chinchilla"
          ],
          [
           "chinderah"
          ],
          [
           "chippendale"
          ],
          [
           "chipping norton"
          ],
          [
           "chirnside park"
          ],
          [
           "chisholm"
          ],
          [
           "chittaway bay"
          ],
          [
           "christie downs"
          ],
          [
           "christies beach"
          ],
          [
           "chum creek"
          ],
          [
           "churchill"
          ],
          [
           "chuwar"
          ],
          [
           "city beach"
          ],
          [
           "clapham"
          ],
          [
           "clare"
          ],
          [
           "claremont meadows"
          ],
          [
           "clarence park"
          ],
          [
           "clarence town"
          ],
          [
           "clarendon"
          ],
          [
           "clarendon via lowood"
          ],
          [
           "clarinda"
          ],
          [
           "clarkson"
          ],
          [
           "clayfield"
          ],
          [
           "claymore"
          ],
          [
           "clayton"
          ],
          [
           "clayton north"
          ],
          [
           "clayton south"
          ],
          [
           "clear island waters"
          ],
          [
           "clearview"
          ],
          [
           "clemton park"
          ],
          [
           "clergate"
          ],
          [
           "clermont"
          ],
          [
           "cleveland"
          ],
          [
           "clifton"
          ],
          [
           "clifton beach"
          ],
          [
           "clifton hill"
          ],
          [
           "clifton springs"
          ],
          [
           "clinton"
          ],
          [
           "clontarf"
          ],
          [
           "clovelly"
          ],
          [
           "clovelly park"
          ],
          [
           "cloverdale"
          ],
          [
           "clunes"
          ],
          [
           "clyde"
          ],
          [
           "clyde north"
          ],
          [
           "coal point"
          ],
          [
           "cobargo"
          ],
          [
           "cobbitty"
          ],
          [
           "cobblebank"
          ],
          [
           "cobden"
          ],
          [
           "cobdogla"
          ],
          [
           "cobram"
          ],
          [
           "coburg"
          ],
          [
           "coburg east"
          ],
          [
           "coburg north"
          ],
          [
           "cockatoo"
          ],
          [
           "cockatoo valley"
          ],
          [
           "cockburn central"
          ],
          [
           "coen"
          ],
          [
           "coes creek"
          ],
          [
           "coffee camp"
          ],
          [
           "cohuna"
          ],
          [
           "coimadai"
          ],
          [
           "colac"
          ],
          [
           "colbinabbin"
          ],
          [
           "coldstream"
          ],
          [
           "coleambally"
          ],
          [
           "colebee"
          ],
          [
           "coledale"
          ],
          [
           "coleraine"
          ],
          [
           "collarenebri"
          ],
          [
           "collaroy"
          ],
          [
           "collaroy plateau"
          ],
          [
           "collector"
          ],
          [
           "college park"
          ],
          [
           "collingwood"
          ],
          [
           "collingwood park"
          ],
          [
           "collinsvale"
          ],
          [
           "collinsville"
          ],
          [
           "collinswood"
          ],
          [
           "colo vale"
          ],
          [
           "colonel light gardens"
          ],
          [
           "colyton"
          ],
          [
           "comboyne"
          ],
          [
           "como"
          ],
          [
           "como west"
          ],
          [
           "concord"
          ],
          [
           "concord west"
          ],
          [
           "condell park"
          ],
          [
           "conder"
          ],
          [
           "condobolin"
          ],
          [
           "condon"
          ],
          [
           "congupna"
          ],
          [
           "coniston"
          ],
          [
           "connells point"
          ],
          [
           "connolly"
          ],
          [
           "constitution hill"
          ],
          [
           "coogee"
          ],
          [
           "cooks hill"
          ],
          [
           "cooktown"
          ],
          [
           "coolabunia"
          ],
          [
           "coolah"
          ],
          [
           "coolalinga"
          ],
          [
           "coolangatta"
          ],
          [
           "coolaroo"
          ],
          [
           "coolbellup"
          ],
          [
           "coolbinia"
          ],
          [
           "cooloongup"
          ],
          [
           "coolum"
          ],
          [
           "coolum beach"
          ],
          [
           "cooma"
          ],
          [
           "coomandook"
          ],
          [
           "coombabah"
          ],
          [
           "coombs"
          ],
          [
           "coomera"
          ],
          [
           "coomera east"
          ],
          [
           "coominya"
          ],
          [
           "coonabarabran"
          ],
          [
           "coopernook"
          ],
          [
           "coopers plains"
          ],
          [
           "coorabell"
          ],
          [
           "cooranbong"
          ],
          [
           "cooroy"
          ],
          [
           "coorparoo"
          ],
          [
           "cootamundra"
          ],
          [
           "cooya beach"
          ],
          [
           "copacabana"
          ],
          [
           "copmanhurst"
          ],
          [
           "coragulac"
          ],
          [
           "coraki"
          ],
          [
           "coramba"
          ],
          [
           "cordalba"
          ],
          [
           "cordeaux heights"
          ],
          [
           "corinda"
          ],
          [
           "corindi beach"
          ],
          [
           "corinella"
          ],
          [
           "corio"
          ],
          [
           "cornubia"
          ],
          [
           "coromandel valley"
          ],
          [
           "corowa"
          ],
          [
           "corrimal"
          ],
          [
           "corryong"
          ],
          [
           "coutts crossing"
          ],
          [
           "cowandilla"
          ],
          [
           "cowaramup"
          ],
          [
           "cowell"
          ],
          [
           "cowes"
          ],
          [
           "crace"
          ],
          [
           "crafers"
          ],
          [
           "craigie"
          ],
          [
           "craigieburn"
          ],
          [
           "craigmore"
          ],
          [
           "cranbourne"
          ],
          [
           "cranbourne east"
          ],
          [
           "cranbourne north"
          ],
          [
           "cranbourne south"
          ],
          [
           "cranbourne west"
          ],
          [
           "cranebrook"
          ],
          [
           "crawley"
          ],
          [
           "cremorne"
          ],
          [
           "crescent head"
          ],
          [
           "crestmead"
          ],
          [
           "crestwood"
          ],
          [
           "creswick"
          ],
          [
           "crib point"
          ],
          [
           "cringila"
          ],
          [
           "cromer"
          ],
          [
           "cronulla"
          ],
          [
           "crookwell"
          ],
          [
           "croudace bay"
          ],
          [
           "crows nest"
          ],
          [
           "croydon hills"
          ],
          [
           "croydon north"
          ],
          [
           "croydon park"
          ],
          [
           "croydon south"
          ],
          [
           "crystal brook"
          ],
          [
           "cudal"
          ],
          [
           "culburra beach"
          ],
          [
           "culcairn"
          ],
          [
           "cullacabardee"
          ],
          [
           "cumberland park"
          ],
          [
           "cummins"
          ],
          [
           "cumnock"
          ],
          [
           "cundletown"
          ],
          [
           "cunnamulla"
          ],
          [
           "curlewis"
          ],
          [
           "currajong"
          ],
          [
           "currambine"
          ],
          [
           "currans hill"
          ],
          [
           "currie   king island"
          ],
          [
           "currimundi"
          ],
          [
           "currumbin"
          ],
          [
           "currumbin valley"
          ],
          [
           "currumbin waters"
          ],
          [
           "curtin"
          ],
          [
           "cygnet"
          ],
          [
           "d'aguilar"
          ],
          [
           "daceyville"
          ],
          [
           "daglish"
          ],
          [
           "daisy hill"
          ],
          [
           "dakabin"
          ],
          [
           "dalby"
          ],
          [
           "daleys point"
          ],
          [
           "dalkeith"
          ],
          [
           "dallas"
          ],
          [
           "dalmeny"
          ],
          [
           "dalyellup"
          ],
          [
           "dalyston"
          ],
          [
           "dampier"
          ],
          [
           "dandenong"
          ],
          [
           "dandenong north"
          ],
          [
           "dandenong south"
          ],
          [
           "dapto"
          ],
          [
           "darch"
          ],
          [
           "dareton"
          ],
          [
           "darkan"
          ],
          [
           "darley"
          ],
          [
           "darling heights"
          ],
          [
           "darling point"
          ],
          [
           "darlinghurst"
          ],
          [
           "darlington"
          ],
          [
           "darnley island"
          ],
          [
           "darnum"
          ],
          [
           "darra"
          ],
          [
           "darraweit guim"
          ],
          [
           "dartmoor"
          ],
          [
           "davidson"
          ],
          [
           "davoren park"
          ],
          [
           "daw park"
          ],
          [
           "dawesville"
          ],
          [
           "dayboro"
          ],
          [
           "daylesford"
          ],
          [
           "dayton"
          ],
          [
           "deagon"
          ],
          [
           "deakin"
          ],
          [
           "dean park"
          ],
          [
           "deanside"
          ],
          [
           "deception bay"
          ],
          [
           "dederang"
          ],
          [
           "dee why"
          ],
          [
           "deebing heights"
          ],
          [
           "deepdene"
          ],
          [
           "deepwater"
          ],
          [
           "deer park"
          ],
          [
           "deeragun"
          ],
          [
           "delacombe"
          ],
          [
           "delahey"
          ],
          [
           "delaneys creek"
          ],
          [
           "delegate"
          ],
          [
           "deloraine"
          ],
          [
           "denham court"
          ],
          [
           "deniliquin"
          ],
          [
           "denistone"
          ],
          [
           "denistone east"
          ],
          [
           "denman"
          ],
          [
           "denman prospect"
          ],
          [
           "dennington"
          ],
          [
           "dennnington"
          ],
          [
           "derby"
          ],
          [
           "dernancourt"
          ],
          [
           "derrimut"
          ],
          [
           "derrinallum"
          ],
          [
           "derwent park"
          ],
          [
           "devon meadows"
          ],
          [
           "dharruk"
          ],
          [
           "diamond beach"
          ],
          [
           "diamond creek"
          ],
          [
           "dianella"
          ],
          [
           "dickson"
          ],
          [
           "diggers rest"
          ],
          [
           "dimboola"
          ],
          [
           "dimbulah"
          ],
          [
           "dingee"
          ],
          [
           "dingley village"
          ],
          [
           "dingo"
          ],
          [
           "dirranbandi"
          ],
          [
           "docklands"
          ],
          [
           "dodges ferry"
          ],
          [
           "dolls point"
          ],
          [
           "don valley"
          ],
          [
           "donald"
          ],
          [
           "doncaster"
          ],
          [
           "doncaster east"
          ],
          [
           "donnybrook"
          ],
          [
           "donvale"
          ],
          [
           "dookie"
          ],
          [
           "doolandella"
          ],
          [
           "doonan"
          ],
          [
           "doonside"
          ],
          [
           "doreen"
          ],
          [
           "dorrigo"
          ],
          [
           "double bay"
          ],
          [
           "doubleview"
          ],
          [
           "douglas park"
          ],
          [
           "dover"
          ],
          [
           "dover gardens"
          ],
          [
           "dover heights"
          ],
          [
           "doveton"
          ],
          [
           "downer"
          ],
          [
           "drayton"
          ],
          [
           "drewvale"
          ],
          [
           "driver"
          ],
          [
           "dromana"
          ],
          [
           "drouin"
          ],
          [
           "drouin east"
          ],
          [
           "drouin west"
          ],
          [
           "drummoyne"
          ],
          [
           "drysdale"
          ],
          [
           "dubbo"
          ],
          [
           "dubbo west"
          ],
          [
           "dudley"
          ],
          [
           "dudley park"
          ],
          [
           "duffy"
          ],
          [
           "duffys forest"
          ],
          [
           "dulacca"
          ],
          [
           "dulwich hill"
          ],
          [
           "dunalley"
          ],
          [
           "duncraig"
          ],
          [
           "dundas valley"
          ],
          [
           "dunedoo"
          ],
          [
           "dunkeld"
          ],
          [
           "dunmore"
          ],
          [
           "dunolly"
          ],
          [
           "dunoon"
          ],
          [
           "dunsborough"
          ],
          [
           "dunwich"
          ],
          [
           "durack"
          ],
          [
           "dural"
          ],
          [
           "dutton park"
          ],
          [
           "dysart"
          ],
          [
           "eagle farm"
          ],
          [
           "eagle point"
          ],
          [
           "eagle vale"
          ],
          [
           "eagleby"
          ],
          [
           "eaglehawk"
          ],
          [
           "earlville"
          ],
          [
           "earlwood"
          ],
          [
           "east albury"
          ],
          [
           "east ballina"
          ],
          [
           "east bendigo"
          ],
          [
           "east brisbane"
          ],
          [
           "east brunswick"
          ],
          [
           "east bunbury"
          ],
          [
           "east cannington"
          ],
          [
           "east corrimal"
          ],
          [
           "east geelong"
          ],
          [
           "east gosford"
          ],
          [
           "east griffith"
          ],
          [
           "east hills"
          ],
          [
           "east innisfail"
          ],
          [
           "east ipswich"
          ],
          [
           "east killara"
          ],
          [
           "east kurrajong"
          ],
          [
           "east launceston"
          ],
          [
           "east lindfield"
          ],
          [
           "east lismore"
          ],
          [
           "east maitland"
          ],
          [
           "east malvern"
          ],
          [
           "east melbourne"
          ],
          [
           "east perth"
          ],
          [
           "east sale"
          ],
          [
           "east side"
          ],
          [
           "east tamworth"
          ],
          [
           "east toowoomba"
          ],
          [
           "east victoria park"
          ],
          [
           "east wagga wagga"
          ],
          [
           "eastern creek"
          ],
          [
           "eastern heights"
          ],
          [
           "eastlakes"
          ],
          [
           "eastwood"
          ],
          [
           "eaton"
          ],
          [
           "eatons hill"
          ],
          [
           "ebenezer"
          ],
          [
           "echuca"
          ],
          [
           "echuca south"
          ],
          [
           "echunga"
          ],
          [
           "eden"
          ],
          [
           "eden hill"
          ],
          [
           "eden hills"
          ],
          [
           "edenhope"
          ],
          [
           "edens landing"
          ],
          [
           "edensor park"
          ],
          [
           "edge hill"
          ],
          [
           "edgecliff"
          ],
          [
           "edgewater"
          ],
          [
           "edgeworth"
          ],
          [
           "edithvale"
          ],
          [
           "edmondson park"
          ],
          [
           "edmonson park"
          ],
          [
           "edmonton"
          ],
          [
           "edwardstown"
          ],
          [
           "eglinton"
          ],
          [
           "eidsvold"
          ],
          [
           "eight mile plains"
          ],
          [
           "eildon"
          ],
          [
           "eimeo"
          ],
          [
           "ekibin"
          ],
          [
           "elanora"
          ],
          [
           "elanora heights"
          ],
          [
           "elderslie"
          ],
          [
           "eleebana"
          ],
          [
           "elermore vale"
          ],
          [
           "eli waters"
          ],
          [
           "elimbah"
          ],
          [
           "elizabeth"
          ],
          [
           "elizabeth downs"
          ],
          [
           "elizabeth grove"
          ],
          [
           "elizabeth north"
          ],
          [
           "elizabeth park"
          ],
          [
           "elizabeth south"
          ],
          [
           "elizabeth vale"
          ],
          [
           "ellenbrook"
          ],
          [
           "elliminyt"
          ],
          [
           "elmore"
          ],
          [
           "elsternwick"
          ],
          [
           "eltham"
          ],
          [
           "eltham north"
          ],
          [
           "elwood"
          ],
          [
           "embleton"
          ],
          [
           "emerald"
          ],
          [
           "emerald beach"
          ],
          [
           "empire bay"
          ],
          [
           "emu heights"
          ],
          [
           "emu park"
          ],
          [
           "emu plains"
          ],
          [
           "endeavour hills"
          ],
          [
           "enfield"
          ],
          [
           "enfiled"
          ],
          [
           "engadine"
          ],
          [
           "englorie park"
          ],
          [
           "enmore"
          ],
          [
           "enoggera"
          ],
          [
           "epping"
          ],
          [
           "epping north"
          ],
          [
           "epsom"
          ],
          [
           "erica"
          ],
          [
           "erina"
          ],
          [
           "erina heights"
          ],
          [
           "erindale"
          ],
          [
           "ermington"
          ],
          [
           "erskine"
          ],
          [
           "erskine park"
          ],
          [
           "erskineville"
          ],
          [
           "eschol park"
          ],
          [
           "esk"
          ],
          [
           "essendon"
          ],
          [
           "essendon fields"
          ],
          [
           "essendon north"
          ],
          [
           "estella"
          ],
          [
           "estella wagga wagga"
          ],
          [
           "ethelton"
          ],
          [
           "ettalong"
          ],
          [
           "eudunda"
          ],
          [
           "eugowra"
          ],
          [
           "eumemmerring"
          ],
          [
           "eumundi"
          ],
          [
           "eungai creek"
          ],
          [
           "eungella"
          ],
          [
           "eureka"
          ],
          [
           "euroa"
          ],
          [
           "euston"
          ],
          [
           "evandale"
          ],
          [
           "evans head"
          ],
          [
           "evanston"
          ],
          [
           "evanston gardens"
          ],
          [
           "evanston park"
          ],
          [
           "evanston south"
          ],
          [
           "evatt"
          ],
          [
           "eveleigh"
          ],
          [
           "everard park"
          ],
          [
           "everton"
          ],
          [
           "everton hills"
          ],
          [
           "everton park"
          ],
          [
           "exeter"
          ],
          [
           "exford"
          ],
          [
           "export park"
          ],
          [
           "eynesbury"
          ],
          [
           "eyre"
          ],
          [
           "fadden"
          ],
          [
           "fairfield heights"
          ],
          [
           "fairfield waters townsville"
          ],
          [
           "fairfield west"
          ],
          [
           "fairlight"
          ],
          [
           "fairview park"
          ],
          [
           "fairy meadow"
          ],
          [
           "falcon"
          ],
          [
           "falls creek"
          ],
          [
           "farmborough heights"
          ],
          [
           "farnborough"
          ],
          [
           "farrar"
          ],
          [
           "farrer"
          ],
          [
           "fassifern"
          ],
          [
           "faulconbridge"
          ],
          [
           "fawkner"
          ],
          [
           "felixstow"
          ],
          [
           "fern bay"
          ],
          [
           "ferntree gully"
          ],
          [
           "fernvale"
          ],
          [
           "ferny creek"
          ],
          [
           "ferny grove"
          ],
          [
           "ferny hills"
          ],
          [
           "fig tree pocket"
          ],
          [
           "figtree"
          ],
          [
           "findon"
          ],
          [
           "finley"
          ],
          [
           "fish creek"
          ],
          [
           "fitzgibbon"
          ],
          [
           "fitzroy"
          ],
          [
           "fitzroy crossing"
          ],
          [
           "fitzroy north"
          ],
          [
           "five dock"
          ],
          [
           "flagstaff hill"
          ],
          [
           "flagstone"
          ],
          [
           "flemington"
          ],
          [
           "fletcher"
          ],
          [
           "flinders"
          ],
          [
           "flinders island"
          ],
          [
           "flinders park"
          ],
          [
           "flinders view"
          ],
          [
           "floraville"
          ],
          [
           "floreat"
          ],
          [
           "florey"
          ],
          [
           "flowerdale"
          ],
          [
           "flynn"
          ],
          [
           "footscray"
          ],
          [
           "forde"
          ],
          [
           "forest glen"
          ],
          [
           "forest hill"
          ],
          [
           "forest lake"
          ],
          [
           "forest lodge"
          ],
          [
           "forestdale"
          ],
          [
           "forestville"
          ],
          [
           "forrest"
          ],
          [
           "forrestdale"
          ],
          [
           "forresters beach"
          ],
          [
           "forrestfield"
          ],
          [
           "forster"
          ],
          [
           "forth"
          ],
          [
           "fortitude valley"
          ],
          [
           "foster"
          ],
          [
           "fountaindale"
          ],
          [
           "franklin"
          ],
          [
           "frankston north"
          ],
          [
           "frankston south"
          ],
          [
           "fraser"
          ],
          [
           "fraser rise"
          ],
          [
           "frederickton"
          ],
          [
           "freds pass"
          ],
          [
           "freeling"
          ],
          [
           "freemans reach"
          ],
          [
           "frenchs forest"
          ],
          [
           "frenchville"
          ],
          [
           "freshwater"
          ],
          [
           "freshwater creek"
          ],
          [
           "fulham"
          ],
          [
           "fulham gardens"
          ],
          [
           "fullarton"
          ],
          [
           "furnissdale"
          ],
          [
           "fyshwick"
          ],
          [
           "galiwinku"
          ],
          [
           "galston"
          ],
          [
           "ganmain"
          ],
          [
           "gapuwiyak"
          ],
          [
           "garbutt"
          ],
          [
           "garden suburb"
          ],
          [
           "garfield"
          ],
          [
           "garran"
          ],
          [
           "gateshead"
          ],
          [
           "gatton"
          ],
          [
           "gaven"
          ],
          [
           "gawler east"
          ],
          [
           "gawler south"
          ],
          [
           "gayndah"
          ],
          [
           "gaythorne"
          ],
          [
           "geebung"
          ],
          [
           "geelong"
          ],
          [
           "geelong east"
          ],
          [
           "geelong north"
          ],
          [
           "geelong west"
          ],
          [
           "geeveston"
          ],
          [
           "gelorup"
          ],
          [
           "gembrook"
          ],
          [
           "georges hall"
          ],
          [
           "georgetown"
          ],
          [
           "geraldton"
          ],
          [
           "gerringong"
          ],
          [
           "gillen"
          ],
          [
           "gilles plains"
          ],
          [
           "gillieston heights"
          ],
          [
           "gilmore"
          ],
          [
           "gilston"
          ],
          [
           "gin gin"
          ],
          [
           "giralang"
          ],
          [
           "girgarre"
          ],
          [
           "girraween"
          ],
          [
           "girrawheen"
          ],
          [
           "giru"
          ],
          [
           "gisborne"
          ],
          [
           "gladesville"
          ],
          [
           "gladstone central"
          ],
          [
           "gladstone park"
          ],
          [
           "gladstone west"
          ],
          [
           "gladysdale"
          ],
          [
           "glandore"
          ],
          [
           "glasshouse mountains"
          ],
          [
           "glebe"
          ],
          [
           "gledswood hills"
          ],
          [
           "glen forrest"
          ],
          [
           "glen huntly"
          ],
          [
           "glen innes"
          ],
          [
           "glen iris"
          ],
          [
           "glen osmond"
          ],
          [
           "glen waverley"
          ],
          [
           "glen william"
          ],
          [
           "glenalta"
          ],
          [
           "glenbrook"
          ],
          [
           "glencoe"
          ],
          [
           "glendale"
          ],
          [
           "glendalough"
          ],
          [
           "glenden"
          ],
          [
           "glendenning"
          ],
          [
           "gleneagle"
          ],
          [
           "glenelg east"
          ],
          [
           "glenelg north"
          ],
          [
           "glenella"
          ],
          [
           "glenfield"
          ],
          [
           "glenfield park"
          ],
          [
           "glengarry"
          ],
          [
           "glengowrie"
          ],
          [
           "glenhaven"
          ],
          [
           "glenmore park"
          ],
          [
           "glenorie"
          ],
          [
           "glenreagh"
          ],
          [
           "glenrowan"
          ],
          [
           "glenroy"
          ],
          [
           "glenside"
          ],
          [
           "glenvale"
          ],
          [
           "glenview"
          ],
          [
           "glenwood"
          ],
          [
           "glossodia"
          ],
          [
           "glossop"
          ],
          [
           "gloucester"
          ],
          [
           "glynde"
          ],
          [
           "gol gol"
          ],
          [
           "golden bay"
          ],
          [
           "golden beach"
          ],
          [
           "golden grove"
          ],
          [
           "golden square"
          ],
          [
           "gooburrum"
          ],
          [
           "goodna"
          ],
          [
           "goodooga"
          ],
          [
           "goodwood"
          ],
          [
           "googong"
          ],
          [
           "goolgowi"
          ],
          [
           "goolwa"
          ],
          [
           "goomboorian"
          ],
          [
           "goonellabah"
          ],
          [
           "goornong"
          ],
          [
           "gooseberry hill"
          ],
          [
           "gordon"
          ],
          [
           "gordon east"
          ],
          [
           "gordon park"
          ],
          [
           "gordonvale"
          ],
          [
           "gormandale"
          ],
          [
           "gorokan"
          ],
          [
           "goroke"
          ],
          [
           "gosford"
          ],
          [
           "goulburn"
          ],
          [
           "gowanbrae"
          ],
          [
           "gowrie"
          ],
          [
           "gowrie junction"
          ],
          [
           "gracemere"
          ],
          [
           "graceville"
          ],
          [
           "grafton"
          ],
          [
           "grafton south"
          ],
          [
           "grahamvale"
          ],
          [
           "grange"
          ],
          [
           "grantham farm"
          ],
          [
           "granville"
          ],
          [
           "gray"
          ],
          [
           "grays point"
          ],
          [
           "green point"
          ],
          [
           "green valley"
          ],
          [
           "greenacre"
          ],
          [
           "greenacres"
          ],
          [
           "greenbank"
          ],
          [
           "greenfield park"
          ],
          [
           "greenfields"
          ],
          [
           "greenhill"
          ],
          [
           "greenmount"
          ],
          [
           "greensborough"
          ],
          [
           "greenslopes"
          ],
          [
           "greenvale"
          ],
          [
           "greenway"
          ],
          [
           "greenwich"
          ],
          [
           "greenwith"
          ],
          [
           "greenwood"
          ],
          [
           "gregory hills"
          ],
          [
           "grenfell"
          ],
          [
           "greta"
          ],
          [
           "greta south"
          ],
          [
           "greystanes"
          ],
          [
           "griffin"
          ],
          [
           "grose wold"
          ],
          [
           "grovedale"
          ],
          [
           "grovely"
          ],
          [
           "guildford"
          ],
          [
           "gulargambone"
          ],
          [
           "gulfview heights"
          ],
          [
           "gulgong"
          ],
          [
           "gulliver"
          ],
          [
           "gumdale"
          ],
          [
           "gumeracha"
          ],
          [
           "gunalda"
          ],
          [
           "gunbalanya"
          ],
          [
           "gunbower"
          ],
          [
           "gundagai"
          ],
          [
           "gundaroo"
          ],
          [
           "gungahlin"
          ],
          [
           "gunn"
          ],
          [
           "gunning"
          ],
          [
           "gununa"
          ],
          [
           "guyra"
          ],
          [
           "gwandalan"
          ],
          [
           "gwelup"
          ],
          [
           "gwynneville"
          ],
          [
           "gymea"
          ],
          [
           "gymea bay"
          ],
          [
           "haberfield"
          ],
          [
           "hackett"
          ],
          [
           "hackham"
          ],
          [
           "hackham west"
          ],
          [
           "hackney"
          ],
          [
           "haddon"
          ],
          [
           "hadfield"
          ],
          [
           "hagley"
          ],
          [
           "hahndorf"
          ],
          [
           "hallam"
          ],
          [
           "hallett cove"
          ],
          [
           "halls head"
          ],
          [
           "hamersley"
          ],
          [
           "hamilton"
          ],
          [
           "hamilton hill"
          ],
          [
           "hamilton island"
          ],
          [
           "hamilton south"
          ],
          [
           "hamley bridge"
          ],
          [
           "hamlyn heights"
          ],
          [
           "hamlyn terrace"
          ],
          [
           "hammond park"
          ],
          [
           "hammondville"
          ],
          [
           "hampton"
          ],
          [
           "hampton park"
          ],
          [
           "hanwood"
          ],
          [
           "happy valley"
          ],
          [
           "harbord"
          ],
          [
           "harcourt"
          ],
          [
           "harden"
          ],
          [
           "hargraves"
          ],
          [
           "harkaway"
          ],
          [
           "harkness"
          ],
          [
           "harlaxton"
          ],
          [
           "harrietville"
          ],
          [
           "harrington"
          ],
          [
           "harrington park"
          ],
          [
           "harris park"
          ],
          [
           "harrisdale"
          ],
          [
           "harrison"
          ],
          [
           "harristown"
          ],
          [
           "harwood"
          ],
          [
           "hassall grove"
          ],
          [
           "hastings"
          ],
          [
           "hatton vale"
          ],
          [
           "havenview"
          ],
          [
           "hawker"
          ],
          [
           "hawkesdale"
          ],
          [
           "hawks nest"
          ],
          [
           "hawthorn"
          ],
          [
           "hawthorn east"
          ],
          [
           "hawthorndene"
          ],
          [
           "hawthorne"
          ],
          [
           "hayborough"
          ],
          [
           "haymarket"
          ],
          [
           "haynes"
          ],
          [
           "haywards bay"
          ],
          [
           "hazelbrook"
          ],
          [
           "hazelmere"
          ],
          [
           "hazelwood north"
          ],
          [
           "hazelwood park"
          ],
          [
           "healesville"
          ],
          [
           "heathcote"
          ],
          [
           "heatherbrae"
          ],
          [
           "heatherton"
          ],
          [
           "heathmont"
          ],
          [
           "heathmont east"
          ],
          [
           "heathridge"
          ],
          [
           "heathwood"
          ],
          [
           "heatley"
          ],
          [
           "hebersham"
          ],
          [
           "heckenberg"
          ],
          [
           "hectorville"
          ],
          [
           "heidelberg"
          ],
          [
           "heidelberg heights"
          ],
          [
           "heidelberg west"
          ],
          [
           "helena valley"
          ],
          [
           "helensburgh"
          ],
          [
           "helensvale"
          ],
          [
           "helidon"
          ],
          [
           "hendra"
          ],
          [
           "henley"
          ],
          [
           "henley beach"
          ],
          [
           "henley beach south"
          ],
          [
           "henley brook"
          ],
          [
           "henty"
          ],
          [
           "heritage park"
          ],
          [
           "hermannsburg"
          ],
          [
           "hermit park"
          ],
          [
           "herne hill"
          ],
          [
           "herston"
          ],
          [
           "hervey bay"
          ],
          [
           "hesket"
          ],
          [
           "hewett"
          ],
          [
           "heyfield"
          ],
          [
           "heywood"
          ],
          [
           "higgins"
          ],
          [
           "high wycombe"
          ],
          [
           "highbury"
          ],
          [
           "highett"
          ],
          [
           "highfields"
          ],
          [
           "highgate"
          ],
          [
           "highland park"
          ],
          [
           "highton"
          ],
          [
           "hilbert"
          ],
          [
           "hill end"
          ],
          [
           "hill top"
          ],
          [
           "hillarys"
          ],
          [
           "hillbank"
          ],
          [
           "hillcrest"
          ],
          [
           "hillman"
          ],
          [
           "hillsdale"
          ],
          [
           "hillside"
          ],
          [
           "hillston"
          ],
          [
           "hillvue"
          ],
          [
           "hilton"
          ],
          [
           "hinton"
          ],
          [
           "hmas cerberus"
          ],
          [
           "hobartville"
          ],
          [
           "hocking"
          ],
          [
           "holbrook"
          ],
          [
           "holden hill"
          ],
          [
           "holder"
          ],
          [
           "holgate"
          ],
          [
           "holland park"
          ],
          [
           "holland park west"
          ],
          [
           "holloways beach"
          ],
          [
           "holmesville"
          ],
          [
           "holmview"
          ],
          [
           "holroyd"
          ],
          [
           "holsworthy"
          ],
          [
           "holt"
          ],
          [
           "home hill"
          ],
          [
           "homebush"
          ],
          [
           "homebush bay"
          ],
          [
           "homebush west"
          ],
          [
           "hope island"
          ],
          [
           "hope valley"
          ],
          [
           "hopetoun"
          ],
          [
           "hoppers crossing"
          ],
          [
           "horn island"
          ],
          [
           "horningsea park"
          ],
          [
           "hornsby heights"
          ],
          [
           "horsley"
          ],
          [
           "horsley park"
          ],
          [
           "hove"
          ],
          [
           "howard springs"
          ],
          [
           "howlong"
          ],
          [
           "howrah"
          ],
          [
           "hoxton park"
          ],
          [
           "hughenden"
          ],
          [
           "hughes"
          ],
          [
           "hughesdale"
          ],
          [
           "humpty doo"
          ],
          [
           "humula"
          ],
          [
           "huntfield heights"
          ],
          [
           "huntingdale"
          ],
          [
           "huntingwood"
          ],
          [
           "huntly"
          ],
          [
           "huonville"
          ],
          [
           "hurlstone park"
          ],
          [
           "hurstbridge"
          ],
          [
           "hurstville"
          ],
          [
           "hurstville grove"
          ],
          [
           "huskisson"
          ],
          [
           "hyde park"
          ],
          [
           "hyden"
          ],
          [
           "idalia"
          ],
          [
           "ilford"
          ],
          [
           "illawong"
          ],
          [
           "iluka"
          ],
          [
           "imbil"
          ],
          [
           "inala"
          ],
          [
           "indooroopilly"
          ],
          [
           "indulkana"
          ],
          [
           "ingham"
          ],
          [
           "ingle farm"
          ],
          [
           "ingleburn"
          ],
          [
           "inglewood"
          ],
          [
           "injinoo"
          ],
          [
           "injune"
          ],
          [
           "innaloo"
          ],
          [
           "innes park north"
          ],
          [
           "innisfail"
          ],
          [
           "inverleigh"
          ],
          [
           "inverloch"
          ],
          [
           "invermay"
          ],
          [
           "irymple"
          ],
          [
           "isaacs"
          ],
          [
           "isabella plains"
          ],
          [
           "isle of capri"
          ],
          [
           "islington"
          ],
          [
           "ivanhoe"
          ],
          [
           "ivanhoe east"
          ],
          [
           "ivanhoe west"
          ],
          [
           "jabiru"
          ],
          [
           "jackass flat"
          ],
          [
           "jamberoo"
          ],
          [
           "jamboree heights"
          ],
          [
           "jamestown"
          ],
          [
           "jamisontown"
          ],
          [
           "jan juc"
          ],
          [
           "jandakot"
          ],
          [
           "jandowae"
          ],
          [
           "jannali"
          ],
          [
           "jensen"
          ],
          [
           "jeparit"
          ],
          [
           "jerilderie"
          ],
          [
           "jerrabomberra"
          ],
          [
           "jervis bay"
          ],
          [
           "jesmond"
          ],
          [
           "jewells"
          ],
          [
           "jiggi"
          ],
          [
           "jimboomba"
          ],
          [
           "jindabyne"
          ],
          [
           "jindalee"
          ],
          [
           "jindera"
          ],
          [
           "jingili"
          ],
          [
           "jones hill"
          ],
          [
           "joondanna"
          ],
          [
           "jordan springs"
          ],
          [
           "jubilee pocket"
          ],
          [
           "jugiong"
          ],
          [
           "julia creek"
          ],
          [
           "junction village"
          ],
          [
           "jurien bay"
          ],
          [
           "kadina"
          ],
          [
           "kahibah"
          ],
          [
           "kalang"
          ],
          [
           "kalangadoo"
          ],
          [
           "kalbar"
          ],
          [
           "kalbarri"
          ],
          [
           "kaleen"
          ],
          [
           "kalgoorlie"
          ],
          [
           "kalkallo"
          ],
          [
           "kalkarindji"
          ],
          [
           "kalkie"
          ],
          [
           "kallangur"
          ],
          [
           "kallaroo"
          ],
          [
           "kallista"
          ],
          [
           "kambah"
          ],
          [
           "kambalda west"
          ],
          [
           "kamerunga"
          ],
          [
           "kanahooka"
          ],
          [
           "kandos"
          ],
          [
           "kangaroo flat"
          ],
          [
           "kangaroo ground"
          ],
          [
           "kangaroo inn"
          ],
          [
           "kangaroo point"
          ],
          [
           "kangaroo valley"
          ],
          [
           "kanimbla"
          ],
          [
           "kaniva"
          ],
          [
           "kanwal"
          ],
          [
           "kapooka milpo"
          ],
          [
           "kapunda"
          ],
          [
           "karabar"
          ],
          [
           "karalee"
          ],
          [
           "karama"
          ],
          [
           "karana downs"
          ],
          [
           "karawara"
          ],
          [
           "karawatha"
          ],
          [
           "karcultaby"
          ],
          [
           "kardinya"
          ],
          [
           "kareela"
          ],
          [
           "karingal"
          ],
          [
           "kariong"
          ],
          [
           "karoonda"
          ],
          [
           "karrabin"
          ],
          [
           "karrinyup"
          ],
          [
           "karuah"
          ],
          [
           "karumba"
          ],
          [
           "katamatite"
          ],
          [
           "katandra west"
          ],
          [
           "katherine east"
          ],
          [
           "katherine south"
          ],
          [
           "katoomba"
          ],
          [
           "katunga"
          ],
          [
           "kawana"
          ],
          [
           "kawungan"
          ],
          [
           "kealba"
          ],
          [
           "kearneys spring"
          ],
          [
           "kearns"
          ],
          [
           "kedron"
          ],
          [
           "keilor"
          ],
          [
           "keilor downs"
          ],
          [
           "keilor east"
          ],
          [
           "keilor park"
          ],
          [
           "keiraville"
          ],
          [
           "keith"
          ],
          [
           "kellyville"
          ],
          [
           "kellyville ridge"
          ],
          [
           "kelmscott"
          ],
          [
           "kelso"
          ],
          [
           "kelvin grove"
          ],
          [
           "kemps creek"
          ],
          [
           "kempton"
          ],
          [
           "kendall"
          ],
          [
           "kenmore"
          ],
          [
           "kenmore hills"
          ],
          [
           "kennington"
          ],
          [
           "kensington"
          ],
          [
           "kensington gardens"
          ],
          [
           "kensington park"
          ],
          [
           "kent town"
          ],
          [
           "kenthurst"
          ],
          [
           "kenwick"
          ],
          [
           "keperra"
          ],
          [
           "kepnock"
          ],
          [
           "kerang"
          ],
          [
           "kersbrook"
          ],
          [
           "keswick"
          ],
          [
           "kew"
          ],
          [
           "kew east"
          ],
          [
           "kew north"
          ],
          [
           "kewarra beach"
          ],
          [
           "kewdale"
          ],
          [
           "keysborough"
          ],
          [
           "kialla"
          ],
          [
           "kialla west"
          ],
          [
           "kiama heights"
          ],
          [
           "kidman park"
          ],
          [
           "kilaben bay"
          ],
          [
           "kilburn"
          ],
          [
           "kilcoy"
          ],
          [
           "kilcummin"
          ],
          [
           "kilkenny"
          ],
          [
           "kilkivan"
          ],
          [
           "killara"
          ],
          [
           "killarney"
          ],
          [
           "killarney heights"
          ],
          [
           "killarney vale"
          ],
          [
           "kilmore"
          ],
          [
           "kilsyth"
          ],
          [
           "kimberley park"
          ],
          [
           "kin kora"
          ],
          [
           "kincumber"
          ],
          [
           "kingaroy"
          ],
          [
           "kinglake"
          ],
          [
           "kinglake central"
          ],
          [
           "kings langley"
          ],
          [
           "kings meadows"
          ],
          [
           "kings park"
          ],
          [
           "kingsbury"
          ],
          [
           "kingscliff"
          ],
          [
           "kingscote"
          ],
          [
           "kingsford"
          ],
          [
           "kingsgrove"
          ],
          [
           "kingsley"
          ],
          [
           "kingsthorpe"
          ],
          [
           "kingston"
          ],
          [
           "kingston beach"
          ],
          [
           "kingston se"
          ],
          [
           "kingstown"
          ],
          [
           "kingsville"
          ],
          [
           "kingswood"
          ],
          [
           "kinross"
          ],
          [
           "kintore"
          ],
          [
           "kippa ring"
          ],
          [
           "kippa-ring"
          ],
          [
           "kirkwood"
          ],
          [
           "kirra"
          ],
          [
           "kirrawee"
          ],
          [
           "kirribilli"
          ],
          [
           "kirwan"
          ],
          [
           "klemzig"
          ],
          [
           "knoxfield"
          ],
          [
           "kogan"
          ],
          [
           "kogarah"
          ],
          [
           "kogarah bay"
          ],
          [
           "koo wee rup"
          ],
          [
           "koonawarra"
          ],
          [
           "koondoola"
          ],
          [
           "koondrook"
          ],
          [
           "koongal"
          ],
          [
           "koonibba"
          ],
          [
           "koonorigan"
          ],
          [
           "kooringal"
          ],
          [
           "koorlong"
          ],
          [
           "kootingal"
          ],
          [
           "koroit"
          ],
          [
           "korora"
          ],
          [
           "korumburra"
          ],
          [
           "kotara"
          ],
          [
           "kotara south"
          ],
          [
           "krambach"
          ],
          [
           "kruger"
          ],
          [
           "kulnura"
          ],
          [
           "kuluin"
          ],
          [
           "kumbia"
          ],
          [
           "kununurra"
          ],
          [
           "kuraby"
          ],
          [
           "kuranda"
          ],
          [
           "kurmond"
          ],
          [
           "kurnell"
          ],
          [
           "kurrajong"
          ],
          [
           "kurralta park"
          ],
          [
           "kurri kurri"
          ],
          [
           "kurunjang"
          ],
          [
           "kyabram"
          ],
          [
           "kyeemagh"
          ],
          [
           "kyneton"
          ],
          [
           "la perouse"
          ],
          [
           "labertouche"
          ],
          [
           "labrador"
          ],
          [
           "laidley"
          ],
          [
           "lajamanu"
          ],
          [
           "lake albert"
          ],
          [
           "lake boga"
          ],
          [
           "lake bolac"
          ],
          [
           "lake cargelligo"
          ],
          [
           "lake cathie"
          ],
          [
           "lake coogee"
          ],
          [
           "lake gardens"
          ],
          [
           "lake haven"
          ],
          [
           "lake illawarra"
          ],
          [
           "lake munmorah"
          ],
          [
           "lake tabourie"
          ],
          [
           "lakelands"
          ],
          [
           "lakemba"
          ],
          [
           "lakes entrance"
          ],
          [
           "lal lal"
          ],
          [
           "lalor"
          ],
          [
           "lalor park"
          ],
          [
           "lambton"
          ],
          [
           "lameroo"
          ],
          [
           "lancaster"
          ],
          [
           "lancefield"
          ],
          [
           "landsborough"
          ],
          [
           "landsdale"
          ],
          [
           "lane cove north"
          ],
          [
           "lane cove west"
          ],
          [
           "lang lang"
          ],
          [
           "langford"
          ],
          [
           "langwarrin"
          ],
          [
           "langwarrin south"
          ],
          [
           "lansvale"
          ],
          [
           "lapstone"
          ],
          [
           "lara"
          ],
          [
           "larapinta"
          ],
          [
           "largs"
          ],
          [
           "largs bay"
          ],
          [
           "largs north"
          ],
          [
           "larrakeyah"
          ],
          [
           "latham"
          ],
          [
           "lathlain"
          ],
          [
           "latrobe"
          ],
          [
           "lauderdale"
          ],
          [
           "launching place"
          ],
          [
           "laura"
          ],
          [
           "laurieton"
          ],
          [
           "lavender bay"
          ],
          [
           "lavers hill"
          ],
          [
           "lavington"
          ],
          [
           "lawnton"
          ],
          [
           "lawrence"
          ],
          [
           "lawson"
          ],
          [
           "leanyer"
          ],
          [
           "leda"
          ],
          [
           "leederville"
          ],
          [
           "leeming"
          ],
          [
           "leichhardt"
          ],
          [
           "leigh creek"
          ],
          [
           "leinster"
          ],
          [
           "leitchville"
          ],
          [
           "len waters estate"
          ],
          [
           "lenah valley"
          ],
          [
           "lennox head"
          ],
          [
           "leonay"
          ],
          [
           "leongatha"
          ],
          [
           "leopold"
          ],
          [
           "leppington"
          ],
          [
           "lesmurdie"
          ],
          [
           "lethbridge"
          ],
          [
           "lethbridge park"
          ],
          [
           "leumeah"
          ],
          [
           "leura"
          ],
          [
           "lewisham"
          ],
          [
           "leyburn"
          ],
          [
           "lidcombe"
          ],
          [
           "lightning ridge"
          ],
          [
           "lightsview"
          ],
          [
           "lilli pilli"
          ],
          [
           "lilydale"
          ],
          [
           "lilyfield"
          ],
          [
           "linden park"
          ],
          [
           "lindenow"
          ],
          [
           "lindfield"
          ],
          [
           "lindisfarne"
          ],
          [
           "lisarow"
          ],
          [
           "lismore heights"
          ],
          [
           "litlehampton"
          ],
          [
           "little bay"
          ],
          [
           "little mountain"
          ],
          [
           "little river"
          ],
          [
           "littlehampton"
          ],
          [
           "littleton"
          ],
          [
           "llandilo"
          ],
          [
           "lloyd"
          ],
          [
           "lobethal"
          ],
          [
           "loch"
          ],
          [
           "lochinvar"
          ],
          [
           "lock"
          ],
          [
           "lockington"
          ],
          [
           "lockleys"
          ],
          [
           "lockridge"
          ],
          [
           "lockwood"
          ],
          [
           "lockwood south"
          ],
          [
           "loftus"
          ],
          [
           "logan central"
          ],
          [
           "logan reserve"
          ],
          [
           "logan village"
          ],
          [
           "loganholme"
          ],
          [
           "loganlea"
          ],
          [
           "londonderry"
          ],
          [
           "long flat"
          ],
          [
           "long gully"
          ],
          [
           "long jetty"
          ],
          [
           "longford"
          ],
          [
           "longwarry"
          ],
          [
           "longwood"
          ],
          [
           "lonsdale"
          ],
          [
           "lord howe island"
          ],
          [
           "lorn"
          ],
          [
           "lorne"
          ],
          [
           "lota"
          ],
          [
           "lovely banks"
          ],
          [
           "lowanna"
          ],
          [
           "lower beechmont"
          ],
          [
           "lower plenty"
          ],
          [
           "lowood"
          ],
          [
           "loxton"
          ],
          [
           "loxton north"
          ],
          [
           "lucas"
          ],
          [
           "lucas heights"
          ],
          [
           "lucindale"
          ],
          [
           "luddenham"
          ],
          [
           "ludmilla"
          ],
          [
           "lugarno"
          ],
          [
           "lurnea"
          ],
          [
           "lutwyche"
          ],
          [
           "lynbrook"
          ],
          [
           "lyndhurst"
          ],
          [
           "lyndoch"
          ],
          [
           "lyneham"
          ],
          [
           "lynwood"
          ],
          [
           "lyons"
          ],
          [
           "lysterfield"
          ],
          [
           "mabuiag island"
          ],
          [
           "macarthur"
          ],
          [
           "macclesfield"
          ],
          [
           "macedon"
          ],
          [
           "macgregor"
          ],
          [
           "machans beach"
          ],
          [
           "mackenzie"
          ],
          [
           "macksville"
          ],
          [
           "maclagan"
          ],
          [
           "maclean"
          ],
          [
           "macleay island"
          ],
          [
           "macleod"
          ],
          [
           "macleod west"
          ],
          [
           "macmasters beach"
          ],
          [
           "macquarie"
          ],
          [
           "macquarie fields"
          ],
          [
           "macquarie park"
          ],
          [
           "maddingley"
          ],
          [
           "maddington"
          ],
          [
           "madeley"
          ],
          [
           "madora bay"
          ],
          [
           "maffra"
          ],
          [
           "magill"
          ],
          [
           "magnetic island"
          ],
          [
           "magpie"
          ],
          [
           "mahogany creek"
          ],
          [
           "maida vale"
          ],
          [
           "maiden gully"
          ],
          [
           "maidstone"
          ],
          [
           "mailors flat"
          ],
          [
           "maitland east"
          ],
          [
           "majura"
          ],
          [
           "malabar"
          ],
          [
           "malaga"
          ],
          [
           "malak"
          ],
          [
           "malanda"
          ],
          [
           "maldon"
          ],
          [
           "maleny"
          ],
          [
           "mallacoota"
          ],
          [
           "mallala"
          ],
          [
           "malmsbury"
          ],
          [
           "malvern"
          ],
          [
           "malvern east"
          ],
          [
           "mambourin"
          ],
          [
           "manangatang"
          ],
          [
           "mandalay"
          ],
          [
           "mangerton"
          ],
          [
           "mango hill"
          ],
          [
           "mangrove mountain"
          ],
          [
           "manifold heights"
          ],
          [
           "manildra"
          ],
          [
           "manilla"
          ],
          [
           "maningrida"
          ],
          [
           "manly"
          ],
          [
           "manly vale"
          ],
          [
           "manly west"
          ],
          [
           "mannering park"
          ],
          [
           "manning"
          ],
          [
           "mannum"
          ],
          [
           "manoora"
          ],
          [
           "manor lakes"
          ],
          [
           "mansfield park"
          ],
          [
           "manunda"
          ],
          [
           "mapleton"
          ],
          [
           "marangaroo"
          ],
          [
           "maraylya"
          ],
          [
           "marayong"
          ],
          [
           "marden"
          ],
          [
           "mardi"
          ],
          [
           "margaret river"
          ],
          [
           "margate"
          ],
          [
           "marian"
          ],
          [
           "marino"
          ],
          [
           "marks point"
          ],
          [
           "marleston"
          ],
          [
           "marlow lagoon"
          ],
          [
           "marmion"
          ],
          [
           "marong"
          ],
          [
           "maroochydore"
          ],
          [
           "maroubra"
          ],
          [
           "maroubra junction"
          ],
          [
           "marrara"
          ],
          [
           "marrickville"
          ],
          [
           "marryatville"
          ],
          [
           "marsden"
          ],
          [
           "marsden park"
          ],
          [
           "marsfield"
          ],
          [
           "marulan"
          ],
          [
           "maryborough"
          ],
          [
           "maryborough west"
          ],
          [
           "maryland"
          ],
          [
           "marysville"
          ],
          [
           "maryville"
          ],
          [
           "mascot"
          ],
          [
           "mathoura"
          ],
          [
           "matraville"
          ],
          [
           "maudsland"
          ],
          [
           "mawson"
          ],
          [
           "mawson lakes"
          ],
          [
           "mayfield"
          ],
          [
           "mayfield east"
          ],
          [
           "mayfield west"
          ],
          [
           "maylands"
          ],
          [
           "mays hill"
          ],
          [
           "mcdowall"
          ],
          [
           "mcgraths hill"
          ],
          [
           "mckellar"
          ],
          [
           "mckinnon"
          ],
          [
           "mclaren flat"
          ],
          [
           "mclaren vale"
          ],
          [
           "mcmahons point"
          ],
          [
           "meadow heights"
          ],
          [
           "meadow springs"
          ],
          [
           "meadowbank"
          ],
          [
           "meadowbrook"
          ],
          [
           "meadows"
          ],
          [
           "meandarra"
          ],
          [
           "medina"
          ],
          [
           "medindie"
          ],
          [
           "medowie"
          ],
          [
           "meeniyan"
          ],
          [
           "melba"
          ],
          [
           "melbourne airport"
          ],
          [
           "melonba"
          ],
          [
           "melrose"
          ],
          [
           "melrose park"
          ],
          [
           "melton south"
          ],
          [
           "melton west"
          ],
          [
           "menai"
          ],
          [
           "menangle park"
          ],
          [
           "mendooran"
          ],
          [
           "menindee"
          ],
          [
           "meningie"
          ],
          [
           "menora"
          ],
          [
           "mentone"
          ],
          [
           "menzies creek"
          ],
          [
           "mer island"
          ],
          [
           "merbein"
          ],
          [
           "meredith"
          ],
          [
           "merewether"
          ],
          [
           "merewether heights"
          ],
          [
           "meridan plains"
          ],
          [
           "merimbula"
          ],
          [
           "meringandan"
          ],
          [
           "merlynston"
          ],
          [
           "mermaid beach"
          ],
          [
           "mermaid waters"
          ],
          [
           "mernda"
          ],
          [
           "merrigum"
          ],
          [
           "merrimac"
          ],
          [
           "merriwa"
          ],
          [
           "merrylands"
          ],
          [
           "merrylands west"
          ],
          [
           "metford"
          ],
          [
           "miami"
          ],
          [
           "michelago"
          ],
          [
           "mickleham"
          ],
          [
           "middle dural"
          ],
          [
           "middle park"
          ],
          [
           "middle swan"
          ],
          [
           "middlemount"
          ],
          [
           "middleton grange"
          ],
          [
           "midland"
          ],
          [
           "midvale"
          ],
          [
           "midway point"
          ],
          [
           "mildura south"
          ],
          [
           "mile end"
          ],
          [
           "miles"
          ],
          [
           "milikapiti"
          ],
          [
           "milingimbi"
          ],
          [
           "mill park"
          ],
          [
           "millars well"
          ],
          [
           "miller"
          ],
          [
           "millers point"
          ],
          [
           "millgrove"
          ],
          [
           "millicent"
          ],
          [
           "millmerran"
          ],
          [
           "millner"
          ],
          [
           "millthorpe"
          ],
          [
           "milperra"
          ],
          [
           "milsons point"
          ],
          [
           "milton"
          ],
          [
           "mimili"
          ],
          [
           "minchinbury"
          ],
          [
           "mindarie"
          ],
          [
           "minden"
          ],
          [
           "miners rest"
          ],
          [
           "minlaton"
          ],
          [
           "minmi"
          ],
          [
           "minnamurra"
          ],
          [
           "minto"
          ],
          [
           "minyama"
          ],
          [
           "minyerri"
          ],
          [
           "minyip"
          ],
          [
           "miranda"
          ],
          [
           "mirani"
          ],
          [
           "mirboo north"
          ],
          [
           "mirrabooka"
          ],
          [
           "mission beach"
          ],
          [
           "mitchell park"
          ],
          [
           "mitchells flat"
          ],
          [
           "mitchelton"
          ],
          [
           "mitta mitta"
          ],
          [
           "mittagong"
          ],
          [
           "moa island"
          ],
          [
           "moama"
          ],
          [
           "modbury"
          ],
          [
           "modbury heights"
          ],
          [
           "modbury north"
          ],
          [
           "moe"
          ],
          [
           "moggill"
          ],
          [
           "mogo"
          ],
          [
           "moil"
          ],
          [
           "molendinar"
          ],
          [
           "molesworth"
          ],
          [
           "mollymook"
          ],
          [
           "mollymook beach"
          ],
          [
           "molong"
          ],
          [
           "mona vale"
          ],
          [
           "monbulk"
          ],
          [
           "mont albert"
          ],
          [
           "mont albert north"
          ],
          [
           "montagu bay"
          ],
          [
           "montello"
          ],
          [
           "monterey"
          ],
          [
           "montmorency"
          ],
          [
           "montmorency south"
          ],
          [
           "monto"
          ],
          [
           "montrose"
          ],
          [
           "moolap"
          ],
          [
           "mooloolaba"
          ],
          [
           "mooloolah"
          ],
          [
           "mooloolah valley"
          ],
          [
           "moonah"
          ],
          [
           "moonee beach"
          ],
          [
           "moonee ponds"
          ],
          [
           "moonta"
          ],
          [
           "moorabbin"
          ],
          [
           "moorak"
          ],
          [
           "moore park beach"
          ],
          [
           "moorebank"
          ],
          [
           "mooroobool"
          ],
          [
           "moorooduc"
          ],
          [
           "moorooka"
          ],
          [
           "mooroolbark"
          ],
          [
           "mooroopna"
          ],
          [
           "mooroopna north"
          ],
          [
           "moranbah"
          ],
          [
           "morayfield"
          ],
          [
           "mordialloc"
          ],
          [
           "moree"
          ],
          [
           "morgan"
          ],
          [
           "moriac"
          ],
          [
           "morisset"
          ],
          [
           "morley"
          ],
          [
           "morningside"
          ],
          [
           "mornington island"
          ],
          [
           "mornington south"
          ],
          [
           "morpeth"
          ],
          [
           "morphett vale"
          ],
          [
           "morphettville"
          ],
          [
           "mortdale"
          ],
          [
           "mortlake"
          ],
          [
           "moruya"
          ],
          [
           "morven"
          ],
          [
           "morwell"
          ],
          [
           "moss vale"
          ],
          [
           "mossman"
          ],
          [
           "moulamein"
          ],
          [
           "moulden"
          ],
          [
           "mount annan"
          ],
          [
           "mount beauty"
          ],
          [
           "mount burr"
          ],
          [
           "mount claremont"
          ],
          [
           "mount clear"
          ],
          [
           "mount colah"
          ],
          [
           "mount compass"
          ],
          [
           "mount coolum"
          ],
          [
           "mount cotton"
          ],
          [
           "mount cottrell"
          ],
          [
           "mount crosby"
          ],
          [
           "mount dandenong"
          ],
          [
           "mount druitt"
          ],
          [
           "mount duneed"
          ],
          [
           "mount edgertton"
          ],
          [
           "mount eliza"
          ],
          [
           "mount evelyn"
          ],
          [
           "mount garnet"
          ],
          [
           "mount gravatt"
          ],
          [
           "mount gravatt east"
          ],
          [
           "mount hawthorn"
          ],
          [
           "mount helen"
          ],
          [
           "mount hunter"
          ],
          [
           "mount hutton"
          ],
          [
           "mount kembla"
          ],
          [
           "mount kuring-gai"
          ],
          [
           "mount lawley"
          ],
          [
           "mount louisa"
          ],
          [
           "mount macedon"
          ],
          [
           "mount martha"
          ],
          [
           "mount nasura"
          ],
          [
           "mount nebo"
          ],
          [
           "mount ommaney"
          ],
          [
           "mount ousley"
          ],
          [
           "mount peter"
          ],
          [
           "mount pleasant"
          ],
          [
           "mount pritchard"
          ],
          [
           "mount riverview"
          ],
          [
           "mount saint thomas"
          ],
          [
           "mount samson"
          ],
          [
           "mount sheridan"
          ],
          [
           "mount stuart"
          ],
          [
           "mount surprise"
          ],
          [
           "mount tarcoola"
          ],
          [
           "mount vernon"
          ],
          [
           "mount victoria"
          ],
          [
           "mount warren park"
          ],
          [
           "mount warrigal"
          ],
          [
           "mount waverley"
          ],
          [
           "mountain creek"
          ],
          [
           "moura"
          ],
          [
           "mourilyan"
          ],
          [
           "mowbray heights"
          ],
          [
           "moyhu"
          ],
          [
           "moyston"
          ],
          [
           "mt barker"
          ],
          [
           "mt isa"
          ],
          [
           "mt nathan"
          ],
          [
           "mt nelson"
          ],
          [
           "mt warren park"
          ],
          [
           "muckleford"
          ],
          [
           "mudgee"
          ],
          [
           "mudgeeraba"
          ],
          [
           "mudjimba"
          ],
          [
           "muirhead"
          ],
          [
           "mulgoa"
          ],
          [
           "mulgrave"
          ],
          [
           "mullaloo"
          ],
          [
           "mullaway"
          ],
          [
           "mullion creek"
          ],
          [
           "mullumbimby"
          ],
          [
           "mullumbimby creek"
          ],
          [
           "mulwala"
          ],
          [
           "mundamia"
          ],
          [
           "mundijong"
          ],
          [
           "mundingburra"
          ],
          [
           "mundubbera"
          ],
          [
           "mungindi"
          ],
          [
           "munno para"
          ],
          [
           "munno para west"
          ],
          [
           "munster"
          ],
          [
           "murarrie"
          ],
          [
           "murdoch"
          ],
          [
           "murgon"
          ],
          [
           "murrabit"
          ],
          [
           "murrin bridge"
          ],
          [
           "murrumba downs"
          ],
          [
           "murrumbateman"
          ],
          [
           "murrumbeena"
          ],
          [
           "murrumburrah"
          ],
          [
           "murtoa"
          ],
          [
           "murwillumbah"
          ],
          [
           "musgrave hill"
          ],
          [
           "myaree"
          ],
          [
           "mylor"
          ],
          [
           "myrniong"
          ],
          [
           "myrrhee"
          ],
          [
           "myrtle bank"
          ],
          [
           "myrtleford"
          ],
          [
           "mysterton"
          ],
          [
           "nabiac"
          ],
          [
           "nagambie"
          ],
          [
           "nailsworth"
          ],
          [
           "nairne"
          ],
          [
           "nakara"
          ],
          [
           "nambour"
          ],
          [
           "nambucca heads"
          ],
          [
           "nan"
          ],
          [
           "nana glen"
          ],
          [
           "nanango"
          ],
          [
           "nangiloc"
          ],
          [
           "nangwarry"
          ],
          [
           "napoleons"
          ],
          [
           "napperby"
          ],
          [
           "nar nar goon"
          ],
          [
           "naracoorte"
          ],
          [
           "narangba"
          ],
          [
           "narangba valley"
          ],
          [
           "narara"
          ],
          [
           "narellan"
          ],
          [
           "narellan vale"
          ],
          [
           "naremburn"
          ],
          [
           "narooma"
          ],
          [
           "narrabeen"
          ],
          [
           "narrabundah"
          ],
          [
           "narraweena"
          ],
          [
           "narre warren"
          ],
          [
           "narre warren east"
          ],
          [
           "narre warren north"
          ],
          [
           "narre warren south"
          ],
          [
           "narwee"
          ],
          [
           "nashdale"
          ],
          [
           "nathalia"
          ],
          [
           "nathan"
          ],
          [
           "natimuk"
          ],
          [
           "nebo"
          ],
          [
           "neerim south"
          ],
          [
           "nelly bay"
          ],
          [
           "nelson bay"
          ],
          [
           "nelsons plains"
          ],
          [
           "nemingha"
          ],
          [
           "nerang"
          ],
          [
           "nerrina"
          ],
          [
           "netley"
          ],
          [
           "neutral bay"
          ],
          [
           "new farm"
          ],
          [
           "new gisborne"
          ],
          [
           "new lambton"
          ],
          [
           "new lambton heights"
          ],
          [
           "new norfolk"
          ],
          [
           "new port"
          ],
          [
           "new town"
          ],
          [
           "newborough"
          ],
          [
           "newcastle west"
          ],
          [
           "newcomb"
          ],
          [
           "newham"
          ],
          [
           "newhaven"
          ],
          [
           "newington"
          ],
          [
           "newman"
          ],
          [
           "newmarket"
          ],
          [
           "newnham"
          ],
          [
           "newport"
          ],
          [
           "newport beach"
          ],
          [
           "newstead"
          ],
          [
           "newton"
          ],
          [
           "newtown"
          ],
          [
           "nguiu"
          ],
          [
           "ngukurr"
          ],
          [
           "ngunnawal"
          ],
          [
           "nhill"
          ],
          [
           "nhulunbuy"
          ],
          [
           "niagara park"
          ],
          [
           "nicholls"
          ],
          [
           "nicholson"
          ],
          [
           "niddrie"
          ],
          [
           "nightcliff"
          ],
          [
           "nilma"
          ],
          [
           "nimbin"
          ],
          [
           "nimmitabel"
          ],
          [
           "ningi"
          ],
          [
           "nirimba"
          ],
          [
           "nirimba fields"
          ],
          [
           "noarlunga"
          ],
          [
           "noarlunga centre"
          ],
          [
           "noarlunga downs"
          ],
          [
           "noble park"
          ],
          [
           "noble park north"
          ],
          [
           "nollamara"
          ],
          [
           "noosaville"
          ],
          [
           "noranda"
          ],
          [
           "noraville"
          ],
          [
           "nords wharf"
          ],
          [
           "norlane"
          ],
          [
           "norman gardens"
          ],
          [
           "norman park"
          ],
          [
           "normanhurst"
          ],
          [
           "normanton"
          ],
          [
           "north adelaide"
          ],
          [
           "north albury"
          ],
          [
           "north arm"
          ],
          [
           "north balgowlah"
          ],
          [
           "north batemans bay"
          ],
          [
           "north beach"
          ],
          [
           "north bendigo"
          ],
          [
           "north boambee valley"
          ],
          [
           "north bondi"
          ],
          [
           "north booval"
          ],
          [
           "north brighton"
          ],
          [
           "north buderim"
          ],
          [
           "north cairns"
          ],
          [
           "north coogee"
          ],
          [
           "north curl curl"
          ],
          [
           "north epping"
          ],
          [
           "north fremantle"
          ],
          [
           "north geelong"
          ],
          [
           "north gosford"
          ],
          [
           "north haven"
          ],
          [
           "north hobart"
          ],
          [
           "north ipswich"
          ],
          [
           "north kellyville"
          ],
          [
           "north lakes"
          ],
          [
           "north mackay"
          ],
          [
           "north manly"
          ],
          [
           "north melbourne"
          ],
          [
           "north narrabeen"
          ],
          [
           "north nowra"
          ],
          [
           "north parramatta"
          ],
          [
           "north perth"
          ],
          [
           "north richmond"
          ],
          [
           "north rockhampton"
          ],
          [
           "north rocks"
          ],
          [
           "north rothbury"
          ],
          [
           "north ryde"
          ],
          [
           "north shore"
          ],
          [
           "north strathfield"
          ],
          [
           "north tamborine"
          ],
          [
           "north tamworth"
          ],
          [
           "north toowoomba"
          ],
          [
           "north turramurra"
          ],
          [
           "north ward"
          ],
          [
           "north warrandyte"
          ],
          [
           "north willoughby"
          ],
          [
           "north wollongong"
          ],
          [
           "north wyong"
          ],
          [
           "northbridge"
          ],
          [
           "northcliffe"
          ],
          [
           "northcote"
          ],
          [
           "northfield"
          ],
          [
           "northgate"
          ],
          [
           "northmead"
          ],
          [
           "northward"
          ],
          [
           "norton summit"
          ],
          [
           "norwest"
          ],
          [
           "norwood"
          ],
          [
           "notting hill"
          ],
          [
           "novar gardens"
          ],
          [
           "nowra"
          ],
          [
           "nowra east"
          ],
          [
           "nowra hill"
          ],
          [
           "nulkaba"
          ],
          [
           "nullawarre"
          ],
          [
           "numbulwar"
          ],
          [
           "numurkah"
          ],
          [
           "nunawading"
          ],
          [
           "nundah"
          ],
          [
           "nundle"
          ],
          [
           "nuriootpa"
          ],
          [
           "nyah west"
          ],
          [
           "nymboida"
          ],
          [
           "nyngan"
          ],
          [
           "nyora"
          ],
          [
           "o'connor"
          ],
          [
           "o'halloran hill"
          ],
          [
           "o'sullivan beach"
          ],
          [
           "oak flats"
          ],
          [
           "oak park"
          ],
          [
           "oakbank"
          ],
          [
           "oakdale"
          ],
          [
           "oakdowns"
          ],
          [
           "oakey"
          ],
          [
           "oakhurst"
          ],
          [
           "oaklands park"
          ],
          [
           "oakleigh"
          ],
          [
           "oakleigh east"
          ],
          [
           "oakleigh south"
          ],
          [
           "oakville"
          ],
          [
           "oatlands"
          ],
          [
           "oatley"
          ],
          [
           "ocean grove"
          ],
          [
           "ocean reef"
          ],
          [
           "ocean shores"
          ],
          [
           "officer"
          ],
          [
           "old bar"
          ],
          [
           "old erowal bay"
          ],
          [
           "old guildford"
          ],
          [
           "old noarlunga"
          ],
          [
           "old reynella"
          ],
          [
           "old toongabbie"
          ],
          [
           "one mile"
          ],
          [
           "one tree hill"
          ],
          [
           "onslow"
          ],
          [
           "oonoonba"
          ],
          [
           "ooralea"
          ],
          [
           "oran park"
          ],
          [
           "orana"
          ],
          [
           "orbost"
          ],
          [
           "orchard hills"
          ],
          [
           "orient point"
          ],
          [
           "ormeau"
          ],
          [
           "ormeau hills"
          ],
          [
           "ormiston"
          ],
          [
           "ormond"
          ],
          [
           "orroroo"
          ],
          [
           "orrvale"
          ],
          [
           "osborne"
          ],
          [
           "osborne park"
          ],
          [
           "ottoway"
          ],
          [
           "ourimbah"
          ],
          [
           "ouyen"
          ],
          [
           "oxenford"
          ],
          [
           "oxford falls"
          ],
          [
           "oxley"
          ],
          [
           "oxley park"
          ],
          [
           "oxley vale"
          ],
          [
           "oyster bay"
          ],
          [
           "pacific palms"
          ],
          [
           "pacific paradise"
          ],
          [
           "pacific pines"
          ],
          [
           "padbury"
          ],
          [
           "paddington"
          ],
          [
           "padstow"
          ],
          [
           "padthaway"
          ],
          [
           "page"
          ],
          [
           "pagewood"
          ],
          [
           "pakenham"
          ],
          [
           "pallara"
          ],
          [
           "palm beach"
          ],
          [
           "palmers island"
          ],
          [
           "palmview"
          ],
          [
           "palmwoods"
          ],
          [
           "palmyra"
          ],
          [
           "pambula"
          ],
          [
           "panania"
          ],
          [
           "pannawonica"
          ],
          [
           "panorama"
          ],
          [
           "panton hill"
          ],
          [
           "papunya community"
          ],
          [
           "para hills"
          ],
          [
           "para hills west"
          ],
          [
           "para vista"
          ],
          [
           "paraburdoo"
          ],
          [
           "paracombe"
          ],
          [
           "paradise"
          ],
          [
           "paradise point"
          ],
          [
           "parafield gardens"
          ],
          [
           "parafield gdns"
          ],
          [
           "paralowie"
          ],
          [
           "parap"
          ],
          [
           "park avenue"
          ],
          [
           "park grove"
          ],
          [
           "park holme"
          ],
          [
           "park orchards"
          ],
          [
           "park ridge"
          ],
          [
           "parkdale"
          ],
          [
           "parkerville"
          ],
          [
           "parkholme"
          ],
          [
           "parkhurst"
          ],
          [
           "parkinson"
          ],
          [
           "parklea"
          ],
          [
           "parkside"
          ],
          [
           "parkville"
          ],
          [
           "parkwood"
          ],
          [
           "parmelia"
          ],
          [
           "parndana"
          ],
          [
           "parramatta east"
          ],
          [
           "parramatta park"
          ],
          [
           "parramatta west"
          ],
          [
           "parrearra"
          ],
          [
           "pasadena"
          ],
          [
           "pascoe vale"
          ],
          [
           "pascoe vale south"
          ],
          [
           "paterson"
          ],
          [
           "patterson lakes"
          ],
          [
           "payneham"
          ],
          [
           "payneham south"
          ],
          [
           "paynesville"
          ],
          [
           "peachester"
          ],
          [
           "peak crossing"
          ],
          [
           "peak hill"
          ],
          [
           "peakhurst"
          ],
          [
           "peakhurst south"
          ],
          [
           "pearce"
          ],
          [
           "pearcedale"
          ],
          [
           "pearsall"
          ],
          [
           "pegs creek"
          ],
          [
           "pelican"
          ],
          [
           "pelican waters"
          ],
          [
           "pemberton"
          ],
          [
           "pemulwuy"
          ],
          [
           "pendle hill"
          ],
          [
           "penfield"
          ],
          [
           "penguin"
          ],
          [
           "pennant hills"
          ],
          [
           "penneshaw"
          ],
          [
           "pennington"
          ],
          [
           "penola"
          ],
          [
           "penshurst"
          ],
          [
           "peregian beach"
          ],
          [
           "peregian breeze"
          ],
          [
           "peregian springs"
          ],
          [
           "perth airport"
          ],
          [
           "petersham"
          ],
          [
           "petrie"
          ],
          [
           "petrie terrace"
          ],
          [
           "phillip"
          ],
          [
           "phillip bay"
          ],
          [
           "pialba"
          ],
          [
           "piara waters"
          ],
          [
           "picnic point"
          ],
          [
           "picton"
          ],
          [
           "pimlico"
          ],
          [
           "pimpama"
          ],
          [
           "pinjarra"
          ],
          [
           "pinnaroo"
          ],
          [
           "pipalyatjara"
          ],
          [
           "pitt town"
          ],
          [
           "pittsworth"
          ],
          [
           "plainland"
          ],
          [
           "pleasant hills"
          ],
          [
           "plumpton"
          ],
          [
           "plympton"
          ],
          [
           "point clare"
          ],
          [
           "point cook"
          ],
          [
           "point lonsdale"
          ],
          [
           "point pearce"
          ],
          [
           "pomona"
          ],
          [
           "pomonal"
          ],
          [
           "pooncarie"
          ],
          [
           "poonindie"
          ],
          [
           "pooraka"
          ],
          [
           "poowong"
          ],
          [
           "port adelaide"
          ],
          [
           "port augusta west"
          ],
          [
           "port broughton"
          ],
          [
           "port denison"
          ],
          [
           "port douglas"
          ],
          [
           "port elliot"
          ],
          [
           "port fairy"
          ],
          [
           "port kembla"
          ],
          [
           "port kennedy"
          ],
          [
           "port macquarie"
          ],
          [
           "port melbourne"
          ],
          [
           "port noarlunga"
          ],
          [
           "port noarlunga south"
          ],
          [
           "port pirie south"
          ],
          [
           "port sorell"
          ],
          [
           "port wakefield"
          ],
          [
           "portarlington"
          ],
          [
           "portland"
          ],
          [
           "portland north"
          ],
          [
           "potts hill"
          ],
          [
           "pottsville"
          ],
          [
           "pottsville beach"
          ],
          [
           "prahran"
          ],
          [
           "prairiewood"
          ],
          [
           "preston"
          ],
          [
           "preston west"
          ],
          [
           "prestons"
          ],
          [
           "pretty beach"
          ],
          [
           "primbee"
          ],
          [
           "proserpine"
          ],
          [
           "prospect vale"
          ],
          [
           "proston"
          ],
          [
           "puckapunyal"
          ],
          [
           "pullenvale"
          ],
          [
           "punchbowl"
          ],
          [
           "purfleet"
          ],
          [
           "purnim west"
          ],
          [
           "putney"
          ],
          [
           "pyalong"
          ],
          [
           "pymble"
          ],
          [
           "pyramid hill"
          ],
          [
           "pyrmont"
          ],
          [
           "quakers hill"
          ],
          [
           "quarry hill"
          ],
          [
           "queanbeyan"
          ],
          [
           "queanbeyan east"
          ],
          [
           "queanbeyan west"
          ],
          [
           "queens park"
          ],
          [
           "queenscliff"
          ],
          [
           "queenstown"
          ],
          [
           "quinns rocks"
          ],
          [
           "quirindi"
          ],
          [
           "quorn"
          ],
          [
           "raaf richmond"
          ],
          [
           "raby"
          ],
          [
           "raceview"
          ],
          [
           "railway estate"
          ],
          [
           "rainbow"
          ],
          [
           "rainbow beach"
          ],
          [
           "rainworth"
          ],
          [
           "ramingining"
          ],
          [
           "ramsgate"
          ],
          [
           "rangeville"
          ],
          [
           "rankin park"
          ],
          [
           "rapid creek"
          ],
          [
           "rasmussen"
          ],
          [
           "rathmines"
          ],
          [
           "raukkan"
          ],
          [
           "ravenhall"
          ],
          [
           "ravenshoe"
          ],
          [
           "ravenswood"
          ],
          [
           "raymond terrace"
          ],
          [
           "red cliffs"
          ],
          [
           "red hill"
          ],
          [
           "redan"
          ],
          [
           "redbank"
          ],
          [
           "redbank plains"
          ],
          [
           "redcliffe"
          ],
          [
           "redfern"
          ],
          [
           "redhead"
          ],
          [
           "redland bay"
          ],
          [
           "redlynch"
          ],
          [
           "redwood park"
          ],
          [
           "reedy creek"
          ],
          [
           "regents park"
          ],
          [
           "regentville"
          ],
          [
           "reid"
          ],
          [
           "rendelsham"
          ],
          [
           "renmark"
          ],
          [
           "renmark north"
          ],
          [
           "renown park"
          ],
          [
           "renwick"
          ],
          [
           "research"
          ],
          [
           "reservoir"
          ],
          [
           "reservoir north"
          ],
          [
           "revesby"
          ],
          [
           "reynella"
          ],
          [
           "reynella east"
          ],
          [
           "rhodes"
          ],
          [
           "riana"
          ],
          [
           "richardson"
          ],
          [
           "richlands"
          ],
          [
           "richmond hill"
          ],
          [
           "richmond north"
          ],
          [
           "riddells creek"
          ],
          [
           "ridgehaven"
          ],
          [
           "ridgewood"
          ],
          [
           "ringwood"
          ],
          [
           "ringwood east"
          ],
          [
           "ringwood north"
          ],
          [
           "ripley"
          ],
          [
           "ripley valley"
          ],
          [
           "ripplebrook"
          ],
          [
           "riverhills"
          ],
          [
           "riverside"
          ],
          [
           "riverside gardens"
          ],
          [
           "riverstone"
          ],
          [
           "riverton"
          ],
          [
           "rivervale"
          ],
          [
           "riverview"
          ],
          [
           "riverwood"
          ],
          [
           "rivett"
          ],
          [
           "roadvale"
          ],
          [
           "robertson"
          ],
          [
           "robin hill"
          ],
          [
           "robina"
          ],
          [
           "robinvale"
          ],
          [
           "rochedale"
          ],
          [
           "rochedale south"
          ],
          [
           "rochester"
          ],
          [
           "rockbank"
          ],
          [
           "rockdale"
          ],
          [
           "rockhampton city"
          ],
          [
           "rocky hall"
          ],
          [
           "rocky point"
          ],
          [
           "roebourne"
          ],
          [
           "rokeby"
          ],
          [
           "rokewood"
          ],
          [
           "roleystone"
          ],
          [
           "rolleston"
          ],
          [
           "roma"
          ],
          [
           "romsey"
          ],
          [
           "rooty hill"
          ],
          [
           "ropes crossing"
          ],
          [
           "rosalie"
          ],
          [
           "rosanna"
          ],
          [
           "rose bay"
          ],
          [
           "rose park"
          ],
          [
           "rosebank"
          ],
          [
           "rosebery"
          ],
          [
           "rosebud"
          ],
          [
           "rosebud west"
          ],
          [
           "rosedale"
          ],
          [
           "rosehill"
          ],
          [
           "roselands"
          ],
          [
           "rosemeadow"
          ],
          [
           "rosenthal heights"
          ],
          [
           "rosetta"
          ],
          [
           "roseville"
          ],
          [
           "roseville chase"
          ],
          [
           "rosewood"
          ],
          [
           "roseworthy"
          ],
          [
           "ross creek"
          ],
          [
           "rossmore"
          ],
          [
           "rossmoyne"
          ],
          [
           "rostrevor"
          ],
          [
           "rothwell"
          ],
          [
           "round corner"
          ],
          [
           "rouse hill"
          ],
          [
           "rowville"
          ],
          [
           "roxburgh park"
          ],
          [
           "royal park"
          ],
          [
           "rozelle"
          ],
          [
           "runaway bay"
          ],
          [
           "runcorn"
          ],
          [
           "rupanyup"
          ],
          [
           "rural view"
          ],
          [
           "ruse"
          ],
          [
           "rushcutters bay"
          ],
          [
           "rushworth"
          ],
          [
           "russell hill"
          ],
          [
           "russell island"
          ],
          [
           "russell lea"
          ],
          [
           "russell vale"
          ],
          [
           "rutherford"
          ],
          [
           "rutherglen"
          ],
          [
           "rydalmere"
          ],
          [
           "rye"
          ],
          [
           "rylstone"
          ],
          [
           "sadadeen"
          ],
          [
           "saddleworth"
          ],
          [
           "sadleir"
          ],
          [
           "sadliers crossing"
          ],
          [
           "safety bay"
          ],
          [
           "saibai island"
          ],
          [
           "sailors gully"
          ],
          [
           "salamander bay"
          ],
          [
           "sale"
          ],
          [
           "salisbury downs"
          ],
          [
           "salisbury east"
          ],
          [
           "salisbury heights"
          ],
          [
           "salisbury north"
          ],
          [
           "salisbury park"
          ],
          [
           "salt ash"
          ],
          [
           "samford"
          ],
          [
           "samford village"
          ],
          [
           "samson"
          ],
          [
           "san remo"
          ],
          [
           "sanctuary lakes"
          ],
          [
           "sanctuary point"
          ],
          [
           "sandgate"
          ],
          [
           "sandhurst"
          ],
          [
           "sandringham"
          ],
          [
           "sandstone point"
          ],
          [
           "sandy bay"
          ],
          [
           "sandy beach"
          ],
          [
           "sans souci"
          ],
          [
           "santa teresa"
          ],
          [
           "saratoga"
          ],
          [
           "sarina"
          ],
          [
           "sassafras"
          ],
          [
           "scarborough"
          ],
          [
           "scarsdale"
          ],
          [
           "schofields"
          ],
          [
           "scone"
          ],
          [
           "scoresby"
          ],
          [
           "scotland island"
          ],
          [
           "scottsdale"
          ],
          [
           "scottville"
          ],
          [
           "scullin"
          ],
          [
           "sea lake"
          ],
          [
           "seabrook"
          ],
          [
           "seacliff"
          ],
          [
           "seacombe gardens"
          ],
          [
           "seaford"
          ],
          [
           "seaford heights"
          ],
          [
           "seaford meadows"
          ],
          [
           "seaford north"
          ],
          [
           "seaford risa"
          ],
          [
           "seaford rise"
          ],
          [
           "seaforth"
          ],
          [
           "seaham"
          ],
          [
           "seaholme"
          ],
          [
           "seaton"
          ],
          [
           "seaview downs"
          ],
          [
           "sebastopol"
          ],
          [
           "secret harbour"
          ],
          [
           "sefton"
          ],
          [
           "sefton park"
          ],
          [
           "selby"
          ],
          [
           "semaphore"
          ],
          [
           "semaphore park"
          ],
          [
           "serpentine"
          ],
          [
           "seven hills"
          ],
          [
           "seville"
          ],
          [
           "seville grove"
          ],
          [
           "seymour"
          ],
          [
           "shailer park"
          ],
          [
           "shalvey"
          ],
          [
           "shaw"
          ],
          [
           "shearwater"
          ],
          [
           "sheffield"
          ],
          [
           "sheidow park"
          ],
          [
           "sheldon"
          ],
          [
           "shell cove"
          ],
          [
           "shelley"
          ],
          [
           "shellharbour city"
          ],
          [
           "shellharbour city centre"
          ],
          [
           "shelly beach"
          ],
          [
           "shenton park"
          ],
          [
           "shepparton"
          ],
          [
           "shepparton east"
          ],
          [
           "shepparton north"
          ],
          [
           "sherwood"
          ],
          [
           "shoal bay"
          ],
          [
           "shoalhaven heads"
          ],
          [
           "shoalwater"
          ],
          [
           "shorncliffe"
          ],
          [
           "shortland"
          ],
          [
           "silkstone"
          ],
          [
           "silkwood"
          ],
          [
           "silvan"
          ],
          [
           "silverdale"
          ],
          [
           "silverwater"
          ],
          [
           "simpson"
          ],
          [
           "sinagra"
          ],
          [
           "singleton heights"
          ],
          [
           "sinnamon park"
          ],
          [
           "sippy downs"
          ],
          [
           "skennars head"
          ],
          [
           "skipton"
          ],
          [
           "skye"
          ],
          [
           "slacks creek"
          ],
          [
           "slade point"
          ],
          [
           "smeaton grange"
          ],
          [
           "smithfield"
          ],
          [
           "smithfield plains"
          ],
          [
           "smiths lake"
          ],
          [
           "smithton"
          ],
          [
           "smithtown"
          ],
          [
           "smythes creek"
          ],
          [
           "smythesdale"
          ],
          [
           "snake valley"
          ],
          [
           "snowtown"
          ],
          [
           "snug"
          ],
          [
           "soldiers hill"
          ],
          [
           "somers"
          ],
          [
           "somerton park"
          ],
          [
           "somerville"
          ],
          [
           "sorrento"
          ],
          [
           "south albury"
          ],
          [
           "south arm"
          ],
          [
           "south bathurst"
          ],
          [
           "south brighton"
          ],
          [
           "south brisbane"
          ],
          [
           "south bunbury"
          ],
          [
           "south coogee"
          ],
          [
           "south fremantle"
          ],
          [
           "south geelong"
          ],
          [
           "south gladstone"
          ],
          [
           "south grafton"
          ],
          [
           "south granville"
          ],
          [
           "south guildford"
          ],
          [
           "south hedland"
          ],
          [
           "south hobart"
          ],
          [
           "south hurstville"
          ],
          [
           "south kalgoorlie"
          ],
          [
           "south kingsville"
          ],
          [
           "south kolan"
          ],
          [
           "south lake"
          ],
          [
           "south launceston"
          ],
          [
           "south lismore"
          ],
          [
           "south mackay"
          ],
          [
           "south maclean"
          ],
          [
           "south maitland"
          ],
          [
           "south melbourne"
          ],
          [
           "south morang"
          ],
          [
           "south murwillumbah"
          ],
          [
           "south nowra"
          ],
          [
           "south penrith"
          ],
          [
           "south plympton"
          ],
          [
           "south ripley"
          ],
          [
           "south tamworth"
          ],
          [
           "south toowoomba"
          ],
          [
           "south townsville"
          ],
          [
           "south turramurra"
          ],
          [
           "south tweed heads"
          ],
          [
           "south wentworthville"
          ],
          [
           "south werribee"
          ],
          [
           "south west rocks"
          ],
          [
           "south wharf"
          ],
          [
           "south windsor"
          ],
          [
           "south yarra"
          ],
          [
           "south yunderup"
          ],
          [
           "southbank"
          ],
          [
           "southern cross"
          ],
          [
           "southern river"
          ],
          [
           "southport"
          ],
          [
           "southside"
          ],
          [
           "spearwood"
          ],
          [
           "speers point"
          ],
          [
           "spence"
          ],
          [
           "spotswood"
          ],
          [
           "spreyton"
          ],
          [
           "spring farm"
          ],
          [
           "spring gully"
          ],
          [
           "spring hill"
          ],
          [
           "spring mountain"
          ],
          [
           "springdale heights"
          ],
          [
           "springfield"
          ],
          [
           "springfield central"
          ],
          [
           "springfield lakes"
          ],
          [
           "springsure"
          ],
          [
           "springvale"
          ],
          [
           "springvale south"
          ],
          [
           "springwood"
          ],
          [
           "st agnes"
          ],
          [
           "st albans"
          ],
          [
           "st albans north"
          ],
          [
           "st albans park"
          ],
          [
           "st andrews"
          ],
          [
           "st andrews beach"
          ],
          [
           "st arnaud"
          ],
          [
           "st clair"
          ],
          [
           "st george"
          ],
          [
           "st georges"
          ],
          [
           "st georges basin"
          ],
          [
           "st helena"
          ],
          [
           "st helens"
          ],
          [
           "st helens park"
          ],
          [
           "st ives"
          ],
          [
           "st ives chase"
          ],
          [
           "st james"
          ],
          [
           "st johns park"
          ],
          [
           "st johns wood"
          ],
          [
           "st kilda"
          ],
          [
           "st kilda east"
          ],
          [
           "st leonards"
          ],
          [
           "st lucia"
          ],
          [
           "st marys"
          ],
          [
           "st morris"
          ],
          [
           "st peters"
          ],
          [
           "stafford"
          ],
          [
           "stafford heights"
          ],
          [
           "stanhope"
          ],
          [
           "stanhope gardens"
          ],
          [
           "stanmore"
          ],
          [
           "stanthorpe"
          ],
          [
           "stanwell park"
          ],
          [
           "stapylton"
          ],
          [
           "stawell"
          ],
          [
           "steiglitz"
          ],
          [
           "stepney"
          ],
          [
           "stirling north"
          ],
          [
           "stockton"
          ],
          [
           "stones corner"
          ],
          [
           "stonyfell"
          ],
          [
           "stratford"
          ],
          [
           "strathalbyn"
          ],
          [
           "strathfield north"
          ],
          [
           "strathfield south"
          ],
          [
           "strathfieldsaye"
          ],
          [
           "strathmerton"
          ],
          [
           "strathmore"
          ],
          [
           "strathpine"
          ],
          [
           "strathtulloh"
          ],
          [
           "stratton"
          ],
          [
           "stretton"
          ],
          [
           "stroud"
          ],
          [
           "stuart park"
          ],
          [
           "stuarts point"
          ],
          [
           "sturt"
          ],
          [
           "success"
          ],
          [
           "suffolk park"
          ],
          [
           "summer hill"
          ],
          [
           "summerhill"
          ],
          [
           "sun valley"
          ],
          [
           "sunbury"
          ],
          [
           "sunnybank"
          ],
          [
           "sunnybank hills"
          ],
          [
           "sunshine"
          ],
          [
           "sunshine bay"
          ],
          [
           "sunshine beach"
          ],
          [
           "sunshine north"
          ],
          [
           "sunshine west"
          ],
          [
           "surat"
          ],
          [
           "surf beach"
          ],
          [
           "surfers paradise"
          ],
          [
           "surfside"
          ],
          [
           "surrey downs"
          ],
          [
           "surrey hills"
          ],
          [
           "surry hills"
          ],
          [
           "sussex inlet"
          ],
          [
           "sutherland"
          ],
          [
           "sutton"
          ],
          [
           "suttontown"
          ],
          [
           "swan reach"
          ],
          [
           "swan view"
          ],
          [
           "swanbourne"
          ],
          [
           "swansea"
          ],
          [
           "sydenham"
          ],
          [
           "sydney olympic park"
          ],
          [
           "sylvania"
          ],
          [
           "sylvania waters"
          ],
          [
           "symonston"
          ],
          [
           "syndal"
          ],
          [
           "tabulam"
          ],
          [
           "tacoma"
          ],
          [
           "tahmoor"
          ],
          [
           "taigum"
          ],
          [
           "tailem bend"
          ],
          [
           "talbot"
          ],
          [
           "talgarno"
          ],
          [
           "tallai"
          ],
          [
           "tallangatta"
          ],
          [
           "tallarook"
          ],
          [
           "tallawong"
          ],
          [
           "tallebudgera"
          ],
          [
           "tallygaroopna"
          ],
          [
           "tambo"
          ],
          [
           "tamborine mountain"
          ],
          [
           "taminda"
          ],
          [
           "tamworth"
          ],
          [
           "tamworth south"
          ],
          [
           "tanah merah"
          ],
          [
           "tangambalanga"
          ],
          [
           "tanilba bay"
          ],
          [
           "tannum sands"
          ],
          [
           "tanunda"
          ],
          [
           "taperoo"
          ],
          [
           "tapping"
          ],
          [
           "tara"
          ],
          [
           "taradale"
          ],
          [
           "tarago"
          ],
          [
           "tarampa"
          ],
          [
           "taranganba"
          ],
          [
           "tarcutta"
          ],
          [
           "taree"
          ],
          [
           "taren point"
          ],
          [
           "taringa"
          ],
          [
           "tarnagulla"
          ],
          [
           "tarneit"
          ],
          [
           "tarneit north"
          ],
          [
           "taroom"
          ],
          [
           "taroomball"
          ],
          [
           "taroona"
          ],
          [
           "tarragindi"
          ],
          [
           "tarrawanna"
          ],
          [
           "tarro"
          ],
          [
           "tatachilla"
          ],
          [
           "tathra"
          ],
          [
           "tatura"
          ],
          [
           "tawonga"
          ],
          [
           "taylor"
          ],
          [
           "taylors hill"
          ],
          [
           "taylors lakes"
          ],
          [
           "tea gardens"
          ],
          [
           "tecoma"
          ],
          [
           "teesdale"
          ],
          [
           "telarah"
          ],
          [
           "telegraph point"
          ],
          [
           "telopea"
          ],
          [
           "tempe"
          ],
          [
           "templestowe"
          ],
          [
           "templestowe lower"
          ],
          [
           "tenambit"
          ],
          [
           "tennant creek"
          ],
          [
           "terang"
          ],
          [
           "terranora"
          ],
          [
           "terrey hills"
          ],
          [
           "terrigal"
          ],
          [
           "teviotville"
          ],
          [
           "tewantin"
          ],
          [
           "texas"
          ],
          [
           "tharwa"
          ],
          [
           "the basin"
          ],
          [
           "the channon"
          ],
          [
           "the entrance"
          ],
          [
           "the gap"
          ],
          [
           "the hill"
          ],
          [
           "the junction"
          ],
          [
           "the oaks"
          ],
          [
           "the patch"
          ],
          [
           "the ponds"
          ],
          [
           "the range"
          ],
          [
           "the rock"
          ],
          [
           "the rocks"
          ],
          [
           "thebarton"
          ],
          [
           "theodore"
          ],
          [
           "thirlmere"
          ],
          [
           "thirroul"
          ],
          [
           "thomastown"
          ],
          [
           "thora"
          ],
          [
           "thornbury"
          ],
          [
           "thorneside"
          ],
          [
           "thornhill park"
          ],
          [
           "thornlands"
          ],
          [
           "thornleigh"
          ],
          [
           "thornlie"
          ],
          [
           "thornton"
          ],
          [
           "thorpdale"
          ],
          [
           "thredbo village"
          ],
          [
           "throsby"
          ],
          [
           "thrumster"
          ],
          [
           "thurgoona"
          ],
          [
           "thuringowa"
          ],
          [
           "thuringowa central"
          ],
          [
           "thursday island"
          ],
          [
           "tieri"
          ],
          [
           "tighes hill"
          ],
          [
           "timboon"
          ],
          [
           "timbumburi"
          ],
          [
           "tin can bay"
          ],
          [
           "tinana"
          ],
          [
           "tindal"
          ],
          [
           "tingalpa"
          ],
          [
           "tingha"
          ],
          [
           "tinonee"
          ],
          [
           "tintenbar"
          ],
          [
           "tintinara"
          ],
          [
           "tivoli"
          ],
          [
           "tiwi"
          ],
          [
           "tocumwal"
          ],
          [
           "tolga"
          ],
          [
           "tolland"
          ],
          [
           "tom price"
          ],
          [
           "tomerong"
          ],
          [
           "tongala"
          ],
          [
           "toobeah"
          ],
          [
           "toogoolawah"
          ],
          [
           "toolamba"
          ],
          [
           "toolangi"
          ],
          [
           "toolern vale"
          ],
          [
           "tooleybuc"
          ],
          [
           "toombul"
          ],
          [
           "toongabbie"
          ],
          [
           "toora"
          ],
          [
           "tooradin"
          ],
          [
           "toorak"
          ],
          [
           "tooraweenah"
          ],
          [
           "toormina"
          ],
          [
           "tootgarook"
          ],
          [
           "toowong"
          ],
          [
           "toowoomba city"
          ],
          [
           "toowoomba west"
          ],
          [
           "torbanlea"
          ],
          [
           "toronto"
          ],
          [
           "torquay"
          ],
          [
           "torrens"
          ],
          [
           "torrensville"
          ],
          [
           "tottenham"
          ],
          [
           "toukley"
          ],
          [
           "townsend"
          ],
          [
           "townsville city"
          ],
          [
           "towradgi"
          ],
          [
           "trafalgar"
          ],
          [
           "trangie"
          ],
          [
           "tranmere"
          ],
          [
           "traralgon"
          ],
          [
           "traralgon south"
          ],
          [
           "trawalla"
          ],
          [
           "treeby"
          ],
          [
           "tregear"
          ],
          [
           "trentham"
          ],
          [
           "trevallyn"
          ],
          [
           "triabunna"
          ],
          [
           "trinity beach"
          ],
          [
           "trinity gardens"
          ],
          [
           "trinity park"
          ],
          [
           "trott park"
          ],
          [
           "truganina"
          ],
          [
           "trundle"
          ],
          [
           "tuart hill"
          ],
          [
           "tucabia"
          ],
          [
           "tuggerah"
          ],
          [
           "tuggerawong"
          ],
          [
           "tugun"
          ],
          [
           "tullamarine"
          ],
          [
           "tullamore"
          ],
          [
           "tullimbar"
          ],
          [
           "tully"
          ],
          [
           "tumbarumba"
          ],
          [
           "tumbi umbi"
          ],
          [
           "tumut"
          ],
          [
           "tuncurry"
          ],
          [
           "tungamah"
          ],
          [
           "turner"
          ],
          [
           "tuross head"
          ],
          [
           "turramurra"
          ],
          [
           "turrella"
          ],
          [
           "turvey park"
          ],
          [
           "tusmore"
          ],
          [
           "tweed heads"
          ],
          [
           "tweed heads south"
          ],
          [
           "tweed heads west"
          ],
          [
           "two rocks"
          ],
          [
           "two wells"
          ],
          [
           "tyabb"
          ],
          [
           "tyalgum"
          ],
          [
           "tyers"
          ],
          [
           "tylden"
          ],
          [
           "uki"
          ],
          [
           "ulladulla"
          ],
          [
           "ultimo"
          ],
          [
           "ulverstone"
          ],
          [
           "umina"
          ],
          [
           "umina beach"
          ],
          [
           "unanderra"
          ],
          [
           "undera"
          ],
          [
           "underdale"
          ],
          [
           "underwood"
          ],
          [
           "ungarie"
          ],
          [
           "university of adelaide"
          ],
          [
           "upper burnie"
          ],
          [
           "upper caboolture"
          ],
          [
           "upper coomera"
          ],
          [
           "upper ferntree gully"
          ],
          [
           "upper kedron"
          ],
          [
           "upper mount gravatt"
          ],
          [
           "upper orara"
          ],
          [
           "upper sturt"
          ],
          [
           "upper swan"
          ],
          [
           "upwey"
          ],
          [
           "upwey south"
          ],
          [
           "uraidla"
          ],
          [
           "urangan"
          ],
          [
           "uranquinty"
          ],
          [
           "urraween"
          ],
          [
           "urrbrae"
          ],
          [
           "urunga"
          ],
          [
           "vacy"
          ],
          [
           "vale park"
          ],
          [
           "valentine"
          ],
          [
           "valla beach"
          ],
          [
           "valley heights"
          ],
          [
           "valley view"
          ],
          [
           "varroville"
          ],
          [
           "varsity lakes"
          ],
          [
           "vasse"
          ],
          [
           "vaucluse"
          ],
          [
           "verdun"
          ],
          [
           "vermont"
          ],
          [
           "vermont south"
          ],
          [
           "victoria point"
          ],
          [
           "viewbank"
          ],
          [
           "villawood"
          ],
          [
           "vincentia"
          ],
          [
           "vineyard"
          ],
          [
           "violet town"
          ],
          [
           "virginia"
          ],
          [
           "wacol"
          ],
          [
           "wadalba"
          ],
          [
           "wadeye"
          ],
          [
           "wagaman"
          ],
          [
           "wahgunyah"
          ],
          [
           "wahroonga"
          ],
          [
           "waikerie"
          ],
          [
           "waikiki"
          ],
          [
           "waitara"
          ],
          [
           "wakeley"
          ],
          [
           "wakerley"
          ],
          [
           "wakool"
          ],
          [
           "walkerston"
          ],
          [
           "walkervale"
          ],
          [
           "walkley heights"
          ],
          [
           "walla walla"
          ],
          [
           "wallace"
          ],
          [
           "wallacia"
          ],
          [
           "wallaga lake"
          ],
          [
           "wallalong"
          ],
          [
           "wallan"
          ],
          [
           "wallangarra"
          ],
          [
           "wallaroo"
          ],
          [
           "wallerawang"
          ],
          [
           "wallington"
          ],
          [
           "walliston"
          ],
          [
           "walloon"
          ],
          [
           "wallsend"
          ],
          [
           "wallumbilla"
          ],
          [
           "walpole"
          ],
          [
           "wamberal"
          ],
          [
           "wamuran"
          ],
          [
           "wandal"
          ],
          [
           "wandi"
          ],
          [
           "wandin north"
          ],
          [
           "wandina"
          ],
          [
           "wandoan"
          ],
          [
           "wandong"
          ],
          [
           "wangara"
          ],
          [
           "wangary"
          ],
          [
           "wangi wangi"
          ],
          [
           "wanguri"
          ],
          [
           "wannanup"
          ],
          [
           "wanniassa"
          ],
          [
           "wanora"
          ],
          [
           "wantirna"
          ],
          [
           "wantirna south"
          ],
          [
           "warabrook"
          ],
          [
           "waramanga"
          ],
          [
           "warana"
          ],
          [
           "waratah"
          ],
          [
           "waratah west"
          ],
          [
           "warburton"
          ],
          [
           "warialda"
          ],
          [
           "warilla"
          ],
          [
           "warnbro"
          ],
          [
           "warner"
          ],
          [
           "warners bay"
          ],
          [
           "warnervale"
          ],
          [
           "warooka"
          ],
          [
           "warraber island"
          ],
          [
           "warracknabeal"
          ],
          [
           "warradale"
          ],
          [
           "warragamba"
          ],
          [
           "warragul"
          ],
          [
           "warrandyte"
          ],
          [
           "warrane"
          ],
          [
           "warranwood"
          ],
          [
           "warrawee"
          ],
          [
           "warrawong"
          ],
          [
           "warrenheip"
          ],
          [
           "warriewood"
          ],
          [
           "warrimoo"
          ],
          [
           "warwick"
          ],
          [
           "warwick farm"
          ],
          [
           "watanobbi"
          ],
          [
           "waterfall"
          ],
          [
           "waterford"
          ],
          [
           "waterford west"
          ],
          [
           "waterloo"
          ],
          [
           "watervale"
          ],
          [
           "watson"
          ],
          [
           "watsonia"
          ],
          [
           "watsonia north"
          ],
          [
           "wattle glen"
          ],
          [
           "wattle grove"
          ],
          [
           "wattle park"
          ],
          [
           "waubra"
          ],
          [
           "wauchope"
          ],
          [
           "waurn ponds"
          ],
          [
           "wavell heights"
          ],
          [
           "wayville"
          ],
          [
           "wedderburn"
          ],
          [
           "wee waa"
          ],
          [
           "weetangera"
          ],
          [
           "weir views"
          ],
          [
           "welland"
          ],
          [
           "wellard"
          ],
          [
           "wellington point"
          ],
          [
           "welshpool"
          ],
          [
           "wembley"
          ],
          [
           "wembley downs"
          ],
          [
           "wendouree"
          ],
          [
           "wendouree west"
          ],
          [
           "wentworth falls"
          ],
          [
           "wentworth point"
          ],
          [
           "wentworthville"
          ],
          [
           "werribee"
          ],
          [
           "werribee south"
          ],
          [
           "werrimull"
          ],
          [
           "werrington"
          ],
          [
           "werrington county"
          ],
          [
           "werrington downs"
          ],
          [
           "werris creek"
          ],
          [
           "wesburn"
          ],
          [
           "west albury"
          ],
          [
           "west ballina"
          ],
          [
           "west beach"
          ],
          [
           "west burleigh"
          ],
          [
           "west croydon"
          ],
          [
           "west end"
          ],
          [
           "west footscray"
          ],
          [
           "west gosford"
          ],
          [
           "west hindmarsh"
          ],
          [
           "west hobart"
          ],
          [
           "west hoxton"
          ],
          [
           "west ipswich"
          ],
          [
           "west kempsey"
          ],
          [
           "west lakes"
          ],
          [
           "west lakes shore"
          ],
          [
           "west launceston"
          ],
          [
           "west leederville"
          ],
          [
           "west mackay"
          ],
          [
           "west melbourne"
          ],
          [
           "west melton"
          ],
          [
           "west moonah"
          ],
          [
           "west nowra"
          ],
          [
           "west pennant hills"
          ],
          [
           "west perth"
          ],
          [
           "west pymble"
          ],
          [
           "west rockhampton"
          ],
          [
           "west ryde"
          ],
          [
           "west swan"
          ],
          [
           "west tamworth"
          ],
          [
           "west ulverstone"
          ],
          [
           "west wallsend"
          ],
          [
           "west wodonga"
          ],
          [
           "west wollongong"
          ],
          [
           "west wyalong"
          ],
          [
           "westbourne park"
          ],
          [
           "westbrook"
          ],
          [
           "westbury"
          ],
          [
           "westcourt"
          ],
          [
           "westdale"
          ],
          [
           "westleigh"
          ],
          [
           "westmead"
          ],
          [
           "westmeadows"
          ],
          [
           "westminster"
          ],
          [
           "weston"
          ],
          [
           "wetherill park"
          ],
          [
           "whalan"
          ],
          [
           "wheatvale"
          ],
          [
           "wheeler heights"
          ],
          [
           "wheelers hill"
          ],
          [
           "white gum valley"
          ],
          [
           "white hills"
          ],
          [
           "white rock"
          ],
          [
           "whitebridge"
          ],
          [
           "whitfield"
          ],
          [
           "whittington"
          ],
          [
           "whorouly"
          ],
          [
           "whyalla norrie"
          ],
          [
           "whyalla stuart"
          ],
          [
           "wickham"
          ],
          [
           "wights mountain"
          ],
          [
           "wilberforce"
          ],
          [
           "wilcannia"
          ],
          [
           "wiley park"
          ],
          [
           "willagee"
          ],
          [
           "willaura"
          ],
          [
           "willawarrin"
          ],
          [
           "willetton"
          ],
          [
           "williams landing"
          ],
          [
           "williamstown"
          ],
          [
           "willmot"
          ],
          [
           "willow grove"
          ],
          [
           "willow tree"
          ],
          [
           "willow vale"
          ],
          [
           "willowra"
          ],
          [
           "willunga"
          ],
          [
           "wilmington"
          ],
          [
           "wilson"
          ],
          [
           "wilsons creek"
          ],
          [
           "wilsonton"
          ],
          [
           "wilsonton heights"
          ],
          [
           "wilsonton, toowoomba"
          ],
          [
           "wilston"
          ],
          [
           "wilton"
          ],
          [
           "winchelsea"
          ],
          [
           "windale"
          ],
          [
           "windsor"
          ],
          [
           "windsor downs"
          ],
          [
           "windsor gardens"
          ],
          [
           "wingello"
          ],
          [
           "wingham"
          ],
          [
           "winmalee"
          ],
          [
           "winston hills"
          ],
          [
           "winter valley"
          ],
          [
           "winthrop"
          ],
          [
           "wishart"
          ],
          [
           "withcott"
          ],
          [
           "withers"
          ],
          [
           "wollert"
          ],
          [
           "wollongbar"
          ],
          [
           "wollongong west"
          ],
          [
           "wollstonecraft"
          ],
          [
           "wombarra"
          ],
          [
           "wondai"
          ],
          [
           "wondunna"
          ],
          [
           "wonga beach"
          ],
          [
           "wonga park"
          ],
          [
           "wongaling beach"
          ],
          [
           "wongan hills"
          ],
          [
           "wongawilli"
          ],
          [
           "wonthaggi"
          ],
          [
           "wonthella"
          ],
          [
           "woodberry"
          ],
          [
           "woodbridge"
          ],
          [
           "woodburn"
          ],
          [
           "woodcroft"
          ],
          [
           "woodenbong"
          ],
          [
           "woodend"
          ],
          [
           "woodford"
          ],
          [
           "woodforde"
          ],
          [
           "woodhill"
          ],
          [
           "woodhill via beaudesert"
          ],
          [
           "woodlands"
          ],
          [
           "woodridge"
          ],
          [
           "woodrising"
          ],
          [
           "woodroffe"
          ],
          [
           "woodside"
          ],
          [
           "woodvale"
          ],
          [
           "woodville"
          ],
          [
           "woodville gardens"
          ],
          [
           "woodville north"
          ],
          [
           "woodville park"
          ],
          [
           "woodville south"
          ],
          [
           "woodville west"
          ],
          [
           "woody point"
          ],
          [
           "woolgoolga"
          ],
          [
           "woolloomooloo"
          ],
          [
           "woolloongabba"
          ],
          [
           "woolooware"
          ],
          [
           "wooloowin"
          ],
          [
           "woombye"
          ],
          [
           "woongarra"
          ],
          [
           "woongarrah"
          ],
          [
           "woongarrah (warnervale)"
          ],
          [
           "woongoolba"
          ],
          [
           "woonona"
          ],
          [
           "woori yallock"
          ],
          [
           "woorinen south"
          ],
          [
           "woree"
          ],
          [
           "worongary"
          ],
          [
           "woronora"
          ],
          [
           "woronora heights"
          ],
          [
           "worrigee"
          ],
          [
           "woy woy"
          ],
          [
           "wulagi"
          ],
          [
           "wulguru"
          ],
          [
           "wundowie"
          ],
          [
           "wurruk"
          ],
          [
           "wy yung"
          ],
          [
           "wycheproof"
          ],
          [
           "wyee"
          ],
          [
           "wyndham vale"
          ],
          [
           "wynn vale"
          ],
          [
           "wynnum"
          ],
          [
           "wynnum north"
          ],
          [
           "wynnum west"
          ],
          [
           "wynyard"
          ],
          [
           "wyoming"
          ],
          [
           "wyong"
          ],
          [
           "wyong creek"
          ],
          [
           "wyreema"
          ],
          [
           "yackandandah"
          ],
          [
           "yagoona"
          ],
          [
           "yakamia"
          ],
          [
           "yalata"
          ],
          [
           "yallambie"
          ],
          [
           "yallourn north"
          ],
          [
           "yalyalup"
          ],
          [
           "yam island"
          ],
          [
           "yamanto"
          ],
          [
           "yamba"
          ],
          [
           "yanchep"
          ],
          [
           "yandina"
          ],
          [
           "yandina creek"
          ],
          [
           "yangebup"
          ],
          [
           "yarra glen"
          ],
          [
           "yarra junction"
          ],
          [
           "yarrabilba"
          ],
          [
           "yarragon"
          ],
          [
           "yarralin"
          ],
          [
           "yarralumla"
          ],
          [
           "yarram"
          ],
          [
           "yarraman"
          ],
          [
           "yarrambat"
          ],
          [
           "yarravel"
          ],
          [
           "yarraville"
          ],
          [
           "yarrawarrah"
          ],
          [
           "yarrawonga"
          ],
          [
           "yass"
          ],
          [
           "yatala"
          ],
          [
           "yea"
          ],
          [
           "yeerongpilly"
          ],
          [
           "yenda"
          ],
          [
           "yennora"
          ],
          [
           "yeoval"
          ],
          [
           "yeppoon"
          ],
          [
           "yeronga"
          ],
          [
           "yinnar"
          ],
          [
           "yinnar south"
          ],
          [
           "yirrkala"
          ],
          [
           "yokine"
          ],
          [
           "yorke island"
          ],
          [
           "yorketown"
          ],
          [
           "yorkeys knob"
          ],
          [
           "young"
          ],
          [
           "youngtown"
          ],
          [
           "yowie bay"
          ],
          [
           "yuelumu"
          ],
          [
           "yuendumu"
          ],
          [
           "yulara"
          ],
          [
           "yungaburra"
          ],
          [
           "zetland"
          ],
          [
           "zillmere"
          ],
          [
           "zuccoli"
          ]
         ],
         "hovertemplate": "group=Not developmental vulnerabilities<br>Service Count=%{x}<br>Number of Approved Places=%{y}<br>Suburb_clean=%{customdata[0]}<extra></extra>",
         "legendgroup": "Not developmental vulnerabilities",
         "marker": {
          "color": "#636efa",
          "symbol": "circle"
         },
         "mode": "markers",
         "name": "Not developmental vulnerabilities",
         "showlegend": true,
         "type": "scattergl",
         "x": {
          "bdata": "AQkBAQEIAgQDCAUBBgMBAQECAwYGBQYCAgwGAQMPBQEEBwUCAgELDAIBBwQBAQsDAgEDAgIBAggBBAoMCQMEAQUBAQIHAQECAgsCAQECEAMDAQICAwYBAwQCAgEEAQEFAQEBFgkIAQINBwYKAQQCAhIBCwIMBQUHBQkGBAUDAQYDGAQBAQYBDAoCBAQCBAEHAQECBgILAQEBAgIMAQQDAQcHHAgJAgYIBgYDAgoBAwMKDAEBBAIGAQIKAx8BBggHAgEEAQQEBwEBAgUBAQIBBAIBAwYBAQILAQUDAgERAQECASEDAgIGAQEBAwEDFAUJAQEJAQQBBgIDAwEHAQEEBwQKAgYDBQYMAwcEAgMCBQcGAgMFBAEBBQICAwMDDwsBEQEEAQkBDBQFDAIEAQMFAQEIBAQCAQYCBAIEAyIBAwEBBQEJARMDBQECAgEBAwEBAQEBAQYBAgEBAQIJAgICAwECAgEEAgISBgcIAgMFAQEBAQIDBggBAQIIBQEGBAEDAgIBAwEBAwECAgEBAQMBAQQJAwEEDQMPAQECAgIIBAEBAwICAQEBAwYDAQIBAQQBDwYBAQgECgECAQEIBAoBEQsCAwUIBAMBAgEBBgEGCAoBAQEBAgEEAQQDAgUBAg0CBwECAQQCBQQDAwYJAgEDBAEMAwUOAwMECAgNBgIBCwEBAgECDgMBAQMFBQwHBAEBAgMBAwMEAgEDEQEBBAMEAQEHAQcFAQEBBAINAQIBAQEBAQIBAwgCAwIBCQMQCAEDHAIOAgEGAQEMAQECAQIBAQMLBAUNAQECAwUDAQYDBAcJAQEFAgUBFgoPAQEBBQoXBQkIAQwBAw0BAQEBAQEECwMBAgYDBgQUBRIEEQUBAQUDAQ8DBgEEFQICAQIKAQEeAggBAwsBAQQCAwgBBAIBAQUBAQIDAQMBAgIDAwEBCQMBAQcBARYBAgYDGgQHCQsBCgQBAwYDBAUHBwEDBQEHAgMCBAQBAgMBBAkMBQsBCwIBAQECCQEBBAMBCQQBBQMJGwEBBQECAQgWAQQDAQEBAQEBAQoCAgICAgEBAQcBAQUIAQECAgMFAQwBCwYNBwIDAQMCAgEKAgIBAQEBBwMBBAIDBgEDAxYBAQIBBwEFBw8FAQEBAQICAQQJAQIGAwMDBwIBAwIBBQEBBS0FIAoNAQ8OAQUCCAEEAwEGCgMBCQIFCwICAgICAQIBAQIBAQUDBQEEAgMFBwEBAwEIBwwBAggBBgECHgsBEgUBAQMBAQMEAQEFAQICAwIDBAQGBAYCBA0CCQIDAQwFBAYBAgEECAIDAQMDAQEBBgEBAQICDAgHBAEBAQcBAQcCAQEBDRcHCQEBAQwQAQQFAgECBAcBAgECBQ8BAgYHHgEBAQIBAQYBDAQBAQICAgUBCwwDAgEBAwgCBAoBAQEGAQIDAQYDAQQBAgEBAQEECQECAQICAQMKAQQBAhQHBQEIAQIBAwQBAwgEAgQGAwoBBwEFAQ0CAQIFAwcDBQMCAwICAgEBAxMDAhAQBAgCDgECAgIGGAcBFAICCS4CBQEIAwEMAgYEAQIWAQMCAQEBAQEBAgEBAQQBAgMFAQICBQIBAQYJAgEBAwEDAQECAwQGAgIBAQICAQMKAgMVAwEFBQUHAwICAQkBCQ0EAwkFBwEDAgQGAwICDwMDDQsBAQgEBAIKCAEGAgIDBgkCAgEBAwIJBAgBAQEDAQIBAgEBAgMCBgUHBAQBAgIHBQEDBQEBAwoCCgQCBQMCAgIDAQYCAQcMAgQBAQIDCgQBBAMVAh8BAQQBBwEBBwIDBQIGAQIBBA4FAQITAgIBCgIBBAECBAIKBQERAQYDAQMBCQEBCgEBBQIFAQcQAQUCCAQLAQEFAw8GAwYKFQQIAgQBARQDDwQCAwcGAQQBEwUBDAIUAQECAwQCAQIBAgINAQIBAQICBgsDCAMDAwEDBAEFBgoIBhEFAQEBAgMIBQgTAQYCAgEBAQEBAgIFBQcFBQEDBwQBAwIBDwgCAQEBAQEEAQEBBgYBAQQFAwIEAgMDBwQEAgYJAQQCBAEBAwQBAQQFBwEDAgIBCAIDCggCCgMBAgQBCAIBDAIBBgEBAgUCAgQBCgMBAQEBCAUDBQEFBAcCIwECBQMDBAUDBAYBAwYFAQMFAQIDBAQaAwEDAQUBBAMBDQoBBAgMCQEBBAEEAgMEBAEDAgEMAgECAQICAwICAgEKAgEBBAIEAgEQAwYEAwEDAgEBAQIBBAIBAQIBBwcHAQEPAwIMAQICAQkCAQIBAQEEAQMCBAQDAQEBAwIBBwECCQIBAQIEAQYBAgIEAwIICAgIAQIBGQYKCgQBAQINAQQUAQMCBwMCAQIBARkEAQMCEwQBAQQBAgIBAQEIAQMEBwkBAQYJAQMHAQUCBAIGCQoCDgIBAQMQAwEBCAEBDAEQBAYBCgEGAQMBAgEBBgEDAwIDBAIBAQEEAQMCAwICAgEFAwcCBQEBCAUBAwIBAQQDAwICBQEFCgQBDQQEAgEDAwcDAgMDFgIBAgwBAgEBAgICAQECAQMBAgoEAgMIAwQHFwEBAQEEBAIICAcDAQIIAwMBDgICAg4KAgEPBAMBAQEDAwQBAQECAgQBAgcEAQEFBwQFBwYDAQECAwMBAQEBAQEBAQEEBAQBBQEBAgICCQIGBAQFAwMBAQIBAwQBAgQBAwEGAQEEDQkFBQQDBAYBAQECBQYBAwEEAQMCAQQBAgELDQMBAQIKAQMCAgIRBAkCAwIBBgEGAgQCCAEBBwcDAQICAgECCxICAxgCCgoDAxMBBgEBDgILAwYICAEDBAIGAgIEAQUBCAUGAwIBAwIKAQIBAQEDCQcLAgEBAgESAgEDAgcCBAMBAQEHDgEGBCACBgIBDAEIAwIEBQQDAQIEAQETAQUCAQQCAwMEAgYBCAYCAgIBAQwBAQEQAQIGAQEBCQEHAgYGAgQJAQECAgEBAQMGAwIEAgEBBwEBBwIEAgIEAggCCQEBCQMEChQIAQYRBwgBAgcOCAEBAh0CCQcFAQsGAwEFBwIBBQMGAgEDAQECFAMBDQoBCgQFAwEIAQEMBAEMAQEBAgMLBgIBAgMBAQIBAQcCFggCAgECAQICAQECAQwRAQEDDgQBAQUBAgECBgIBAwUBBAMDAQEGAwgBAgcBAwEBAQICAQMEAgMCCgUKAQMCAQIBBAUJAQULBQQDBgUGGAEKEAkBAwIBAQIBBQEBDwEBBQMFBwIDAgQFAwUBAgQCBgQMAQkFHgECBAIDAwgBAgkBAgECAQEBAQMQBAUHAwICBgEEBAIFAwEBAQIEAgICAgEBAQEBAgIBAwUFBQ0KAQoDAQ8HBRMGARIBBgMBAgMFAQEBAQcBDAMFBwEBAgkDAg8BAQUCAQQJBgIFAQECAQYCBAYGAgEBBAQCCQUJBQQICgYEGAMBBAECAwECAQIBCAEBBgENAQYJAQEBBwIEAQcCCQMBBAEDCAgNDAEBBSQEBQEBBAQDCwEBAgEGBAYBAQgBCgEJBAIBAgQMBQEBAwIBAwYEBQIBAwEBAw4HAgICAQIBAgEMAQMDAgIBBAEDCgECBwIEAwkDAQcBBQgBBQEDCQMJAxMCAgEDAwEBCAcCLAEBBAEBAQYCBAIBAQQCAgQJGgcCAgEBAQIIAQEEAgMDHgIPAQIGAQECAhYBAQMCCwEEFwENAgIEAgQGAwIBBAkBAQEBAQEBAQEFAgEDAQILAw4CAxIGBwMJBwQICQQDAQYBAQEFGQERBgIGAQQEAgEDAwEQCwYDAQECBQELBwQECwMBBAENAwcHAwMJAQEBAQICAgEGBQcDAQsNBAEOCwEDCAcFAQEIAQQDAQIBAgUBDRgOBAUEBQEHBwEBAQECAgoCBwIBAQIBBAIBAQUNBgUCAwECAwECBQEDBwENAQkCCQEBBQIIAgsFBQEBAQMCAgQDFgECAQECCQIBAgMKBQUBAgIDAhkCBQQGAQIBAQYDBAEBAQECGAICBAECAQECBAEBAQEBAwECCAICAQYBARICAQMBAQEBAgEDAgMJAgEBAwEHAgQBAQEEBAEDBAYBAwEEBgIDAQEIDwEEAwcCBQEDAgEFAQMBCQkEBgELEwIGAwMEAQcCBAMCEAUIAQ0SFAUbAQEEAQEPBAECAgMGFgEEAwELCwwIEQEFBwQBBAcEAgEGAQQCAwICAwYCAgcCBwkCAwICBQECBwEJAQEgCQUMAQMHCwEBAgMDDQoCCQIBAgIEAwsFCwICAgEBBwcBAQEBAQEDBgICAgEXAQEDBQUHBgMBAQIBAQERAQQBLQEBAQEGAQEBAQQCBQcGAgMCAQEBBQoLAgIDAgkJAQUCAQMBBAwCAgQCBQICAgIDBQIRAQ8BBQkIDwkCAQUCBwECBAECAwECAgIFAQICAQECAgIBAQEDAQMCAQIBARMCAwoBBwIGAgEBBRcDAwEEAQECAwEBFgIBBAECAgEFAgIBGAEGAQUCAwUBAgIBBQUFAQQBDQMBAQgGAQIFBQECAQEGCgUCAgYBAwkBAQEBDwIBCgEBAQUBAgQBBwIDAQICAQECAQYDCQIJCwkDAwEDAQcDAgEDARIDBAcBAQEFAgEBAQECAQkBAwEBAwIHAQEIAgEDAwIBAgEBAgQCCwEIFQIDAQkBAgEEBwUJBAEBAgUEEwQDBQIEAQgEDAEBAQULBwEECAEBBQECCQMFAwIDAgIBBwUDCAULAQQBFzEBAQQCAQEBAQIDAQIKBgQCAgcBAgMCAQMFAgQBAwsCBgEKAQMBBAkCBAIDAQEBAQ0EAwQHBgEBEAIFBgIDAwIIAgMCAwEEBAIBCwcMAQIBAQEEAQMBAQEBBAMDAggBAwEFBQgBAgMCARADAQEBAQMBAgEBAQcBAwIBBwEGBQIBAQUIAQYBBgQDAgMBAgEEAwQFBgUBBQEBBAMBBwUBAgELAwMBAQIBAhIJCQEEAgYKAQIDDgEBAwIBAgUECQUCBQMFBwMBBgIBBAEJAQcGAwIBAQEBCggCAQEFAQICCAECAQIBAwUDBg==",
          "dtype": "i1"
         },
         "xaxis": "x",
         "y": {
          "bdata": "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",
          "dtype": "f8"
         },
         "yaxis": "y"
        },
        {
         "customdata": [
          [
           "adelaide"
          ],
          [
           "albany"
          ],
          [
           "albury"
          ],
          [
           "alice springs"
          ],
          [
           "ararat"
          ],
          [
           "armadale"
          ],
          [
           "ashburton"
          ],
          [
           "aurukun"
          ],
          [
           "ballarat"
          ],
          [
           "ballina"
          ],
          [
           "balranald"
          ],
          [
           "barcaldine"
          ],
          [
           "bassendean"
          ],
          [
           "bayswater"
          ],
          [
           "bellingen"
          ],
          [
           "belmont"
          ],
          [
           "benalla"
          ],
          [
           "berrigan"
          ],
          [
           "beverley"
          ],
          [
           "blacktown"
          ],
          [
           "blayney"
          ],
          [
           "boddington"
          ],
          [
           "bourke"
          ],
          [
           "boyup brook"
          ],
          [
           "brewarrina"
          ],
          [
           "brighton"
          ],
          [
           "brisbane"
          ],
          [
           "broken hill"
          ],
          [
           "brookton"
          ],
          [
           "broome"
          ],
          [
           "bruce rock"
          ],
          [
           "bunbury"
          ],
          [
           "bundaberg"
          ],
          [
           "burnie"
          ],
          [
           "burnside"
          ],
          [
           "burwood"
          ],
          [
           "busselton"
          ],
          [
           "cairns"
          ],
          [
           "cambridge"
          ],
          [
           "camden"
          ],
          [
           "capel"
          ],
          [
           "cardinia"
          ],
          [
           "carnamah"
          ],
          [
           "carnarvon"
          ],
          [
           "casey"
          ],
          [
           "ceduna"
          ],
          [
           "cessnock"
          ],
          [
           "charters towers"
          ],
          [
           "cherbourg"
          ],
          [
           "christmas island"
          ],
          [
           "claremont"
          ],
          [
           "cleve"
          ],
          [
           "cloncurry"
          ],
          [
           "cobar"
          ],
          [
           "coffs harbour"
          ],
          [
           "collie"
          ],
          [
           "coober pedy"
          ],
          [
           "coolamon"
          ],
          [
           "coonamble"
          ],
          [
           "corrigin"
          ],
          [
           "cottesloe"
          ],
          [
           "cowra"
          ],
          [
           "cranbrook"
          ],
          [
           "croydon"
          ],
          [
           "cunderdin"
          ],
          [
           "dalwallinu"
          ],
          [
           "dardanup"
          ],
          [
           "darwin"
          ],
          [
           "denmark"
          ],
          [
           "devonport"
          ],
          [
           "doomadgee"
          ],
          [
           "douglas"
          ],
          [
           "dowerin"
          ],
          [
           "dundas"
          ],
          [
           "dungog"
          ],
          [
           "east fremantle"
          ],
          [
           "elliston"
          ],
          [
           "esperance"
          ],
          [
           "exmouth"
          ],
          [
           "fairfield"
          ],
          [
           "forbes"
          ],
          [
           "frankston"
          ],
          [
           "fremantle"
          ],
          [
           "gawler"
          ],
          [
           "george town"
          ],
          [
           "gilgandra"
          ],
          [
           "gingin"
          ],
          [
           "gladstone"
          ],
          [
           "glenelg"
          ],
          [
           "glenorchy"
          ],
          [
           "goomalling"
          ],
          [
           "goondiwindi"
          ],
          [
           "gosnells"
          ],
          [
           "griffith"
          ],
          [
           "gunnedah"
          ],
          [
           "gympie"
          ],
          [
           "halls creek"
          ],
          [
           "harvey"
          ],
          [
           "hay"
          ],
          [
           "hepburn"
          ],
          [
           "hinchinbrook"
          ],
          [
           "hobart"
          ],
          [
           "hope vale"
          ],
          [
           "hornsby"
          ],
          [
           "horsham"
          ],
          [
           "hunters hill"
          ],
          [
           "inverell"
          ],
          [
           "ipswich"
          ],
          [
           "jerramungup"
          ],
          [
           "joondalup"
          ],
          [
           "junee"
          ],
          [
           "kalamunda"
          ],
          [
           "karratha"
          ],
          [
           "katanning"
          ],
          [
           "katherine"
          ],
          [
           "kempsey"
          ],
          [
           "kiama"
          ],
          [
           "kimba"
          ],
          [
           "kojonup"
          ],
          [
           "kowanyama"
          ],
          [
           "kulin"
          ],
          [
           "kyogle"
          ],
          [
           "lake grace"
          ],
          [
           "lane cove"
          ],
          [
           "launceston"
          ],
          [
           "laverton"
          ],
          [
           "leeton"
          ],
          [
           "leonora"
          ],
          [
           "lismore"
          ],
          [
           "lithgow"
          ],
          [
           "liverpool"
          ],
          [
           "lockhart"
          ],
          [
           "lockhart river"
          ],
          [
           "longreach"
          ],
          [
           "mackay"
          ],
          [
           "maitland"
          ],
          [
           "mandurah"
          ],
          [
           "manjimup"
          ],
          [
           "manningham"
          ],
          [
           "mansfield"
          ],
          [
           "mapoon"
          ],
          [
           "mareeba"
          ],
          [
           "maribyrnong"
          ],
          [
           "marion"
          ],
          [
           "melbourne"
          ],
          [
           "melton"
          ],
          [
           "melville"
          ],
          [
           "merredin"
          ],
          [
           "mildura"
          ],
          [
           "mingenew"
          ],
          [
           "mitcham"
          ],
          [
           "monash"
          ],
          [
           "moora"
          ],
          [
           "moreland"
          ],
          [
           "mornington"
          ],
          [
           "mosman"
          ],
          [
           "mosman park"
          ],
          [
           "mount barker"
          ],
          [
           "mount gambier"
          ],
          [
           "mount isa"
          ],
          [
           "mukinbudin"
          ],
          [
           "mundaring"
          ],
          [
           "murchison"
          ],
          [
           "murray bridge"
          ],
          [
           "muswellbrook"
          ],
          [
           "nannup"
          ],
          [
           "napranum"
          ],
          [
           "narembeen"
          ],
          [
           "narrabri"
          ],
          [
           "narrandera"
          ],
          [
           "narrogin"
          ],
          [
           "narromine"
          ],
          [
           "nedlands"
          ],
          [
           "newcastle"
          ],
          [
           "north sydney"
          ],
          [
           "northam"
          ],
          [
           "northampton"
          ],
          [
           "oberon"
          ],
          [
           "orange"
          ],
          [
           "palm island"
          ],
          [
           "palmerston"
          ],
          [
           "parkes"
          ],
          [
           "parramatta"
          ],
          [
           "penrith"
          ],
          [
           "peppermint grove"
          ],
          [
           "perenjori"
          ],
          [
           "perth"
          ],
          [
           "peterborough"
          ],
          [
           "pormpuraaw"
          ],
          [
           "port augusta"
          ],
          [
           "port hedland"
          ],
          [
           "port lincoln"
          ],
          [
           "port pirie"
          ],
          [
           "prospect"
          ],
          [
           "quairading"
          ],
          [
           "quilpie"
          ],
          [
           "randwick"
          ],
          [
           "ravensthorpe"
          ],
          [
           "richmond"
          ],
          [
           "robe"
          ],
          [
           "rockhampton"
          ],
          [
           "rockingham"
          ],
          [
           "roxby downs"
          ],
          [
           "ryde"
          ],
          [
           "salisbury"
          ],
          [
           "shellharbour"
          ],
          [
           "singleton"
          ],
          [
           "somerset"
          ],
          [
           "sorell"
          ],
          [
           "south perth"
          ],
          [
           "stirling"
          ],
          [
           "strathfield"
          ],
          [
           "streaky bay"
          ],
          [
           "subiaco"
          ],
          [
           "swan hill"
          ],
          [
           "sydney"
          ],
          [
           "tea tree gully"
          ],
          [
           "temora"
          ],
          [
           "tenterfield"
          ],
          [
           "three springs"
          ],
          [
           "toodyay"
          ],
          [
           "toowoomba"
          ],
          [
           "townsville"
          ],
          [
           "tumby bay"
          ],
          [
           "unley"
          ],
          [
           "uralla"
          ],
          [
           "victor harbor"
          ],
          [
           "victoria park"
          ],
          [
           "vincent"
          ],
          [
           "wagga wagga"
          ],
          [
           "wagin"
          ],
          [
           "walcha"
          ],
          [
           "walgett"
          ],
          [
           "walkerville"
          ],
          [
           "wangaratta"
          ],
          [
           "wanneroo"
          ],
          [
           "waroona"
          ],
          [
           "warren"
          ],
          [
           "warrnambool"
          ],
          [
           "waverley"
          ],
          [
           "weipa"
          ],
          [
           "wellington"
          ],
          [
           "wentworth"
          ],
          [
           "whittlesea"
          ],
          [
           "whyalla"
          ],
          [
           "williams"
          ],
          [
           "willoughby"
          ],
          [
           "winton"
          ],
          [
           "wodonga"
          ],
          [
           "wollongong"
          ],
          [
           "woollahra"
          ],
          [
           "woorabinda"
          ],
          [
           "wudinna"
          ],
          [
           "wujal wujal"
          ],
          [
           "wyndham"
          ],
          [
           "yankalilla"
          ],
          [
           "yarrabah"
          ],
          [
           "york"
          ]
         ],
         "hovertemplate": "group=Developmental vulnerabilities<br>Service Count=%{x}<br>Number of Approved Places=%{y}<br>Suburb_clean=%{customdata[0]}<extra></extra>",
         "legendgroup": "Developmental vulnerabilities",
         "marker": {
          "color": "#EF553B",
          "symbol": "circle"
         },
         "mode": "markers",
         "name": "Developmental vulnerabilities",
         "showlegend": true,
         "type": "scattergl",
         "x": {
          "bdata": "FAsSEggVCwEMCQECBxEEGwoBAiIEAQIBAh8FCQEFAQcZBgUXCggDCwIBAQECBAkFAgELAQIFGAMDBAQBAQcHJwEBAQUCCAEBAQYCAwEDARMHHQUEAQIBEgMFAQcJDAsQAQMDAQYGARULCAoEAQkDAwQCBwgIAQEBAQQBFAMHBAENBh4BAQIMCgoCAQsBBgYHDBMDARYBDwQDARMRBhISDAEEAg4IAQIBCAMBAgkGEAIBAiMCAwgUHgEBCgECBwMLBxABARYBHgEKCQIUDgQPAwIHCg0EAwwNBAMCAQE6AwIHAggGAyABAwIGFAwBAhkIAwUBBQQCCQISFAYBAgEBAgEB",
          "dtype": "i1"
         },
         "xaxis": "x",
         "y": {
          "bdata": "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",
          "dtype": "f8"
         },
         "yaxis": "y"
        }
       ],
       "layout": {
        "height": 500,
        "legend": {
         "title": {
          "text": "Suburb Group"
         },
         "tracegroupgap": 0
        },
        "margin": {
         "b": 40,
         "l": 40,
         "r": 40,
         "t": 60
        },
        "template": {
         "data": {
          "bar": [
           {
            "error_x": {
             "color": "#2a3f5f"
            },
            "error_y": {
             "color": "#2a3f5f"
            },
            "marker": {
             "line": {
              "color": "#E5ECF6",
              "width": 0.5
             },
             "pattern": {
              "fillmode": "overlay",
              "size": 10,
              "solidity": 0.2
             }
            },
            "type": "bar"
           }
          ],
          "barpolar": [
           {
            "marker": {
             "line": {
              "color": "#E5ECF6",
              "width": 0.5
             },
             "pattern": {
              "fillmode": "overlay",
              "size": 10,
              "solidity": 0.2
             }
            },
            "type": "barpolar"
           }
          ],
          "carpet": [
           {
            "aaxis": {
             "endlinecolor": "#2a3f5f",
             "gridcolor": "white",
             "linecolor": "white",
             "minorgridcolor": "white",
             "startlinecolor": "#2a3f5f"
            },
            "baxis": {
             "endlinecolor": "#2a3f5f",
             "gridcolor": "white",
             "linecolor": "white",
             "minorgridcolor": "white",
             "startlinecolor": "#2a3f5f"
            },
            "type": "carpet"
           }
          ],
          "choropleth": [
           {
            "colorbar": {
             "outlinewidth": 0,
             "ticks": ""
            },
            "type": "choropleth"
           }
          ],
          "contour": [
           {
            "colorbar": {
             "outlinewidth": 0,
             "ticks": ""
            },
            "colorscale": [
             [
              0,
              "#0d0887"
             ],
             [
              0.1111111111111111,
              "#46039f"
             ],
             [
              0.2222222222222222,
              "#7201a8"
             ],
             [
              0.3333333333333333,
              "#9c179e"
             ],
             [
              0.4444444444444444,
              "#bd3786"
             ],
             [
              0.5555555555555556,
              "#d8576b"
             ],
             [
              0.6666666666666666,
              "#ed7953"
             ],
             [
              0.7777777777777778,
              "#fb9f3a"
             ],
             [
              0.8888888888888888,
              "#fdca26"
             ],
             [
              1,
              "#f0f921"
             ]
            ],
            "type": "contour"
           }
          ],
          "contourcarpet": [
           {
            "colorbar": {
             "outlinewidth": 0,
             "ticks": ""
            },
            "type": "contourcarpet"
           }
          ],
          "heatmap": [
           {
            "colorbar": {
             "outlinewidth": 0,
             "ticks": ""
            },
            "colorscale": [
             [
              0,
              "#0d0887"
             ],
             [
              0.1111111111111111,
              "#46039f"
             ],
             [
              0.2222222222222222,
              "#7201a8"
             ],
             [
              0.3333333333333333,
              "#9c179e"
             ],
             [
              0.4444444444444444,
              "#bd3786"
             ],
             [
              0.5555555555555556,
              "#d8576b"
             ],
             [
              0.6666666666666666,
              "#ed7953"
             ],
             [
              0.7777777777777778,
              "#fb9f3a"
             ],
             [
              0.8888888888888888,
              "#fdca26"
             ],
             [
              1,
              "#f0f921"
             ]
            ],
            "type": "heatmap"
           }
          ],
          "histogram": [
           {
            "marker": {
             "pattern": {
              "fillmode": "overlay",
              "size": 10,
              "solidity": 0.2
             }
            },
            "type": "histogram"
           }
          ],
          "histogram2d": [
           {
            "colorbar": {
             "outlinewidth": 0,
             "ticks": ""
            },
            "colorscale": [
             [
              0,
              "#0d0887"
             ],
             [
              0.1111111111111111,
              "#46039f"
             ],
             [
              0.2222222222222222,
              "#7201a8"
             ],
             [
              0.3333333333333333,
              "#9c179e"
             ],
             [
              0.4444444444444444,
              "#bd3786"
             ],
             [
              0.5555555555555556,
              "#d8576b"
             ],
             [
              0.6666666666666666,
              "#ed7953"
             ],
             [
              0.7777777777777778,
              "#fb9f3a"
             ],
             [
              0.8888888888888888,
              "#fdca26"
             ],
             [
              1,
              "#f0f921"
             ]
            ],
            "type": "histogram2d"
           }
          ],
          "histogram2dcontour": [
           {
            "colorbar": {
             "outlinewidth": 0,
             "ticks": ""
            },
            "colorscale": [
             [
              0,
              "#0d0887"
             ],
             [
              0.1111111111111111,
              "#46039f"
             ],
             [
              0.2222222222222222,
              "#7201a8"
             ],
             [
              0.3333333333333333,
              "#9c179e"
             ],
             [
              0.4444444444444444,
              "#bd3786"
             ],
             [
              0.5555555555555556,
              "#d8576b"
             ],
             [
              0.6666666666666666,
              "#ed7953"
             ],
             [
              0.7777777777777778,
              "#fb9f3a"
             ],
             [
              0.8888888888888888,
              "#fdca26"
             ],
             [
              1,
              "#f0f921"
             ]
            ],
            "type": "histogram2dcontour"
           }
          ],
          "mesh3d": [
           {
            "colorbar": {
             "outlinewidth": 0,
             "ticks": ""
            },
            "type": "mesh3d"
           }
          ],
          "parcoords": [
           {
            "line": {
             "colorbar": {
              "outlinewidth": 0,
              "ticks": ""
             }
            },
            "type": "parcoords"
           }
          ],
          "pie": [
           {
            "automargin": true,
            "type": "pie"
           }
          ],
          "scatter": [
           {
            "fillpattern": {
             "fillmode": "overlay",
             "size": 10,
             "solidity": 0.2
            },
            "type": "scatter"
           }
          ],
          "scatter3d": [
           {
            "line": {
             "colorbar": {
              "outlinewidth": 0,
              "ticks": ""
             }
            },
            "marker": {
             "colorbar": {
              "outlinewidth": 0,
              "ticks": ""
             }
            },
            "type": "scatter3d"
           }
          ],
          "scattercarpet": [
           {
            "marker": {
             "colorbar": {
              "outlinewidth": 0,
              "ticks": ""
             }
            },
            "type": "scattercarpet"
           }
          ],
          "scattergeo": [
           {
            "marker": {
             "colorbar": {
              "outlinewidth": 0,
              "ticks": ""
             }
            },
            "type": "scattergeo"
           }
          ],
          "scattergl": [
           {
            "marker": {
             "colorbar": {
              "outlinewidth": 0,
              "ticks": ""
             }
            },
            "type": "scattergl"
           }
          ],
          "scattermap": [
           {
            "marker": {
             "colorbar": {
              "outlinewidth": 0,
              "ticks": ""
             }
            },
            "type": "scattermap"
           }
          ],
          "scattermapbox": [
           {
            "marker": {
             "colorbar": {
              "outlinewidth": 0,
              "ticks": ""
             }
            },
            "type": "scattermapbox"
           }
          ],
          "scatterpolar": [
           {
            "marker": {
             "colorbar": {
              "outlinewidth": 0,
              "ticks": ""
             }
            },
            "type": "scatterpolar"
           }
          ],
          "scatterpolargl": [
           {
            "marker": {
             "colorbar": {
              "outlinewidth": 0,
              "ticks": ""
             }
            },
            "type": "scatterpolargl"
           }
          ],
          "scatterternary": [
           {
            "marker": {
             "colorbar": {
              "outlinewidth": 0,
              "ticks": ""
             }
            },
            "type": "scatterternary"
           }
          ],
          "surface": [
           {
            "colorbar": {
             "outlinewidth": 0,
             "ticks": ""
            },
            "colorscale": [
             [
              0,
              "#0d0887"
             ],
             [
              0.1111111111111111,
              "#46039f"
             ],
             [
              0.2222222222222222,
              "#7201a8"
             ],
             [
              0.3333333333333333,
              "#9c179e"
             ],
             [
              0.4444444444444444,
              "#bd3786"
             ],
             [
              0.5555555555555556,
              "#d8576b"
             ],
             [
              0.6666666666666666,
              "#ed7953"
             ],
             [
              0.7777777777777778,
              "#fb9f3a"
             ],
             [
              0.8888888888888888,
              "#fdca26"
             ],
             [
              1,
              "#f0f921"
             ]
            ],
            "type": "surface"
           }
          ],
          "table": [
           {
            "cells": {
             "fill": {
              "color": "#EBF0F8"
             },
             "line": {
              "color": "white"
             }
            },
            "header": {
             "fill": {
              "color": "#C8D4E3"
             },
             "line": {
              "color": "white"
             }
            },
            "type": "table"
           }
          ]
         },
         "layout": {
          "annotationdefaults": {
           "arrowcolor": "#2a3f5f",
           "arrowhead": 0,
           "arrowwidth": 1
          },
          "autotypenumbers": "strict",
          "coloraxis": {
           "colorbar": {
            "outlinewidth": 0,
            "ticks": ""
           }
          },
          "colorscale": {
           "diverging": [
            [
             0,
             "#8e0152"
            ],
            [
             0.1,
             "#c51b7d"
            ],
            [
             0.2,
             "#de77ae"
            ],
            [
             0.3,
             "#f1b6da"
            ],
            [
             0.4,
             "#fde0ef"
            ],
            [
             0.5,
             "#f7f7f7"
            ],
            [
             0.6,
             "#e6f5d0"
            ],
            [
             0.7,
             "#b8e186"
            ],
            [
             0.8,
             "#7fbc41"
            ],
            [
             0.9,
             "#4d9221"
            ],
            [
             1,
             "#276419"
            ]
           ],
           "sequential": [
            [
             0,
             "#0d0887"
            ],
            [
             0.1111111111111111,
             "#46039f"
            ],
            [
             0.2222222222222222,
             "#7201a8"
            ],
            [
             0.3333333333333333,
             "#9c179e"
            ],
            [
             0.4444444444444444,
             "#bd3786"
            ],
            [
             0.5555555555555556,
             "#d8576b"
            ],
            [
             0.6666666666666666,
             "#ed7953"
            ],
            [
             0.7777777777777778,
             "#fb9f3a"
            ],
            [
             0.8888888888888888,
             "#fdca26"
            ],
            [
             1,
             "#f0f921"
            ]
           ],
           "sequentialminus": [
            [
             0,
             "#0d0887"
            ],
            [
             0.1111111111111111,
             "#46039f"
            ],
            [
             0.2222222222222222,
             "#7201a8"
            ],
            [
             0.3333333333333333,
             "#9c179e"
            ],
            [
             0.4444444444444444,
             "#bd3786"
            ],
            [
             0.5555555555555556,
             "#d8576b"
            ],
            [
             0.6666666666666666,
             "#ed7953"
            ],
            [
             0.7777777777777778,
             "#fb9f3a"
            ],
            [
             0.8888888888888888,
             "#fdca26"
            ],
            [
             1,
             "#f0f921"
            ]
           ]
          },
          "colorway": [
           "#636efa",
           "#EF553B",
           "#00cc96",
           "#ab63fa",
           "#FFA15A",
           "#19d3f3",
           "#FF6692",
           "#B6E880",
           "#FF97FF",
           "#FECB52"
          ],
          "font": {
           "color": "#2a3f5f"
          },
          "geo": {
           "bgcolor": "white",
           "lakecolor": "white",
           "landcolor": "#E5ECF6",
           "showlakes": true,
           "showland": true,
           "subunitcolor": "white"
          },
          "hoverlabel": {
           "align": "left"
          },
          "hovermode": "closest",
          "mapbox": {
           "style": "light"
          },
          "paper_bgcolor": "white",
          "plot_bgcolor": "#E5ECF6",
          "polar": {
           "angularaxis": {
            "gridcolor": "white",
            "linecolor": "white",
            "ticks": ""
           },
           "bgcolor": "#E5ECF6",
           "radialaxis": {
            "gridcolor": "white",
            "linecolor": "white",
            "ticks": ""
           }
          },
          "scene": {
           "xaxis": {
            "backgroundcolor": "#E5ECF6",
            "gridcolor": "white",
            "gridwidth": 2,
            "linecolor": "white",
            "showbackground": true,
            "ticks": "",
            "zerolinecolor": "white"
           },
           "yaxis": {
            "backgroundcolor": "#E5ECF6",
            "gridcolor": "white",
            "gridwidth": 2,
            "linecolor": "white",
            "showbackground": true,
            "ticks": "",
            "zerolinecolor": "white"
           },
           "zaxis": {
            "backgroundcolor": "#E5ECF6",
            "gridcolor": "white",
            "gridwidth": 2,
            "linecolor": "white",
            "showbackground": true,
            "ticks": "",
            "zerolinecolor": "white"
           }
          },
          "shapedefaults": {
           "line": {
            "color": "#2a3f5f"
           }
          },
          "ternary": {
           "aaxis": {
            "gridcolor": "white",
            "linecolor": "white",
            "ticks": ""
           },
           "baxis": {
            "gridcolor": "white",
            "linecolor": "white",
            "ticks": ""
           },
           "bgcolor": "#E5ECF6",
           "caxis": {
            "gridcolor": "white",
            "linecolor": "white",
            "ticks": ""
           }
          },
          "title": {
           "x": 0.05
          },
          "xaxis": {
           "automargin": true,
           "gridcolor": "white",
           "linecolor": "white",
           "ticks": "",
           "title": {
            "standoff": 15
           },
           "zerolinecolor": "white",
           "zerolinewidth": 2
          },
          "yaxis": {
           "automargin": true,
           "gridcolor": "white",
           "linecolor": "white",
           "ticks": "",
           "title": {
            "standoff": 15
           },
           "zerolinecolor": "white",
           "zerolinewidth": 2
          }
         }
        },
        "title": {
         "text": "Service Count and Number of Approved Places\n(Developmental vulnerabilities vs. Not developmental vulnerabilities suburbs)"
        },
        "width": 900,
        "xaxis": {
         "anchor": "y",
         "domain": [
          0,
          1
         ],
         "title": {
          "text": "Service Count"
         }
        },
        "yaxis": {
         "anchor": "x",
         "domain": [
          0,
          1
         ],
         "title": {
          "text": "Number of Approved Places"
         }
        }
       }
      },
      "image/png": "[encoded data removed]"
     },
     "metadata": {},
     "output_type": "display_data"
    }
   ],
   "source": [
    "import plotly.express as px\n",
    "\n",
    "edu_all = edu.groupby('Suburb_clean').agg(\n",
    "    service_count=('ServiceName', 'nunique'),\n",
    "    total_Approved_places=('NumberOfApprovedPlaces', 'sum')\n",
    ").reset_index()\n",
    "\n",
    "dv_subs = [\n",
    "    'adelaide', 'albany', 'albury', 'alice springs', 'ararat', 'armadale',\n",
    "    'ashburton', 'aurukun', 'ballarat', 'ballina', 'balranald', 'barcaldine',\n",
    "    'bassendean', 'bayswater', 'bellingen', 'belmont', 'benalla', 'berrigan',\n",
    "    'beverley', 'blacktown', 'blayney', 'boddington', 'bourke', 'boyup brook',\n",
    "    'brewarrina', 'brighton', 'brisbane', 'broken hill', 'brookton', 'broome',\n",
    "    'bruce rock', 'bunbury', 'bundaberg', 'burnie', 'burnside', 'burwood',\n",
    "    'busselton', 'cairns', 'cambridge', 'camden', 'capel', 'cardinia',\n",
    "    'carnamah', 'carnarvon', 'casey', 'ceduna', 'cessnock', 'charters towers',\n",
    "    'cherbourg', 'christmas island', 'claremont', 'cleve', 'cloncurry', 'cobar',\n",
    "    'coffs harbour', 'collie', 'coober pedy', 'coolamon', 'coonamble',\n",
    "    'corrigin', 'cottesloe', 'cowra', 'cranbrook', 'croydon', 'cunderdin',\n",
    "    'dalwallinu', 'dardanup', 'darwin', 'denmark', 'devonport', 'doomadgee',\n",
    "    'douglas', 'dowerin', 'dundas', 'dungog', 'east fremantle', 'elliston',\n",
    "    'esperance', 'exmouth', 'fairfield', 'forbes', 'frankston', 'fremantle',\n",
    "    'gawler', 'george town', 'gilgandra', 'gingin', 'gladstone', 'glenelg',\n",
    "    'glenorchy', 'goomalling', 'goondiwindi', 'gosnells', 'griffith',\n",
    "    'gunnedah', 'gympie', 'halls creek', 'harvey', 'hay', 'hepburn',\n",
    "    'hinchinbrook', 'hobart', 'hope vale', 'hornsby', 'horsham', 'hunters hill',\n",
    "    'inverell', 'ipswich', 'jerramungup', 'joondalup', 'junee', 'kalamunda',\n",
    "    'karratha', 'katanning', 'katherine', 'kempsey', 'kiama', 'kimba',\n",
    "    'kojonup', 'kowanyama', 'kulin', 'kyogle', 'lake grace', 'lane cove',\n",
    "    'launceston', 'laverton', 'leeton', 'leonora', 'lismore', 'lithgow',\n",
    "    'liverpool', 'lockhart', 'lockhart river', 'longreach', 'mackay',\n",
    "    'maitland', 'mandurah', 'manjimup', 'manningham', 'mansfield',\n",
    "    'mapoon', 'mareeba', 'maribyrnong', 'marion', 'melbourne', 'melton',\n",
    "    'melville', 'merredin', 'mildura', 'mingenew', 'mitcham', 'monash',\n",
    "    'moora', 'moreland', 'mornington', 'mosman', 'mosman park', 'mount barker',\n",
    "    'mount gambier', 'mount isa', 'mukinbudin', 'mundaring', 'murchison',\n",
    "    'murray bridge', 'muswellbrook', 'nannup', 'napranum', 'narembeen',\n",
    "    'narrabri', 'narrandera', 'narrogin', 'narromine', 'nedlands',\n",
    "    'newcastle', 'north sydney', 'northam', 'northampton', 'oberon', 'orange',\n",
    "    'palm island', 'palmerston', 'parkes', 'parramatta', 'penrith',\n",
    "    'peppermint grove', 'perenjori', 'perth', 'peterborough', 'pormpuraaw',\n",
    "    'port augusta', 'port hedland', 'port lincoln', 'port pirie', 'prospect',\n",
    "    'quairading', 'quilpie', 'randwick', 'ravensthorpe', 'richmond', 'robe',\n",
    "    'rockhampton', 'rockingham', 'roxby downs', 'ryde', 'salisbury',\n",
    "    'shellharbour', 'singleton', 'somerset', 'sorell', 'south perth',\n",
    "    'stirling', 'strathfield', 'streaky bay', 'subiaco', 'swan hill', 'sydney',\n",
    "    'tea tree gully', 'temora', 'tenterfield', 'three springs', 'toodyay',\n",
    "    'toowoomba', 'townsville', 'tumby bay', 'unley', 'uralla', 'victor harbor',\n",
    "    'victoria park', 'vincent', 'wagga wagga', 'wagin', 'walcha', 'walgett',\n",
    "    'walkerville', 'wangaratta', 'wanneroo', 'waroona', 'warren',\n",
    "    'warrnambool', 'waverley', 'weipa', 'wellington', 'wentworth',\n",
    "    'whittlesea', 'whyalla', 'williams', 'willoughby', 'winton', 'wodonga',\n",
    "    'wollongong', 'woollahra', 'woorabinda', 'wudinna', 'wujal wujal',\n",
    "    'wyndham', 'yankalilla', 'yarrabah', 'york'\n",
    "]\n",
    "\n",
    "edu_all['group'] = edu_all['Suburb_clean'].apply(\n",
    "    lambda x: 'Not developmental vulnerabilities' \n",
    "    if x not in dv_subs \n",
    "    else 'Developmental vulnerabilities'\n",
    ")\n",
    "\n",
    "fig = px.scatter(\n",
    "    edu_all,\n",
    "    x='service_count',\n",
    "    y='total_Approved_places',\n",
    "    color='group',\n",
    "    title='Service Count and Number of Approved Places\\n(Developmental vulnerabilities vs. Not developmental vulnerabilities suburbs)',\n",
    "    labels={\n",
    "        'service_count': 'Service Count',\n",
    "        'total_Approved_places': 'Number of Approved Places'\n",
    "    },\n",
    "    hover_data=['Suburb_clean', 'service_count', 'total_Approved_places'],\n",
    "    width=900,\n",
    "    height=500\n",
    ")\n",
    "\n",
    "fig.update_layout(\n",
    "    legend_title_text='Suburb Group',\n",
    "    margin=dict(l=40, r=40, t=60, b=40)\n",
    ")\n",
    "\n",
    "fig.show()"
   ]
  },
  {
   "cell_type": "code",
   "execution_count": 19,
   "id": "49a39d3c",
   "metadata": {},
   "outputs": [
    {
     "data": {
      "application/vnd.plotly.v1+json": {
       "config": {
        "plotlyServerURL": "https://plot.ly"
       },
       "data": [
        {
         "customdata": {
          "bdata": "AAAAAACarUAAAAAAAPqkQAAAAAAAPqNAAAAAAADkm0AAAAAAAESdQAAAAAAA4qJAAAAAAAB8nUAAAAAAAEicQAAAAAAAIJZAAAAAAABknEAAAAAAAHSdQAAAAAAAMJtAAAAAAADElUAAAAAAAGyUQAAAAAAAWJpAAAAAAACIm0AAAAAAANicQAAAAAAAYJpAAAAAAABAlUAAAAAAADiXQA==",
          "dtype": "f8",
          "shape": "20, 1"
         },
         "hovertemplate": "Service Count=%{x}<br>Suburb=%{y}<br>total_Approved_places=%{customdata[0]}<extra></extra>",
         "legendgroup": "",
         "marker": {
          "color": "#636efa",
          "pattern": {
           "shape": ""
          }
         },
         "name": "",
         "orientation": "h",
         "showlegend": false,
         "textposition": "auto",
         "type": "bar",
         "x": {
          "bdata": "OicjIiAfHh4eHRsZGRgXFhYVFRQ=",
          "dtype": "i1"
         },
         "xaxis": "x",
         "y": [
          "toowoomba",
          "croydon",
          "orange",
          "blacktown",
          "wagga wagga",
          "brighton",
          "richmond",
          "penrith",
          "liverpool",
          "frankston",
          "belmont",
          "bundaberg",
          "warrnambool",
          "coffs harbour",
          "burwood",
          "mildura",
          "randwick",
          "armadale",
          "hornsby",
          "parramatta"
         ],
         "yaxis": "y"
        }
       ],
       "layout": {
        "barmode": "relative",
        "height": 600,
        "legend": {
         "tracegroupgap": 0
        },
        "margin": {
         "b": 40,
         "l": 200,
         "r": 40,
         "t": 60
        },
        "template": {
         "data": {
          "bar": [
           {
            "error_x": {
             "color": "#2a3f5f"
            },
            "error_y": {
             "color": "#2a3f5f"
            },
            "marker": {
             "line": {
              "color": "#E5ECF6",
              "width": 0.5
             },
             "pattern": {
              "fillmode": "overlay",
              "size": 10,
              "solidity": 0.2
             }
            },
            "type": "bar"
           }
          ],
          "barpolar": [
           {
            "marker": {
             "line": {
              "color": "#E5ECF6",
              "width": 0.5
             },
             "pattern": {
              "fillmode": "overlay",
              "size": 10,
              "solidity": 0.2
             }
            },
            "type": "barpolar"
           }
          ],
          "carpet": [
           {
            "aaxis": {
             "endlinecolor": "#2a3f5f",
             "gridcolor": "white",
             "linecolor": "white",
             "minorgridcolor": "white",
             "startlinecolor": "#2a3f5f"
            },
            "baxis": {
             "endlinecolor": "#2a3f5f",
             "gridcolor": "white",
             "linecolor": "white",
             "minorgridcolor": "white",
             "startlinecolor": "#2a3f5f"
            },
            "type": "carpet"
           }
          ],
          "choropleth": [
           {
            "colorbar": {
             "outlinewidth": 0,
             "ticks": ""
            },
            "type": "choropleth"
           }
          ],
          "contour": [
           {
            "colorbar": {
             "outlinewidth": 0,
             "ticks": ""
            },
            "colorscale": [
             [
              0,
              "#0d0887"
             ],
             [
              0.1111111111111111,
              "#46039f"
             ],
             [
              0.2222222222222222,
              "#7201a8"
             ],
             [
              0.3333333333333333,
              "#9c179e"
             ],
             [
              0.4444444444444444,
              "#bd3786"
             ],
             [
              0.5555555555555556,
              "#d8576b"
             ],
             [
              0.6666666666666666,
              "#ed7953"
             ],
             [
              0.7777777777777778,
              "#fb9f3a"
             ],
             [
              0.8888888888888888,
              "#fdca26"
             ],
             [
              1,
              "#f0f921"
             ]
            ],
            "type": "contour"
           }
          ],
          "contourcarpet": [
           {
            "colorbar": {
             "outlinewidth": 0,
             "ticks": ""
            },
            "type": "contourcarpet"
           }
          ],
          "heatmap": [
           {
            "colorbar": {
             "outlinewidth": 0,
             "ticks": ""
            },
            "colorscale": [
             [
              0,
              "#0d0887"
             ],
             [
              0.1111111111111111,
              "#46039f"
             ],
             [
              0.2222222222222222,
              "#7201a8"
             ],
             [
              0.3333333333333333,
              "#9c179e"
             ],
             [
              0.4444444444444444,
              "#bd3786"
             ],
             [
              0.5555555555555556,
              "#d8576b"
             ],
             [
              0.6666666666666666,
              "#ed7953"
             ],
             [
              0.7777777777777778,
              "#fb9f3a"
             ],
             [
              0.8888888888888888,
              "#fdca26"
             ],
             [
              1,
              "#f0f921"
             ]
            ],
            "type": "heatmap"
           }
          ],
          "histogram": [
           {
            "marker": {
             "pattern": {
              "fillmode": "overlay",
              "size": 10,
              "solidity": 0.2
             }
            },
            "type": "histogram"
           }
          ],
          "histogram2d": [
           {
            "colorbar": {
             "outlinewidth": 0,
             "ticks": ""
            },
            "colorscale": [
             [
              0,
              "#0d0887"
             ],
             [
              0.1111111111111111,
              "#46039f"
             ],
             [
              0.2222222222222222,
              "#7201a8"
             ],
             [
              0.3333333333333333,
              "#9c179e"
             ],
             [
              0.4444444444444444,
              "#bd3786"
             ],
             [
              0.5555555555555556,
              "#d8576b"
             ],
             [
              0.6666666666666666,
              "#ed7953"
             ],
             [
              0.7777777777777778,
              "#fb9f3a"
             ],
             [
              0.8888888888888888,
              "#fdca26"
             ],
             [
              1,
              "#f0f921"
             ]
            ],
            "type": "histogram2d"
           }
          ],
          "histogram2dcontour": [
           {
            "colorbar": {
             "outlinewidth": 0,
             "ticks": ""
            },
            "colorscale": [
             [
              0,
              "#0d0887"
             ],
             [
              0.1111111111111111,
              "#46039f"
             ],
             [
              0.2222222222222222,
              "#7201a8"
             ],
             [
              0.3333333333333333,
              "#9c179e"
             ],
             [
              0.4444444444444444,
              "#bd3786"
             ],
             [
              0.5555555555555556,
              "#d8576b"
             ],
             [
              0.6666666666666666,
              "#ed7953"
             ],
             [
              0.7777777777777778,
              "#fb9f3a"
             ],
             [
              0.8888888888888888,
              "#fdca26"
             ],
             [
              1,
              "#f0f921"
             ]
            ],
            "type": "histogram2dcontour"
           }
          ],
          "mesh3d": [
           {
            "colorbar": {
             "outlinewidth": 0,
             "ticks": ""
            },
            "type": "mesh3d"
           }
          ],
          "parcoords": [
           {
            "line": {
             "colorbar": {
              "outlinewidth": 0,
              "ticks": ""
             }
            },
            "type": "parcoords"
           }
          ],
          "pie": [
           {
            "automargin": true,
            "type": "pie"
           }
          ],
          "scatter": [
           {
            "fillpattern": {
             "fillmode": "overlay",
             "size": 10,
             "solidity": 0.2
            },
            "type": "scatter"
           }
          ],
          "scatter3d": [
           {
            "line": {
             "colorbar": {
              "outlinewidth": 0,
              "ticks": ""
             }
            },
            "marker": {
             "colorbar": {
              "outlinewidth": 0,
              "ticks": ""
             }
            },
            "type": "scatter3d"
           }
          ],
          "scattercarpet": [
           {
            "marker": {
             "colorbar": {
              "outlinewidth": 0,
              "ticks": ""
             }
            },
            "type": "scattercarpet"
           }
          ],
          "scattergeo": [
           {
            "marker": {
             "colorbar": {
              "outlinewidth": 0,
              "ticks": ""
             }
            },
            "type": "scattergeo"
           }
          ],
          "scattergl": [
           {
            "marker": {
             "colorbar": {
              "outlinewidth": 0,
              "ticks": ""
             }
            },
            "type": "scattergl"
           }
          ],
          "scattermap": [
           {
            "marker": {
             "colorbar": {
              "outlinewidth": 0,
              "ticks": ""
             }
            },
            "type": "scattermap"
           }
          ],
          "scattermapbox": [
           {
            "marker": {
             "colorbar": {
              "outlinewidth": 0,
              "ticks": ""
             }
            },
            "type": "scattermapbox"
           }
          ],
          "scatterpolar": [
           {
            "marker": {
             "colorbar": {
              "outlinewidth": 0,
              "ticks": ""
             }
            },
            "type": "scatterpolar"
           }
          ],
          "scatterpolargl": [
           {
            "marker": {
             "colorbar": {
              "outlinewidth": 0,
              "ticks": ""
             }
            },
            "type": "scatterpolargl"
           }
          ],
          "scatterternary": [
           {
            "marker": {
             "colorbar": {
              "outlinewidth": 0,
              "ticks": ""
             }
            },
            "type": "scatterternary"
           }
          ],
          "surface": [
           {
            "colorbar": {
             "outlinewidth": 0,
             "ticks": ""
            },
            "colorscale": [
             [
              0,
              "#0d0887"
             ],
             [
              0.1111111111111111,
              "#46039f"
             ],
             [
              0.2222222222222222,
              "#7201a8"
             ],
             [
              0.3333333333333333,
              "#9c179e"
             ],
             [
              0.4444444444444444,
              "#bd3786"
             ],
             [
              0.5555555555555556,
              "#d8576b"
             ],
             [
              0.6666666666666666,
              "#ed7953"
             ],
             [
              0.7777777777777778,
              "#fb9f3a"
             ],
             [
              0.8888888888888888,
              "#fdca26"
             ],
             [
              1,
              "#f0f921"
             ]
            ],
            "type": "surface"
           }
          ],
          "table": [
           {
            "cells": {
             "fill": {
              "color": "#EBF0F8"
             },
             "line": {
              "color": "white"
             }
            },
            "header": {
             "fill": {
              "color": "#C8D4E3"
             },
             "line": {
              "color": "white"
             }
            },
            "type": "table"
           }
          ]
         },
         "layout": {
          "annotationdefaults": {
           "arrowcolor": "#2a3f5f",
           "arrowhead": 0,
           "arrowwidth": 1
          },
          "autotypenumbers": "strict",
          "coloraxis": {
           "colorbar": {
            "outlinewidth": 0,
            "ticks": ""
           }
          },
          "colorscale": {
           "diverging": [
            [
             0,
             "#8e0152"
            ],
            [
             0.1,
             "#c51b7d"
            ],
            [
             0.2,
             "#de77ae"
            ],
            [
             0.3,
             "#f1b6da"
            ],
            [
             0.4,
             "#fde0ef"
            ],
            [
             0.5,
             "#f7f7f7"
            ],
            [
             0.6,
             "#e6f5d0"
            ],
            [
             0.7,
             "#b8e186"
            ],
            [
             0.8,
             "#7fbc41"
            ],
            [
             0.9,
             "#4d9221"
            ],
            [
             1,
             "#276419"
            ]
           ],
           "sequential": [
            [
             0,
             "#0d0887"
            ],
            [
             0.1111111111111111,
             "#46039f"
            ],
            [
             0.2222222222222222,
             "#7201a8"
            ],
            [
             0.3333333333333333,
             "#9c179e"
            ],
            [
             0.4444444444444444,
             "#bd3786"
            ],
            [
             0.5555555555555556,
             "#d8576b"
            ],
            [
             0.6666666666666666,
             "#ed7953"
            ],
            [
             0.7777777777777778,
             "#fb9f3a"
            ],
            [
             0.8888888888888888,
             "#fdca26"
            ],
            [
             1,
             "#f0f921"
            ]
           ],
           "sequentialminus": [
            [
             0,
             "#0d0887"
            ],
            [
             0.1111111111111111,
             "#46039f"
            ],
            [
             0.2222222222222222,
             "#7201a8"
            ],
            [
             0.3333333333333333,
             "#9c179e"
            ],
            [
             0.4444444444444444,
             "#bd3786"
            ],
            [
             0.5555555555555556,
             "#d8576b"
            ],
            [
             0.6666666666666666,
             "#ed7953"
            ],
            [
             0.7777777777777778,
             "#fb9f3a"
            ],
            [
             0.8888888888888888,
             "#fdca26"
            ],
            [
             1,
             "#f0f921"
            ]
           ]
          },
          "colorway": [
           "#636efa",
           "#EF553B",
           "#00cc96",
           "#ab63fa",
           "#FFA15A",
           "#19d3f3",
           "#FF6692",
           "#B6E880",
           "#FF97FF",
           "#FECB52"
          ],
          "font": {
           "color": "#2a3f5f"
          },
          "geo": {
           "bgcolor": "white",
           "lakecolor": "white",
           "landcolor": "#E5ECF6",
           "showlakes": true,
           "showland": true,
           "subunitcolor": "white"
          },
          "hoverlabel": {
           "align": "left"
          },
          "hovermode": "closest",
          "mapbox": {
           "style": "light"
          },
          "paper_bgcolor": "white",
          "plot_bgcolor": "#E5ECF6",
          "polar": {
           "angularaxis": {
            "gridcolor": "white",
            "linecolor": "white",
            "ticks": ""
           },
           "bgcolor": "#E5ECF6",
           "radialaxis": {
            "gridcolor": "white",
            "linecolor": "white",
            "ticks": ""
           }
          },
          "scene": {
           "xaxis": {
            "backgroundcolor": "#E5ECF6",
            "gridcolor": "white",
            "gridwidth": 2,
            "linecolor": "white",
            "showbackground": true,
            "ticks": "",
            "zerolinecolor": "white"
           },
           "yaxis": {
            "backgroundcolor": "#E5ECF6",
            "gridcolor": "white",
            "gridwidth": 2,
            "linecolor": "white",
            "showbackground": true,
            "ticks": "",
            "zerolinecolor": "white"
           },
           "zaxis": {
            "backgroundcolor": "#E5ECF6",
            "gridcolor": "white",
            "gridwidth": 2,
            "linecolor": "white",
            "showbackground": true,
            "ticks": "",
            "zerolinecolor": "white"
           }
          },
          "shapedefaults": {
           "line": {
            "color": "#2a3f5f"
           }
          },
          "ternary": {
           "aaxis": {
            "gridcolor": "white",
            "linecolor": "white",
            "ticks": ""
           },
           "baxis": {
            "gridcolor": "white",
            "linecolor": "white",
            "ticks": ""
           },
           "bgcolor": "#E5ECF6",
           "caxis": {
            "gridcolor": "white",
            "linecolor": "white",
            "ticks": ""
           }
          },
          "title": {
           "x": 0.05
          },
          "xaxis": {
           "automargin": true,
           "gridcolor": "white",
           "linecolor": "white",
           "ticks": "",
           "title": {
            "standoff": 15
           },
           "zerolinecolor": "white",
           "zerolinewidth": 2
          },
          "yaxis": {
           "automargin": true,
           "gridcolor": "white",
           "linecolor": "white",
           "ticks": "",
           "title": {
            "standoff": 15
           },
           "zerolinecolor": "white",
           "zerolinewidth": 2
          }
         }
        },
        "title": {
         "text": "Top 20 DV Suburbs by Service Count"
        },
        "width": 900,
        "xaxis": {
         "anchor": "y",
         "domain": [
          0,
          1
         ],
         "title": {
          "text": "Service Count"
         }
        },
        "yaxis": {
         "anchor": "x",
         "categoryorder": "total ascending",
         "domain": [
          0,
          1
         ],
         "title": {
          "text": "Suburb"
         }
        }
       }
      },
      "image/png": "[encoded data removed]"
     },
     "metadata": {},
     "output_type": "display_data"
    }
   ],
   "source": [
    "edu_all = (\n",
    "    edu\n",
    "    .groupby('Suburb_clean')\n",
    "    .agg(\n",
    "        service_count=('ServiceName', 'nunique'),\n",
    "        total_Approved_places=('NumberOfApprovedPlaces', 'sum')\n",
    "    )\n",
    "    .reset_index()\n",
    ")\n",
    "\n",
    "dv_data = (\n",
    "    edu_all[edu_all['Suburb_clean'].isin(dv_subs)]\n",
    "    .sort_values('service_count', ascending=False)\n",
    "    .head(20)  \n",
    ")\n",
    "\n",
    "fig = px.bar(\n",
    "    dv_data,\n",
    "    x='service_count',\n",
    "    y='Suburb_clean',\n",
    "    orientation='h',\n",
    "    title='Top 20 DV Suburbs by Service Count',\n",
    "    labels={\n",
    "        'service_count': 'Service Count',\n",
    "        'Suburb_clean': 'Suburb'\n",
    "    },\n",
    "    hover_data=['service_count', 'total_Approved_places'],\n",
    "    width=900,\n",
    "    height=600\n",
    ")\n",
    "\n",
    "fig.update_layout(\n",
    "    yaxis=dict(\n",
    "        categoryorder='total ascending'  \n",
    "    ),\n",
    "    margin=dict(l=200, r=40, t=60, b=40)  \n",
    ")\n",
    "\n",
    "fig.show()"
   ]
  },
  {
   "cell_type": "code",
   "execution_count": 20,
   "id": "99e70503",
   "metadata": {},
   "outputs": [
    {
     "data": {
      "text/html": [
       "<div>\n",
       "<style scoped>\n",
       "    .dataframe tbody tr th:only-of-type {\n",
       "        vertical-align: middle;\n",
       "    }\n",
       "\n",
       "    .dataframe tbody tr th {\n",
       "        vertical-align: top;\n",
       "    }\n",
       "\n",
       "    .dataframe thead th {\n",
       "        text-align: right;\n",
       "    }\n",
       "</style>\n",
       "<table border=\"1\" class=\"dataframe\">\n",
       "  <thead>\n",
       "    <tr style=\"text-align: right;\">\n",
       "      <th></th>\n",
       "      <th>state</th>\n",
       "      <th>count</th>\n",
       "    </tr>\n",
       "  </thead>\n",
       "  <tbody>\n",
       "    <tr>\n",
       "      <th>0</th>\n",
       "      <td>NSW</td>\n",
       "      <td>6</td>\n",
       "    </tr>\n",
       "    <tr>\n",
       "      <th>1</th>\n",
       "      <td>VIC</td>\n",
       "      <td>6</td>\n",
       "    </tr>\n",
       "    <tr>\n",
       "      <th>2</th>\n",
       "      <td>QLD</td>\n",
       "      <td>3</td>\n",
       "    </tr>\n",
       "    <tr>\n",
       "      <th>3</th>\n",
       "      <td>SA</td>\n",
       "      <td>2</td>\n",
       "    </tr>\n",
       "    <tr>\n",
       "      <th>4</th>\n",
       "      <td>WA</td>\n",
       "      <td>2</td>\n",
       "    </tr>\n",
       "    <tr>\n",
       "      <th>5</th>\n",
       "      <td>NT</td>\n",
       "      <td>1</td>\n",
       "    </tr>\n",
       "  </tbody>\n",
       "</table>\n",
       "</div>"
      ],
      "text/plain": [
       "  state  count\n",
       "0   NSW      6\n",
       "1   VIC      6\n",
       "2   QLD      3\n",
       "3    SA      2\n",
       "4    WA      2\n",
       "5    NT      1"
      ]
     },
     "execution_count": 20,
     "metadata": {},
     "output_type": "execute_result"
    }
   ],
   "source": [
    "top20_suburbs = dv_subs[:20]\n",
    "\n",
    "edu['OverallRating_num'] = pd.to_numeric(edu['OverallRating'], errors='coerce')\n",
    "\n",
    "top20_states = (\n",
    "    edu[edu['Suburb_clean'].isin(top20_suburbs)]\n",
    "    .groupby('Suburb_clean')\n",
    "    .agg(state=('State', 'first'))\n",
    "    .reset_index()\n",
    ")\n",
    "state_counts = top20_states['state'].value_counts().reset_index()\n",
    "state_counts.columns = ['state', 'count']\n",
    "state_counts"
   ]
  },
  {
   "cell_type": "code",
   "execution_count": 21,
   "id": "d5a13a38",
   "metadata": {},
   "outputs": [
    {
     "data": {
      "application/vnd.plotly.v1+json": {
       "config": {
        "plotlyServerURL": "https://plot.ly"
       },
       "data": [
        {
         "hovertemplate": "State=%{x}<br>Number of Suburbs=%{y}<extra></extra>",
         "legendgroup": "",
         "marker": {
          "color": "#636efa",
          "pattern": {
           "shape": ""
          }
         },
         "name": "",
         "orientation": "v",
         "showlegend": false,
         "textposition": "auto",
         "type": "bar",
         "x": [
          "NSW",
          "VIC",
          "QLD",
          "SA",
          "WA",
          "NT"
         ],
         "xaxis": "x",
         "y": {
          "bdata": "BgYDAgIB",
          "dtype": "i1"
         },
         "yaxis": "y"
        }
       ],
       "layout": {
        "barmode": "relative",
        "height": 500,
        "legend": {
         "tracegroupgap": 0
        },
        "margin": {
         "b": 40,
         "l": 40,
         "r": 40,
         "t": 60
        },
        "template": {
         "data": {
          "bar": [
           {
            "error_x": {
             "color": "#2a3f5f"
            },
            "error_y": {
             "color": "#2a3f5f"
            },
            "marker": {
             "line": {
              "color": "#E5ECF6",
              "width": 0.5
             },
             "pattern": {
              "fillmode": "overlay",
              "size": 10,
              "solidity": 0.2
             }
            },
            "type": "bar"
           }
          ],
          "barpolar": [
           {
            "marker": {
             "line": {
              "color": "#E5ECF6",
              "width": 0.5
             },
             "pattern": {
              "fillmode": "overlay",
              "size": 10,
              "solidity": 0.2
             }
            },
            "type": "barpolar"
           }
          ],
          "carpet": [
           {
            "aaxis": {
             "endlinecolor": "#2a3f5f",
             "gridcolor": "white",
             "linecolor": "white",
             "minorgridcolor": "white",
             "startlinecolor": "#2a3f5f"
            },
            "baxis": {
             "endlinecolor": "#2a3f5f",
             "gridcolor": "white",
             "linecolor": "white",
             "minorgridcolor": "white",
             "startlinecolor": "#2a3f5f"
            },
            "type": "carpet"
           }
          ],
          "choropleth": [
           {
            "colorbar": {
             "outlinewidth": 0,
             "ticks": ""
            },
            "type": "choropleth"
           }
          ],
          "contour": [
           {
            "colorbar": {
             "outlinewidth": 0,
             "ticks": ""
            },
            "colorscale": [
             [
              0,
              "#0d0887"
             ],
             [
              0.1111111111111111,
              "#46039f"
             ],
             [
              0.2222222222222222,
              "#7201a8"
             ],
             [
              0.3333333333333333,
              "#9c179e"
             ],
             [
              0.4444444444444444,
              "#bd3786"
             ],
             [
              0.5555555555555556,
              "#d8576b"
             ],
             [
              0.6666666666666666,
              "#ed7953"
             ],
             [
              0.7777777777777778,
              "#fb9f3a"
             ],
             [
              0.8888888888888888,
              "#fdca26"
             ],
             [
              1,
              "#f0f921"
             ]
            ],
            "type": "contour"
           }
          ],
          "contourcarpet": [
           {
            "colorbar": {
             "outlinewidth": 0,
             "ticks": ""
            },
            "type": "contourcarpet"
           }
          ],
          "heatmap": [
           {
            "colorbar": {
             "outlinewidth": 0,
             "ticks": ""
            },
            "colorscale": [
             [
              0,
              "#0d0887"
             ],
             [
              0.1111111111111111,
              "#46039f"
             ],
             [
              0.2222222222222222,
              "#7201a8"
             ],
             [
              0.3333333333333333,
              "#9c179e"
             ],
             [
              0.4444444444444444,
              "#bd3786"
             ],
             [
              0.5555555555555556,
              "#d8576b"
             ],
             [
              0.6666666666666666,
              "#ed7953"
             ],
             [
              0.7777777777777778,
              "#fb9f3a"
             ],
             [
              0.8888888888888888,
              "#fdca26"
             ],
             [
              1,
              "#f0f921"
             ]
            ],
            "type": "heatmap"
           }
          ],
          "histogram": [
           {
            "marker": {
             "pattern": {
              "fillmode": "overlay",
              "size": 10,
              "solidity": 0.2
             }
            },
            "type": "histogram"
           }
          ],
          "histogram2d": [
           {
            "colorbar": {
             "outlinewidth": 0,
             "ticks": ""
            },
            "colorscale": [
             [
              0,
              "#0d0887"
             ],
             [
              0.1111111111111111,
              "#46039f"
             ],
             [
              0.2222222222222222,
              "#7201a8"
             ],
             [
              0.3333333333333333,
              "#9c179e"
             ],
             [
              0.4444444444444444,
              "#bd3786"
             ],
             [
              0.5555555555555556,
              "#d8576b"
             ],
             [
              0.6666666666666666,
              "#ed7953"
             ],
             [
              0.7777777777777778,
              "#fb9f3a"
             ],
             [
              0.8888888888888888,
              "#fdca26"
             ],
             [
              1,
              "#f0f921"
             ]
            ],
            "type": "histogram2d"
           }
          ],
          "histogram2dcontour": [
           {
            "colorbar": {
             "outlinewidth": 0,
             "ticks": ""
            },
            "colorscale": [
             [
              0,
              "#0d0887"
             ],
             [
              0.1111111111111111,
              "#46039f"
             ],
             [
              0.2222222222222222,
              "#7201a8"
             ],
             [
              0.3333333333333333,
              "#9c179e"
             ],
             [
              0.4444444444444444,
              "#bd3786"
             ],
             [
              0.5555555555555556,
              "#d8576b"
             ],
             [
              0.6666666666666666,
              "#ed7953"
             ],
             [
              0.7777777777777778,
              "#fb9f3a"
             ],
             [
              0.8888888888888888,
              "#fdca26"
             ],
             [
              1,
              "#f0f921"
             ]
            ],
            "type": "histogram2dcontour"
           }
          ],
          "mesh3d": [
           {
            "colorbar": {
             "outlinewidth": 0,
             "ticks": ""
            },
            "type": "mesh3d"
           }
          ],
          "parcoords": [
           {
            "line": {
             "colorbar": {
              "outlinewidth": 0,
              "ticks": ""
             }
            },
            "type": "parcoords"
           }
          ],
          "pie": [
           {
            "automargin": true,
            "type": "pie"
           }
          ],
          "scatter": [
           {
            "fillpattern": {
             "fillmode": "overlay",
             "size": 10,
             "solidity": 0.2
            },
            "type": "scatter"
           }
          ],
          "scatter3d": [
           {
            "line": {
             "colorbar": {
              "outlinewidth": 0,
              "ticks": ""
             }
            },
            "marker": {
             "colorbar": {
              "outlinewidth": 0,
              "ticks": ""
             }
            },
            "type": "scatter3d"
           }
          ],
          "scattercarpet": [
           {
            "marker": {
             "colorbar": {
              "outlinewidth": 0,
              "ticks": ""
             }
            },
            "type": "scattercarpet"
           }
          ],
          "scattergeo": [
           {
            "marker": {
             "colorbar": {
              "outlinewidth": 0,
              "ticks": ""
             }
            },
            "type": "scattergeo"
           }
          ],
          "scattergl": [
           {
            "marker": {
             "colorbar": {
              "outlinewidth": 0,
              "ticks": ""
             }
            },
            "type": "scattergl"
           }
          ],
          "scattermap": [
           {
            "marker": {
             "colorbar": {
              "outlinewidth": 0,
              "ticks": ""
             }
            },
            "type": "scattermap"
           }
          ],
          "scattermapbox": [
           {
            "marker": {
             "colorbar": {
              "outlinewidth": 0,
              "ticks": ""
             }
            },
            "type": "scattermapbox"
           }
          ],
          "scatterpolar": [
           {
            "marker": {
             "colorbar": {
              "outlinewidth": 0,
              "ticks": ""
             }
            },
            "type": "scatterpolar"
           }
          ],
          "scatterpolargl": [
           {
            "marker": {
             "colorbar": {
              "outlinewidth": 0,
              "ticks": ""
             }
            },
            "type": "scatterpolargl"
           }
          ],
          "scatterternary": [
           {
            "marker": {
             "colorbar": {
              "outlinewidth": 0,
              "ticks": ""
             }
            },
            "type": "scatterternary"
           }
          ],
          "surface": [
           {
            "colorbar": {
             "outlinewidth": 0,
             "ticks": ""
            },
            "colorscale": [
             [
              0,
              "#0d0887"
             ],
             [
              0.1111111111111111,
              "#46039f"
             ],
             [
              0.2222222222222222,
              "#7201a8"
             ],
             [
              0.3333333333333333,
              "#9c179e"
             ],
             [
              0.4444444444444444,
              "#bd3786"
             ],
             [
              0.5555555555555556,
              "#d8576b"
             ],
             [
              0.6666666666666666,
              "#ed7953"
             ],
             [
              0.7777777777777778,
              "#fb9f3a"
             ],
             [
              0.8888888888888888,
              "#fdca26"
             ],
             [
              1,
              "#f0f921"
             ]
            ],
            "type": "surface"
           }
          ],
          "table": [
           {
            "cells": {
             "fill": {
              "color": "#EBF0F8"
             },
             "line": {
              "color": "white"
             }
            },
            "header": {
             "fill": {
              "color": "#C8D4E3"
             },
             "line": {
              "color": "white"
             }
            },
            "type": "table"
           }
          ]
         },
         "layout": {
          "annotationdefaults": {
           "arrowcolor": "#2a3f5f",
           "arrowhead": 0,
           "arrowwidth": 1
          },
          "autotypenumbers": "strict",
          "coloraxis": {
           "colorbar": {
            "outlinewidth": 0,
            "ticks": ""
           }
          },
          "colorscale": {
           "diverging": [
            [
             0,
             "#8e0152"
            ],
            [
             0.1,
             "#c51b7d"
            ],
            [
             0.2,
             "#de77ae"
            ],
            [
             0.3,
             "#f1b6da"
            ],
            [
             0.4,
             "#fde0ef"
            ],
            [
             0.5,
             "#f7f7f7"
            ],
            [
             0.6,
             "#e6f5d0"
            ],
            [
             0.7,
             "#b8e186"
            ],
            [
             0.8,
             "#7fbc41"
            ],
            [
             0.9,
             "#4d9221"
            ],
            [
             1,
             "#276419"
            ]
           ],
           "sequential": [
            [
             0,
             "#0d0887"
            ],
            [
             0.1111111111111111,
             "#46039f"
            ],
            [
             0.2222222222222222,
             "#7201a8"
            ],
            [
             0.3333333333333333,
             "#9c179e"
            ],
            [
             0.4444444444444444,
             "#bd3786"
            ],
            [
             0.5555555555555556,
             "#d8576b"
            ],
            [
             0.6666666666666666,
             "#ed7953"
            ],
            [
             0.7777777777777778,
             "#fb9f3a"
            ],
            [
             0.8888888888888888,
             "#fdca26"
            ],
            [
             1,
             "#f0f921"
            ]
           ],
           "sequentialminus": [
            [
             0,
             "#0d0887"
            ],
            [
             0.1111111111111111,
             "#46039f"
            ],
            [
             0.2222222222222222,
             "#7201a8"
            ],
            [
             0.3333333333333333,
             "#9c179e"
            ],
            [
             0.4444444444444444,
             "#bd3786"
            ],
            [
             0.5555555555555556,
             "#d8576b"
            ],
            [
             0.6666666666666666,
             "#ed7953"
            ],
            [
             0.7777777777777778,
             "#fb9f3a"
            ],
            [
             0.8888888888888888,
             "#fdca26"
            ],
            [
             1,
             "#f0f921"
            ]
           ]
          },
          "colorway": [
           "#636efa",
           "#EF553B",
           "#00cc96",
           "#ab63fa",
           "#FFA15A",
           "#19d3f3",
           "#FF6692",
           "#B6E880",
           "#FF97FF",
           "#FECB52"
          ],
          "font": {
           "color": "#2a3f5f"
          },
          "geo": {
           "bgcolor": "white",
           "lakecolor": "white",
           "landcolor": "#E5ECF6",
           "showlakes": true,
           "showland": true,
           "subunitcolor": "white"
          },
          "hoverlabel": {
           "align": "left"
          },
          "hovermode": "closest",
          "mapbox": {
           "style": "light"
          },
          "paper_bgcolor": "white",
          "plot_bgcolor": "#E5ECF6",
          "polar": {
           "angularaxis": {
            "gridcolor": "white",
            "linecolor": "white",
            "ticks": ""
           },
           "bgcolor": "#E5ECF6",
           "radialaxis": {
            "gridcolor": "white",
            "linecolor": "white",
            "ticks": ""
           }
          },
          "scene": {
           "xaxis": {
            "backgroundcolor": "#E5ECF6",
            "gridcolor": "white",
            "gridwidth": 2,
            "linecolor": "white",
            "showbackground": true,
            "ticks": "",
            "zerolinecolor": "white"
           },
           "yaxis": {
            "backgroundcolor": "#E5ECF6",
            "gridcolor": "white",
            "gridwidth": 2,
            "linecolor": "white",
            "showbackground": true,
            "ticks": "",
            "zerolinecolor": "white"
           },
           "zaxis": {
            "backgroundcolor": "#E5ECF6",
            "gridcolor": "white",
            "gridwidth": 2,
            "linecolor": "white",
            "showbackground": true,
            "ticks": "",
            "zerolinecolor": "white"
           }
          },
          "shapedefaults": {
           "line": {
            "color": "#2a3f5f"
           }
          },
          "ternary": {
           "aaxis": {
            "gridcolor": "white",
            "linecolor": "white",
            "ticks": ""
           },
           "baxis": {
            "gridcolor": "white",
            "linecolor": "white",
            "ticks": ""
           },
           "bgcolor": "#E5ECF6",
           "caxis": {
            "gridcolor": "white",
            "linecolor": "white",
            "ticks": ""
           }
          },
          "title": {
           "x": 0.05
          },
          "xaxis": {
           "automargin": true,
           "gridcolor": "white",
           "linecolor": "white",
           "ticks": "",
           "title": {
            "standoff": 15
           },
           "zerolinecolor": "white",
           "zerolinewidth": 2
          },
          "yaxis": {
           "automargin": true,
           "gridcolor": "white",
           "linecolor": "white",
           "ticks": "",
           "title": {
            "standoff": 15
           },
           "zerolinecolor": "white",
           "zerolinewidth": 2
          }
         }
        },
        "title": {
         "text": "Top 20 Suburbs by Service Count Across States"
        },
        "width": 800,
        "xaxis": {
         "anchor": "y",
         "domain": [
          0,
          1
         ],
         "tickangle": -45,
         "title": {
          "text": "State"
         }
        },
        "yaxis": {
         "anchor": "x",
         "domain": [
          0,
          1
         ],
         "title": {
          "text": "Number of Suburbs"
         }
        }
       }
      },
      "image/png": "[encoded data removed]"
     },
     "metadata": {},
     "output_type": "display_data"
    }
   ],
   "source": [
    "fig = px.bar(\n",
    "    state_counts,\n",
    "    x='state',\n",
    "    y='count',\n",
    "    title='Top 20 Suburbs by Service Count Across States',\n",
    "    labels={'state': 'State', 'count': 'Number of Suburbs'},\n",
    "    width=800,\n",
    "    height=500\n",
    ")\n",
    "fig.update_layout(\n",
    "    xaxis_tickangle=-45,\n",
    "    margin=dict(l=40, r=40, t=60, b=40)\n",
    ")\n",
    "fig.show()"
   ]
  }
 ],
 "metadata": {
  "kernelspec": {
   "display_name": "Python 3 (ipykernel)",
   "language": "python",
   "name": "python3"
  },
  "language_info": {
   "codemirror_mode": {
    "name": "ipython",
    "version": 3
   },
   "file_extension": ".py",
   "mimetype": "text/x-python",
   "name": "python",
   "nbconvert_exporter": "python",
   "pygments_lexer": "ipython3",
   "version": "3.9.23"
  }
 },
 "nbformat": 4,
 "nbformat_minor": 5
}
